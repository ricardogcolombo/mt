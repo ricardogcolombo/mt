{
 "cells": [
  {
   "cell_type": "markdown",
   "metadata": {
    "colab_type": "text",
    "id": "NUzhPc_WIGY5"
   },
   "source": [
    "# Análisis de Sentimiento - Parte 2 (PCA)\n",
    "\n",
    "\n",
    "Primero, bajemos los datos"
   ]
  },
  {
   "cell_type": "code",
   "execution_count": null,
   "metadata": {
    "colab": {
     "base_uri": "https://localhost:8080/",
     "height": 339
    },
    "colab_type": "code",
    "id": "9C1u3Ynu_zkF",
    "outputId": "0530543f-4fe5-4739-b7de-5c9e2b16d41c"
   },
   "outputs": [
    {
     "name": "stdout",
     "output_type": "stream",
     "text": [
      "--2020-06-06 17:32:19--  https://github.com/finiteautomata/imdb-dataset/raw/master/imdb_dataset.csv.zip\n",
      "Resolving github.com (github.com)... 18.228.67.229\n",
      "Connecting to github.com (github.com)|18.228.67.229|:443... connected.\n",
      "HTTP request sent, awaiting response... 302 Found\n",
      "Location: https://raw.githubusercontent.com/finiteautomata/imdb-dataset/master/imdb_dataset.csv.zip [following]\n",
      "--2020-06-06 17:32:20--  https://raw.githubusercontent.com/finiteautomata/imdb-dataset/master/imdb_dataset.csv.zip\n",
      "Resolving raw.githubusercontent.com (raw.githubusercontent.com)... 151.101.220.133\n",
      "Connecting to raw.githubusercontent.com (raw.githubusercontent.com)|151.101.220.133|:443... connected.\n",
      "HTTP request sent, awaiting response... 200 OK\n",
      "Length: 26962657 (26M) [application/zip]\n",
      "Saving to: ‘imdb_dataset.csv.zip’\n",
      "\n",
      "imdb_dataset.csv.zi  68%[============>       ]  17,74M   204KB/s    eta 33s    "
     ]
    }
   ],
   "source": [
    "!wget https://github.com/finiteautomata/imdb-dataset/raw/master/imdb_dataset.csv.zip\n",
    "!unzip imdb_dataset.csv.zip"
   ]
  },
  {
   "cell_type": "markdown",
   "metadata": {
    "colab_type": "text",
    "id": "pUldpADdrgTH"
   },
   "source": [
    "## Método de la Potencia"
   ]
  },
  {
   "cell_type": "code",
   "execution_count": 1,
   "metadata": {
    "colab": {},
    "colab_type": "code",
    "id": "pPF2JzZk1TfO"
   },
   "outputs": [],
   "source": [
    "import numpy as np\n",
    "\n",
    "def power_iteration(A, niter=1000, eps=1e-6):\n",
    "    b = np.random.rand(A.shape[1])\n",
    "    b = b / np.linalg.norm(b)\n",
    "\n",
    "    for i in range(niter):\n",
    "        old = b\n",
    "        b = A @ b\n",
    "        b = b / np.linalg.norm(b)\n",
    "\n",
    "        # <a, b> = |a| |b| cos(angle)\n",
    "        # -1 < cos(angle) < 1\n",
    "        cos_angle = np.dot(b, old)\n",
    "        if (1 - eps) < cos_angle <= 1:\n",
    "            print(f\"Paré en la iteración {i+1}\")\n",
    "            break\n",
    "\n",
    "    eigenvalue = np.dot(b, A @ b)\n",
    "    return eigenvalue, b\n"
   ]
  },
  {
   "cell_type": "code",
   "execution_count": 2,
   "metadata": {
    "colab": {},
    "colab_type": "code",
    "id": "M9We3yXw5iUl"
   },
   "outputs": [],
   "source": [
    "D = np.diag(range(100, 0, -1))\n",
    "\n",
    "v = np.ones((D.shape[0], 1))\n",
    "v = v / np.linalg.norm(v)\n",
    "\n",
    "# Matriz de Householder\n",
    "B = np.eye(D.shape[0]) - 2 * (v @ v.T)\n",
    "\n",
    "# Matriz ya diagonalizada\n",
    "M = D\n",
    "\n"
   ]
  },
  {
   "cell_type": "code",
   "execution_count": null,
   "metadata": {
    "colab": {},
    "colab_type": "code",
    "id": "wECDLpmAiJ3D"
   },
   "outputs": [],
   "source": []
  },
  {
   "cell_type": "code",
   "execution_count": 3,
   "metadata": {
    "colab": {
     "base_uri": "https://localhost:8080/",
     "height": 67
    },
    "colab_type": "code",
    "id": "7k0-OqXb1lMB",
    "outputId": "9d7aeea5-9114-4c89-9f6b-e50cb60dd04d"
   },
   "outputs": [
    {
     "name": "stdout",
     "output_type": "stream",
     "text": [
      "Paré en la iteración 306\n",
      "CPU times: user 94.5 ms, sys: 84.2 ms, total: 179 ms\n",
      "Wall time: 77.7 ms\n"
     ]
    }
   ],
   "source": [
    "%%time\n",
    "l, v = power_iteration(M, niter=1000, eps=1e-7)\n",
    "\n"
   ]
  },
  {
   "cell_type": "code",
   "execution_count": null,
   "metadata": {
    "colab": {
     "base_uri": "https://localhost:8080/",
     "height": 454
    },
    "colab_type": "code",
    "id": "FfhA3rkZ74sr",
    "outputId": "bdb136d5-c1c7-40f6-f925-fc2683e403eb"
   },
   "outputs": [],
   "source": [
    "l, v"
   ]
  },
  {
   "cell_type": "code",
   "execution_count": 4,
   "metadata": {
    "colab": {},
    "colab_type": "code",
    "id": "QHgIjTT4qzCY"
   },
   "outputs": [],
   "source": [
    "\n",
    "\n",
    "def eigen(A, num=2, **kwargs):\n",
    "    A = A.copy()\n",
    "    eigenvalues = []\n",
    "    eigenvectors = np.zeros((A.shape[0], num))\n",
    "    for i in range(num):\n",
    "        print(f\"Autovalor {i+1}\")\n",
    "        l, v = power_iteration(A, **kwargs)\n",
    "        eigenvalues.append(l)\n",
    "        eigenvectors[:, i] = v\n",
    "        \n",
    "        A = A - l * np.outer(v, v)\n",
    "        \n",
    "    return np.array(eigenvalues), eigenvectors\n"
   ]
  },
  {
   "cell_type": "code",
   "execution_count": 5,
   "metadata": {
    "colab": {
     "base_uri": "https://localhost:8080/",
     "height": 67
    },
    "colab_type": "code",
    "id": "2XufXoT0iQsF",
    "outputId": "ad3b5f24-c049-4b68-d918-2c0bed58584d"
   },
   "outputs": [
    {
     "name": "stdout",
     "output_type": "stream",
     "text": [
      "Autovalor 1\n",
      "Autovalor 2\n",
      "Autovalor 3\n"
     ]
    }
   ],
   "source": [
    "A = np.array([\n",
    "  [7, 2, 3],\n",
    "  [0, 2, 0],\n",
    "  [-6, -2, -2]\n",
    "])\n",
    "\n",
    "w, V = eigen(A, num=3, niter=20000, eps=1e-24)"
   ]
  },
  {
   "cell_type": "code",
   "execution_count": 6,
   "metadata": {
    "colab": {
     "base_uri": "https://localhost:8080/",
     "height": 168
    },
    "colab_type": "code",
    "id": "B_1pt4VIj92Q",
    "outputId": "6e7fb1fb-2601-4fe5-9b88-ad8045716cca"
   },
   "outputs": [
    {
     "name": "stdout",
     "output_type": "stream",
     "text": [
      "True\n",
      "[ 2.82842712  0.         -2.82842712]\n",
      "[ 2.82842712  0.         -2.82842712]\n",
      "False\n",
      "[ 3.46410162  1.15470054 -3.46410162]\n",
      "[ 1.15470054  1.15470054 -1.15470054]\n",
      "False\n",
      "[-2.0302589  -1.87408514  2.18643267]\n",
      "[-0.15617376 -0.93704257  0.31234752]\n"
     ]
    }
   ],
   "source": [
    "for i in range(len(A)):\n",
    "    print(np.allclose(A @ V[:, i], w[i] * V[:,i]))\n",
    "    print(A @ V[:, i])\n",
    "    print(w[i] * V[:,i])\n",
    "        "
   ]
  },
  {
   "cell_type": "code",
   "execution_count": null,
   "metadata": {
    "colab": {
     "base_uri": "https://localhost:8080/",
     "height": 50
    },
    "colab_type": "code",
    "id": "0OWIV8AklWL-",
    "outputId": "fa2d7a81-6562-4ff0-add2-b1fc341f64f9"
   },
   "outputs": [],
   "source": []
  },
  {
   "cell_type": "markdown",
   "metadata": {
    "colab_type": "text",
    "id": "6ErkQclkrpol"
   },
   "source": [
    "Veamos algunos ejemplos..."
   ]
  },
  {
   "cell_type": "code",
   "execution_count": 7,
   "metadata": {
    "colab": {
     "base_uri": "https://localhost:8080/",
     "height": 622
    },
    "colab_type": "code",
    "id": "cgra3OV0ruZb",
    "outputId": "92f601d6-12bf-4b59-cebe-41c4aa0117d7"
   },
   "outputs": [
    {
     "name": "stdout",
     "output_type": "stream",
     "text": [
      "Autovalor 1\n",
      "Paré en la iteración 295\n",
      "Autovalor 2\n",
      "Paré en la iteración 433\n",
      "Autovalor 3\n",
      "Paré en la iteración 400\n",
      "Autovalor 4\n",
      "Paré en la iteración 420\n",
      "Autovalor 5\n",
      "Paré en la iteración 395\n",
      "Autovalor 6\n",
      "Paré en la iteración 390\n",
      "Autovalor 7\n",
      "Paré en la iteración 431\n",
      "Autovalor 8\n",
      "Paré en la iteración 320\n",
      "Autovalor 9\n",
      "Paré en la iteración 315\n",
      "Autovalor 10\n",
      "Paré en la iteración 455\n"
     ]
    },
    {
     "data": {
      "text/plain": [
       "(array([999.04188605, 998.52834512, 997.71030171, 995.35253261,\n",
       "        996.49821932, 996.13061114, 994.04389994, 992.09633924,\n",
       "        989.87970101, 991.9009454 ]),\n",
       " array([[-0.72338918,  0.6579003 ,  0.05198151, ...,  0.02370883,\n",
       "          0.01399858, -0.05170293],\n",
       "        [-0.43130115, -0.30247453, -0.54866535, ..., -0.03176792,\n",
       "          0.0198307 ,  0.13713332],\n",
       "        [-0.4305532 , -0.56444129,  0.60443174, ...,  0.0257758 ,\n",
       "          0.0578574 ,  0.00866307],\n",
       "        ...,\n",
       "        [ 0.00453309,  0.00240904,  0.00177325, ...,  0.00275875,\n",
       "          0.00292448,  0.00078931],\n",
       "        [ 0.00453309,  0.00240904,  0.00177325, ...,  0.00275875,\n",
       "          0.00292448,  0.00078931],\n",
       "        [ 0.00453309,  0.00240904,  0.00177325, ...,  0.00275875,\n",
       "          0.00292448,  0.00078931]]))"
      ]
     },
     "execution_count": 7,
     "metadata": {},
     "output_type": "execute_result"
    }
   ],
   "source": [
    "D = np.diag(range(1000, 0, -1))\n",
    "\n",
    "v = np.ones((D.shape[0], 1))\n",
    "v = v / np.linalg.norm(v)\n",
    "\n",
    "# Matriz de Householder\n",
    "B = np.eye(D.shape[0]) - 2 * (v @ v.T)\n",
    "\n",
    "# Matriz ya diagonalizada\n",
    "M = B.T @ D @ B\n",
    "\n",
    "eigen(M, 10, niter=1000, eps=1e-6)"
   ]
  },
  {
   "cell_type": "markdown",
   "metadata": {
    "colab_type": "text",
    "id": "BoTZ3W67rxI-"
   },
   "source": [
    "## Volvamos a Análisis de Sentimiento"
   ]
  },
  {
   "cell_type": "code",
   "execution_count": 8,
   "metadata": {
    "colab": {
     "base_uri": "https://localhost:8080/",
     "height": 50
    },
    "colab_type": "code",
    "id": "s5S1vfeQoAmw",
    "outputId": "054b6b54-e3f5-4f19-ea57-967a43f1525e"
   },
   "outputs": [
    {
     "name": "stdout",
     "output_type": "stream",
     "text": [
      "Class balance : 0.5007 pos 0.4993 neg\n",
      "Cantidad de documentos: 50000\n"
     ]
    }
   ],
   "source": [
    "import pandas as pd \n",
    "import sklearn\n",
    "\n",
    "df = pd.read_csv(\"IMDB Dataset.csv\")\n",
    "df = df.sample(frac=1, random_state=2020)\n",
    "\n",
    "df_train = df[:10000]\n",
    "df_test = df[10000:13000]\n",
    "\n",
    "text_train, text_test = df_train[\"review\"], df_test[\"review\"]\n",
    "label_train, label_test = df_train[\"sentiment\"], df_test[\"sentiment\"]\n",
    "\n",
    "print(\"Class balance : {} pos {} neg\".format(\n",
    "    (label_train == 'positive').sum() / label_train.shape[0], \n",
    "    (label_train == 'negative').sum() / label_train.shape[0]\n",
    "))\n",
    "print(\"Cantidad de documentos: {}\".format(df.shape[0]))"
   ]
  },
  {
   "cell_type": "markdown",
   "metadata": {
    "colab_type": "text",
    "id": "6P0JHXO_I7iv"
   },
   "source": [
    "Veamos qué forma tienen los datos"
   ]
  },
  {
   "cell_type": "code",
   "execution_count": 9,
   "metadata": {
    "colab": {},
    "colab_type": "code",
    "id": "TYUymFYCrDxa"
   },
   "outputs": [],
   "source": [
    "from sklearn.feature_extraction.text import CountVectorizer\n",
    "\n",
    "vect = CountVectorizer(min_df=4, max_df=0.80, max_features=6000, binary=True)\n",
    "\n",
    "vect.fit(text_train)\n",
    "\n",
    "X_train = vect.transform(text_train)\n",
    "X_test = vect.transform(text_test)\n",
    "\n",
    "y_train = label_train# == 'positive' # Convertimos a vectores booleanos\n",
    "y_test = label_test# == \"positive\""
   ]
  },
  {
   "cell_type": "markdown",
   "metadata": {
    "colab_type": "text",
    "id": "Jc4fmbpMPu1M"
   },
   "source": [
    "## PCA\n",
    "\n",
    "Vamos a ver una técnica para reducir la dimensionalidad y aún así mantener la mayor cantidad de información posible.\n",
    "\n",
    "Recordemos que, dada X su matriz de covarianza $M_X$ es\n",
    "\n",
    "$$ M_X = \\frac{X^T X}{n-1} $$\n",
    "\n",
    "En primer lugar, calculemos la matriz de covarianza de $X_{train}$"
   ]
  },
  {
   "cell_type": "code",
   "execution_count": 10,
   "metadata": {
    "colab": {},
    "colab_type": "code",
    "id": "znT2NgA2PwFM"
   },
   "outputs": [],
   "source": [
    "import numpy as np\n",
    "\n",
    "# Esto es porque me lo convierte a np.matrix si no\n",
    "X = np.array(X_train - X_train.mean(axis=0))\n",
    "\n",
    "cov_matrix = X.T @ X / (X.shape[0]-1) "
   ]
  },
  {
   "cell_type": "code",
   "execution_count": 11,
   "metadata": {
    "colab": {
     "base_uri": "https://localhost:8080/",
     "height": 1000
    },
    "colab_type": "code",
    "id": "D7NTZcwXFQda",
    "outputId": "48a95faf-a64b-4d6a-cf45-66bc99611750"
   },
   "outputs": [
    {
     "name": "stdout",
     "output_type": "stream",
     "text": [
      "Autovalor 1\n",
      "Paré en la iteración 5\n",
      "Autovalor 2\n",
      "Paré en la iteración 9\n",
      "Autovalor 3\n",
      "Paré en la iteración 91\n",
      "Autovalor 4\n",
      "Paré en la iteración 61\n",
      "Autovalor 5\n",
      "Paré en la iteración 46\n",
      "Autovalor 6\n",
      "Paré en la iteración 72\n",
      "Autovalor 7\n",
      "Paré en la iteración 76\n",
      "Autovalor 8\n",
      "Paré en la iteración 61\n",
      "Autovalor 9\n",
      "Paré en la iteración 189\n",
      "Autovalor 10\n",
      "Paré en la iteración 112\n",
      "Autovalor 11\n",
      "Paré en la iteración 51\n",
      "Autovalor 12\n",
      "Paré en la iteración 105\n",
      "Autovalor 13\n",
      "Paré en la iteración 97\n",
      "Autovalor 14\n",
      "Paré en la iteración 271\n",
      "Autovalor 15\n",
      "Paré en la iteración 212\n",
      "Autovalor 16\n",
      "Paré en la iteración 114\n",
      "Autovalor 17\n",
      "Paré en la iteración 578\n",
      "Autovalor 18\n",
      "Paré en la iteración 107\n",
      "Autovalor 19\n",
      "Paré en la iteración 176\n",
      "Autovalor 20\n",
      "Paré en la iteración 245\n",
      "Autovalor 21\n",
      "Paré en la iteración 110\n",
      "Autovalor 22\n",
      "Paré en la iteración 146\n",
      "Autovalor 23\n",
      "Paré en la iteración 225\n",
      "Autovalor 24\n",
      "Paré en la iteración 242\n",
      "Autovalor 25\n",
      "Paré en la iteración 225\n",
      "Autovalor 26\n",
      "Paré en la iteración 134\n",
      "Autovalor 27\n",
      "Paré en la iteración 295\n",
      "Autovalor 28\n",
      "Paré en la iteración 407\n",
      "Autovalor 29\n",
      "Paré en la iteración 190\n",
      "Autovalor 30\n",
      "Paré en la iteración 161\n",
      "CPU times: user 5min 1s, sys: 47.3 s, total: 5min 49s\n",
      "Wall time: 2min 12s\n"
     ]
    }
   ],
   "source": [
    "%%time\n",
    "w, V = eigen(cov_matrix, num=30, niter=1000, eps=1e-6)"
   ]
  },
  {
   "cell_type": "markdown",
   "metadata": {
    "colab_type": "text",
    "id": "EHwsJUibx-64"
   },
   "source": [
    "A ver los autovalores..."
   ]
  },
  {
   "cell_type": "code",
   "execution_count": 12,
   "metadata": {
    "colab": {
     "base_uri": "https://localhost:8080/",
     "height": 282
    },
    "colab_type": "code",
    "id": "gvsfaDkDP7cy",
    "outputId": "c7c049e9-decd-4e48-89b9-be3298707d7a"
   },
   "outputs": [
    {
     "data": {
      "text/plain": [
       "[<matplotlib.lines.Line2D at 0x7f8ef280d860>]"
      ]
     },
     "execution_count": 12,
     "metadata": {},
     "output_type": "execute_result"
    },
    {
     "data": {
      "image/png": "[encoded data removed]",
      "text/plain": [
       "<Figure size 432x288 with 1 Axes>"
      ]
     },
     "metadata": {
      "needs_background": "light"
     },
     "output_type": "display_data"
    }
   ],
   "source": [
    "import matplotlib.pyplot as plt\n",
    "\n",
    "plt.plot(w)"
   ]
  },
  {
   "cell_type": "markdown",
   "metadata": {
    "colab_type": "text",
    "id": "Y-Uz7baIP80E"
   },
   "source": [
    "## Recordando cambios de base y otros yuyos\n",
    "\n",
    "Sup $M_X$ es la matriz de la covarianza, \n",
    "\n",
    "$$ M_X = \\frac{X^T X}{n-1} $$\n",
    "\n",
    "Si $B = \\{v_1, \\ldots , v_n\\}$ es la base ortogonal de autovectores de $M_X$ entonces la matriz cambio de base de $B$ a la base canónica ($E$) se escribe como la matriz cuyas columnas son los respectivos vectores\n",
    "\n",
    "$$C_{B, E} = V = \\begin{bmatrix}\n",
    "        &     & \\ldots &     \\\\\n",
    "    v_1 & v_2 & \\ldots & v_n \\\\\n",
    "        &     & \\ldots &     \\\\\n",
    "\\end{bmatrix}\n",
    "$$\n",
    "\n",
    "\n",
    "La matriz inversa de ésta es la cambio de base de $E$ a $B$. Es decir $C_{E, B} = C_{B, E}^{-1}$. Como nuestra base es ortogonal, tenemos\n",
    "\n",
    "$$ C_{E, B} = C_{B, E}^T = V^T = \\begin{bmatrix}\n",
    "& & v_1   & &\\\\\n",
    "& & v_2   & &\\\\\n",
    "& &\\vdots & & \\\\\n",
    "& & v_n   & & \\\\\n",
    "\\end{bmatrix}\n",
    "$$\n",
    "\n",
    "Es decir, la matriz que consiste de apilar los vectores fila de la base $B$.\n",
    "\n",
    "\n",
    "### Cambiando de base nuestras instancias de entrenamiento\n",
    "\n",
    "Nuestras matrices $X \\in R^{n \\times m}$ con $n$ igual a la cantidad de instancias de entrenamiento, y $m$ la cantidad de variables\n",
    "\n",
    "Tenemos entonces\n",
    "\n",
    "$$ X = \\begin{bmatrix}\n",
    "& & x^{(1)}   & &\\\\\n",
    "& & x^{(2)}   & &\\\\\n",
    "& &\\vdots & & \\\\\n",
    "& & v_n   & & \\\\\n",
    "\\end{bmatrix}\n",
    "$$\n",
    "\n",
    "Si $x$ es una instancia de entrenamiento a la cual queremos cambiar de base, queremos hacer\n",
    "\n",
    "$$\\overline x = V^T x$$\n",
    "\n",
    "Luego, si queremos cambiar de base cada instancia, hacemos...\n",
    "\n",
    "$$ V^T X^T = V^T \\begin{bmatrix}\n",
    "        & &    & &\\\\\n",
    "x^{(1)}& x^{(2)} &\\ldots & x ^{(n-1)} & x ^{(n)} \\\\\n",
    "& & & & \\\\\n",
    "\\end{bmatrix} = \\begin{bmatrix}\n",
    "        & &    & &\\\\\n",
    "V^T x^{(1)}& V^T x^{(2)} &\\ldots & V^T x ^{(n-1)} & V^T x ^{(n)} \\\\\n",
    "& & & & \\\\\n",
    "\\end{bmatrix} = \\begin{bmatrix}\n",
    "        & &    & &\\\\\n",
    "\\overline{x^{(1)}}& \\overline{x^{(2)}} &\\ldots & \\overline{x^{(n-1)}} & \\overline{x^{(n)}} \\\\\n",
    "& & & & \\\\\n",
    "\\end{bmatrix}\n",
    "$$\n",
    "\n",
    "Ahora, lo que necesitamos es que cada instancia esté en una fila, así que trasponemos\n",
    "\n",
    "$$\n",
    "\\overline{X} = (V^T X^T)^T = X V\n",
    "$$"
   ]
  },
  {
   "cell_type": "markdown",
   "metadata": {
    "colab_type": "text",
    "id": "5siYDx08KjN6"
   },
   "source": [
    "## Ejercicio:\n",
    "\n",
    "1. Implementar el cambio de base usando su implementación del método de la potencia\n",
    "2. Experimentar con distintos $\\alpha$. ¿Cómo afecta la accuracy de nuestro algoritmo? ¿Es más rápido (en tiempo)?"
   ]
  },
  {
   "cell_type": "code",
   "execution_count": 15,
   "metadata": {},
   "outputs": [
    {
     "data": {
      "text/plain": [
       "<10000x6000 sparse matrix of type '<class 'numpy.int64'>'\n",
       "\twith 1123556 stored elements in Compressed Sparse Row format>"
      ]
     },
     "execution_count": 15,
     "metadata": {},
     "output_type": "execute_result"
    }
   ],
   "source": [
    "X_train"
   ]
  },
  {
   "cell_type": "code",
   "execution_count": null,
   "metadata": {},
   "outputs": [],
   "source": []
  },
  {
   "cell_type": "code",
   "execution_count": 18,
   "metadata": {
    "colab": {
     "base_uri": "https://localhost:8080/",
     "height": 34
    },
    "colab_type": "code",
    "id": "JjnwHXZISV-P",
    "outputId": "2cde121b-67f3-4cb1-b193-caecfae642ec"
   },
   "outputs": [
    {
     "ename": "ValueError",
     "evalue": "PandasArray must be 1-dimensional.",
     "output_type": "error",
     "traceback": [
      "\u001b[0;31m---------------------------------------------------------------------------\u001b[0m",
      "\u001b[0;31mValueError\u001b[0m                                Traceback (most recent call last)",
      "\u001b[0;32m<ipython-input-18-bfbc3c5aebec>\u001b[0m in \u001b[0;36m<module>\u001b[0;34m\u001b[0m\n\u001b[1;32m     10\u001b[0m \u001b[0;34m\u001b[0m\u001b[0m\n\u001b[1;32m     11\u001b[0m \u001b[0mpca\u001b[0m \u001b[0;34m=\u001b[0m \u001b[0mmt\u001b[0m\u001b[0;34m.\u001b[0m\u001b[0mPCA\u001b[0m\u001b[0;34m(\u001b[0m\u001b[0mN_COMPONENTS\u001b[0m\u001b[0;34m,\u001b[0m \u001b[0mN_ITERATIONS\u001b[0m\u001b[0;34m,\u001b[0m \u001b[0mEPSILON\u001b[0m\u001b[0;34m)\u001b[0m\u001b[0;34m\u001b[0m\u001b[0m\n\u001b[0;32m---> 12\u001b[0;31m \u001b[0mpca\u001b[0m\u001b[0;34m.\u001b[0m\u001b[0mfit\u001b[0m\u001b[0;34m(\u001b[0m\u001b[0mpd\u001b[0m\u001b[0;34m.\u001b[0m\u001b[0marray\u001b[0m \u001b[0;34m(\u001b[0m\u001b[0mX_train\u001b[0m\u001b[0;34m)\u001b[0m\u001b[0;34m)\u001b[0m\u001b[0;34m\u001b[0m\u001b[0m\n\u001b[0m\u001b[1;32m     13\u001b[0m \u001b[0;34m\u001b[0m\u001b[0m\n\u001b[1;32m     14\u001b[0m \u001b[0mX_pca_train\u001b[0m\u001b[0;34m,\u001b[0m \u001b[0mX_pca_test\u001b[0m \u001b[0;34m=\u001b[0m \u001b[0mpca\u001b[0m\u001b[0;34m.\u001b[0m\u001b[0mtransform\u001b[0m\u001b[0;34m(\u001b[0m\u001b[0mX_train\u001b[0m\u001b[0;34m)\u001b[0m\u001b[0;34m,\u001b[0m \u001b[0mpca\u001b[0m\u001b[0;34m.\u001b[0m\u001b[0mtransform\u001b[0m\u001b[0;34m(\u001b[0m\u001b[0mX_val\u001b[0m\u001b[0;34m)\u001b[0m\u001b[0;34m\u001b[0m\u001b[0m\n",
      "\u001b[0;32m~/.pyenv/versions/3.6.5/lib/python3.6/site-packages/pandas/core/arrays/array_.py\u001b[0m in \u001b[0;36marray\u001b[0;34m(data, dtype, copy)\u001b[0m\n\u001b[1;32m    271\u001b[0m         \u001b[0;32mreturn\u001b[0m \u001b[0mTimedeltaArray\u001b[0m\u001b[0;34m.\u001b[0m\u001b[0m_from_sequence\u001b[0m\u001b[0;34m(\u001b[0m\u001b[0mdata\u001b[0m\u001b[0;34m,\u001b[0m \u001b[0mdtype\u001b[0m\u001b[0;34m=\u001b[0m\u001b[0mdtype\u001b[0m\u001b[0;34m,\u001b[0m \u001b[0mcopy\u001b[0m\u001b[0;34m=\u001b[0m\u001b[0mcopy\u001b[0m\u001b[0;34m)\u001b[0m\u001b[0;34m\u001b[0m\u001b[0m\n\u001b[1;32m    272\u001b[0m \u001b[0;34m\u001b[0m\u001b[0m\n\u001b[0;32m--> 273\u001b[0;31m     \u001b[0mresult\u001b[0m \u001b[0;34m=\u001b[0m \u001b[0mPandasArray\u001b[0m\u001b[0;34m.\u001b[0m\u001b[0m_from_sequence\u001b[0m\u001b[0;34m(\u001b[0m\u001b[0mdata\u001b[0m\u001b[0;34m,\u001b[0m \u001b[0mdtype\u001b[0m\u001b[0;34m=\u001b[0m\u001b[0mdtype\u001b[0m\u001b[0;34m,\u001b[0m \u001b[0mcopy\u001b[0m\u001b[0;34m=\u001b[0m\u001b[0mcopy\u001b[0m\u001b[0;34m)\u001b[0m\u001b[0;34m\u001b[0m\u001b[0m\n\u001b[0m\u001b[1;32m    274\u001b[0m     \u001b[0;32mreturn\u001b[0m \u001b[0mresult\u001b[0m\u001b[0;34m\u001b[0m\u001b[0m\n",
      "\u001b[0;32m~/.pyenv/versions/3.6.5/lib/python3.6/site-packages/pandas/core/arrays/numpy_.py\u001b[0m in \u001b[0;36m_from_sequence\u001b[0;34m(cls, scalars, dtype, copy)\u001b[0m\n\u001b[1;32m    148\u001b[0m         \u001b[0;32mif\u001b[0m \u001b[0mcopy\u001b[0m \u001b[0;32mand\u001b[0m \u001b[0mresult\u001b[0m \u001b[0;32mis\u001b[0m \u001b[0mscalars\u001b[0m\u001b[0;34m:\u001b[0m\u001b[0;34m\u001b[0m\u001b[0m\n\u001b[1;32m    149\u001b[0m             \u001b[0mresult\u001b[0m \u001b[0;34m=\u001b[0m \u001b[0mresult\u001b[0m\u001b[0;34m.\u001b[0m\u001b[0mcopy\u001b[0m\u001b[0;34m(\u001b[0m\u001b[0;34m)\u001b[0m\u001b[0;34m\u001b[0m\u001b[0m\n\u001b[0;32m--> 150\u001b[0;31m         \u001b[0;32mreturn\u001b[0m \u001b[0mcls\u001b[0m\u001b[0;34m(\u001b[0m\u001b[0mresult\u001b[0m\u001b[0;34m)\u001b[0m\u001b[0;34m\u001b[0m\u001b[0m\n\u001b[0m\u001b[1;32m    151\u001b[0m \u001b[0;34m\u001b[0m\u001b[0m\n\u001b[1;32m    152\u001b[0m     \u001b[0;34m@\u001b[0m\u001b[0mclassmethod\u001b[0m\u001b[0;34m\u001b[0m\u001b[0m\n",
      "\u001b[0;32m~/.pyenv/versions/3.6.5/lib/python3.6/site-packages/pandas/core/arrays/numpy_.py\u001b[0m in \u001b[0;36m__init__\u001b[0;34m(self, values, copy)\u001b[0m\n\u001b[1;32m    132\u001b[0m \u001b[0;34m\u001b[0m\u001b[0m\n\u001b[1;32m    133\u001b[0m         \u001b[0;32mif\u001b[0m \u001b[0mvalues\u001b[0m\u001b[0;34m.\u001b[0m\u001b[0mndim\u001b[0m \u001b[0;34m!=\u001b[0m \u001b[0;36m1\u001b[0m\u001b[0;34m:\u001b[0m\u001b[0;34m\u001b[0m\u001b[0m\n\u001b[0;32m--> 134\u001b[0;31m             \u001b[0;32mraise\u001b[0m \u001b[0mValueError\u001b[0m\u001b[0;34m(\u001b[0m\u001b[0;34m\"PandasArray must be 1-dimensional.\"\u001b[0m\u001b[0;34m)\u001b[0m\u001b[0;34m\u001b[0m\u001b[0m\n\u001b[0m\u001b[1;32m    135\u001b[0m \u001b[0;34m\u001b[0m\u001b[0m\n\u001b[1;32m    136\u001b[0m         \u001b[0;32mif\u001b[0m \u001b[0mcopy\u001b[0m\u001b[0;34m:\u001b[0m\u001b[0;34m\u001b[0m\u001b[0m\n",
      "\u001b[0;31mValueError\u001b[0m: PandasArray must be 1-dimensional."
     ]
    }
   ],
   "source": [
    "import metnum as mt\n",
    "\n",
    "N_NEIGHBORS = 100\n",
    "#components for PCA\n",
    "N_COMPONENTS=20\n",
    "#number of iterations to find eigenvalues and eigenvectors in power iteration\n",
    "N_ITERATIONS=100\n",
    "#epsilon for power iteration\n",
    "EPSILON=1e-10\n",
    "\n",
    "pca = mt.PCA(N_COMPONENTS, N_ITERATIONS, EPSILON)\n",
    "pca.fit(pd.lreshape (X_train))\n",
    "\n",
    "X_pca_train, X_pca_test = pca.transform(X_train), pca.transform(X_val)\n",
    "\n",
    "#X_pca_train = X_train @ V[:, :20]\n",
    "#X_pca_test = X_test @ V[:, :25]\n",
    "\n",
    "X_pca_train.shape"
   ]
  },
  {
   "cell_type": "markdown",
   "metadata": {
    "colab_type": "text",
    "id": "a49NYmvxK1yn"
   },
   "source": [
    "Entrenar ahora el clasificador usando estas nuevas instancias[]"
   ]
  },
  {
   "cell_type": "code",
   "execution_count": null,
   "metadata": {
    "colab": {
     "base_uri": "https://localhost:8080/",
     "height": 67
    },
    "colab_type": "code",
    "id": "8Onn-oAeuyGt",
    "outputId": "65a2d2ff-f757-4c4c-954b-68198616138b"
   },
   "outputs": [
    {
     "data": {
      "text/plain": [
       "KNeighborsClassifier(algorithm='auto', leaf_size=30, metric='minkowski',\n",
       "                     metric_params=None, n_jobs=None, n_neighbors=50, p=2,\n",
       "                     weights='uniform')"
      ]
     },
     "execution_count": 74,
     "metadata": {
      "tags": []
     },
     "output_type": "execute_result"
    }
   ],
   "source": [
    "from sklearn.neighbors import KNeighborsClassifier\n",
    "\n",
    "clf = KNeighborsClassifier(n_neighbors=50)\n",
    "clf.fit(X_pca_train, y_train)"
   ]
  },
  {
   "cell_type": "code",
   "execution_count": null,
   "metadata": {
    "colab": {
     "base_uri": "https://localhost:8080/",
     "height": 67
    },
    "colab_type": "code",
    "id": "6LRgcyWzSgRZ",
    "outputId": "dcd8b775-0682-4512-ed8f-23b5bf1ff637"
   },
   "outputs": [
    {
     "name": "stdout",
     "output_type": "stream",
     "text": [
      "Accuracy: 0.781\n",
      "CPU times: user 1.7 s, sys: 1.24 ms, total: 1.7 s\n",
      "Wall time: 1.71 s\n"
     ]
    }
   ],
   "source": [
    "%%time\n",
    "from sklearn.metrics import accuracy_score\n",
    "y_pred = clf.predict(X_pca_test)\n",
    "\n",
    "acc = accuracy_score(y_test, y_pred)\n",
    "print(\"Accuracy: {}\".format(acc))"
   ]
  },
  {
   "cell_type": "code",
   "execution_count": null,
   "metadata": {
    "colab": {},
    "colab_type": "code",
    "id": "Iyw07yDyMYHr"
   },
   "outputs": [],
   "source": []
  }
 ],
 "metadata": {
  "colab": {
   "collapsed_sections": [],
   "name": "PCA+KNN.ipynb",
   "provenance": []
  },
  "kernelspec": {
   "display_name": "Python 3",
   "language": "python",
   "name": "python3"
  },
  "language_info": {
   "codemirror_mode": {
    "name": "ipython",
    "version": 3
   },
   "file_extension": ".py",
   "mimetype": "text/x-python",
   "name": "python",
   "nbconvert_exporter": "python",
   "pygments_lexer": "ipython3",
   "version": "3.6.5"
  }
 },
 "nbformat": 4,
 "nbformat_minor": 2
}
