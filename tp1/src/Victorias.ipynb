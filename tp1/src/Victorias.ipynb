{
 "cells": [
  {
   "cell_type": "code",
   "execution_count": 56,
   "metadata": {},
   "outputs": [
    {
     "data": {
      "text/html": [
       "        <script type=\"text/javascript\">\n",
       "        window.PlotlyConfig = {MathJaxConfig: 'local'};\n",
       "        if (window.MathJax) {MathJax.Hub.Config({SVG: {font: \"STIX-Web\"}});}\n",
       "        if (typeof require !== 'undefined') {\n",
       "        require.undef(\"plotly\");\n",
       "        requirejs.config({\n",
       "            paths: {\n",
       "                'plotly': ['https://cdn.plot.ly/plotly-latest.min']\n",
       "            }\n",
       "        });\n",
       "        require(['plotly'], function(Plotly) {\n",
       "            window._Plotly = Plotly;\n",
       "        });\n",
       "        }\n",
       "        </script>\n",
       "        "
      ]
     },
     "metadata": {},
     "output_type": "display_data"
    }
   ],
   "source": [
    "import numpy as np\n",
    "import pandas as pd\n",
    "import plotly as py\n",
    "import plotly.graph_objs as go\n",
    "import ipywidgets as widgets\n",
    "from scipy import special\n",
    "import plotly.offline as pyo\n",
    "py.offline.init_notebook_mode(connected=True)"
   ]
  },
  {
   "cell_type": "code",
   "execution_count": 57,
   "metadata": {},
   "outputs": [
    {
     "name": "stdout",
     "output_type": "stream",
     "text": [
      "/Users/r/Sites/facu/mt/tp1/src\n"
     ]
    }
   ],
   "source": [
    "!pwd"
   ]
  },
  {
   "cell_type": "markdown",
   "metadata": {},
   "source": [
    "# Ganandole al primero "
   ]
  },
  {
   "cell_type": "code",
   "execution_count": 6,
   "metadata": {},
   "outputs": [
    {
     "name": "stdout",
     "output_type": "stream",
     "text": [
      "Corriendo Metodo Gauss en CMM...\n",
      "Corriendo Metodo Gauss en CMM...\n",
      "Corriendo Metodo Gauss en CMM...\n",
      "Corriendo Metodo Gauss en CMM...\n"
     ]
    }
   ],
   "source": [
    "!./tp test_propios/victorias.in victoriascmm.out 0\n",
    "!./tp test_propios/victorias1.in victoriascmm1.out 0\n",
    "!./tp test_propios/victorias2.in victoriascmm2.out 0\n",
    "!./tp test_propios/victorias3.in victoriascmm3.out 0"
   ]
  },
  {
   "cell_type": "code",
   "execution_count": 58,
   "metadata": {},
   "outputs": [],
   "source": [
    "def getRankings(path):\n",
    "    data=[]\n",
    "    with open(path) as file:\n",
    "        print(\"read file {0}\".format(path))\n",
    "        for i, line in enumerate(file):\n",
    "            d = float(line)\n",
    "            data.append(d)\n",
    "    return data"
   ]
  },
  {
   "cell_type": "code",
   "execution_count": 34,
   "metadata": {},
   "outputs": [
    {
     "name": "stdout",
     "output_type": "stream",
     "text": [
      "read file ./victoriascmm.out\n",
      "read file ./victoriascmm1.out\n",
      "read file ./victoriascmm2.out\n",
      "read file ./victoriascmm3.out\n"
     ]
    }
   ],
   "source": [
    "p0=getRankings('./victoriascmm.out')\n",
    "p1=getRankings('./victoriascmm1.out')\n",
    "p2=getRankings('./victoriascmm2.out')\n",
    "p3=getRankings('./victoriascmm3.out')"
   ]
  },
  {
   "cell_type": "code",
   "execution_count": 35,
   "metadata": {},
   "outputs": [],
   "source": [
    "x0= [p0[0]] +[p1[0]] +[p2[0]] +[p3[0]]\n",
    "x1= [p0[1]] +[p1[1]] +[p2[1]] +[p3[1]]\n",
    "x2= [p0[2]] +[p1[2]] +[p2[2]] +[p3[2]]\n",
    "x3= [p0[3]] +[p1[3]] +[p2[3]] +[p3[3]]\n",
    "x4= [p0[4]] +[p1[4]] +[p2[4]] +[p3[4]]\n",
    "x5= [p0[5]] +[p1[5]] +[p2[5]] +[p3[5]]"
   ]
  },
  {
   "cell_type": "code",
   "execution_count": 36,
   "metadata": {},
   "outputs": [],
   "source": [
    "tickXfont = dict(\n",
    "        font=dict(\n",
    "            family=\"Courier New\",\n",
    "            size=14,\n",
    "            color=\"#2a3f5f\")\n",
    "    )\n",
    "\n",
    "tickYfont = dict(\n",
    "    family=\"Courier New\",\n",
    "    size=14,\n",
    "    color=\"#2a3f5f\")\n",
    "\n",
    "xaxis=dict(\n",
    "    nticks=40,\n",
    "    tickfont=dict(size=10,family='Courier New'),\n",
    "    ticks='outside',\n",
    "    title=tickXfont,\n",
    "    showticklabels=True,\n",
    "    type=\"linear\",\n",
    "    visible=True,\n",
    "    rangemode=\"normal\",\n",
    "    color=\"#444\",\n",
    "    showexponent=\"all\",\n",
    "    separatethousands=False,\n",
    "    ticklen=5,\n",
    "    tickwidth=1,\n",
    "     dtick =1,\n",
    "    tickcolor=\"#444\",\n",
    "    linewidth=1,\n",
    "    gridcolor=\"#EBF0F8\",\n",
    "    linecolor='#C5CED9',\n",
    "    gridwidth=1,\n",
    "    zerolinecolor=\"#EBF0F8\",\n",
    "    zerolinewidth=2,\n",
    "    zeroline=True,\n",
    "    automargin=True,\n",
    "    layer=\"above traces\",\n",
    "    fixedrange=False,\n",
    "    constrain=\"range\",\n",
    "    constraintoward=\"center\"\n",
    ")\n",
    "yaxis=dict(\n",
    "    tickfont=tickYfont,\n",
    "    ticks='outside')\n",
    "y = [0,1,2,3,4,5]\n",
    "fig = go.Figure(data=[\n",
    "        go.Scatter(y=x0,x=y,orientation='h',name='Equipo1'),\n",
    "        go.Scatter(y=x1,x=y,orientation='h',name='Equipo2'),     \n",
    "        go.Scatter(y=x2,x=y,orientation='h',name='Equipo3'),       \n",
    "        go.Scatter(y=x3,x=y,orientation='h',name='Equipo4'),\n",
    "        go.Scatter(y=x4,x=y,orientation='h',name='Equipo5'),\n",
    "        go.Scatter(y=x5,x=y,orientation='h',name='Equipo6')\n",
    "])\n",
    "fig.update_layout(title='CMM Ganandole siempre al primero',yaxis_title=\"Ranking\",xaxis_title='# partidos', plot_bgcolor='#FFF',xaxis=xaxis,yaxis2=yaxis)\n",
    "fig.write_html('victorias.html', auto_open=True)"
   ]
  },
  {
   "cell_type": "markdown",
   "metadata": {},
   "source": [
    "# Ganandole al proximo"
   ]
  },
  {
   "cell_type": "code",
   "execution_count": 13,
   "metadata": {},
   "outputs": [
    {
     "name": "stdout",
     "output_type": "stream",
     "text": [
      "Corriendo Metodo WP...\n",
      "Corriendo Metodo WP...\n",
      "Corriendo Metodo WP...\n",
      "Corriendo Metodo WP...\n",
      "Corriendo Metodo WP...\n",
      "Corriendo Metodo WP...\n"
     ]
    }
   ],
   "source": [
    "!./tp test_propios/victoriaswp.in victoriaswp.out 1\n",
    "!./tp test_propios/victoriaswp1.in victoriaswp1.out 1\n",
    "!./tp test_propios/victoriaswp2.in victoriaswp2.out 1\n",
    "!./tp test_propios/victoriaswp3.in victoriaswp3.out 1\n",
    "!./tp test_propios/victoriaswp4.in victoriaswp4.out 1\n",
    "!./tp test_propios/victoriaswp5.in victoriaswp5.out 1"
   ]
  },
  {
   "cell_type": "code",
   "execution_count": 50,
   "metadata": {},
   "outputs": [
    {
     "name": "stdout",
     "output_type": "stream",
     "text": [
      "read file ./victoriascmm.out\n",
      "read file ./victoriasStrategy2.out\n",
      "read file ./victoriasStrategy2-1.out\n",
      "read file ./victoriasStrategy3-2.out\n"
     ]
    }
   ],
   "source": [
    "p0=getRankings('./victoriascmm.out')\n",
    "p1=getRankings('./victoriasStrategy2.out')\n",
    "p2=getRankings('./victoriasStrategy2-1.out')\n",
    "p3=getRankings('./victoriasStrategy3-2.out')\n"
   ]
  },
  {
   "cell_type": "code",
   "execution_count": 51,
   "metadata": {},
   "outputs": [],
   "source": [
    "x0= [p0[0]] +[p1[0]] +[p2[0]] +[p3[0]]\n",
    "x1= [p0[1]] +[p1[1]] +[p2[1]] +[p3[1]]\n",
    "x2= [p0[2]] +[p1[2]] +[p2[2]] +[p3[2]]\n",
    "x3= [p0[3]] +[p1[3]] +[p2[3]] +[p3[3]]\n",
    "x4= [p0[4]] +[p1[4]] +[p2[4]] +[p3[4]]\n",
    "x5= [p0[5]] +[p1[5]] +[p2[5]] +[p3[5]]"
   ]
  },
  {
   "cell_type": "code",
   "execution_count": 53,
   "metadata": {},
   "outputs": [],
   "source": [
    "tickXfont = dict(\n",
    "        font=dict(\n",
    "            family=\"Courier New\",\n",
    "            size=14,\n",
    "            color=\"#2a3f5f\"),\n",
    "        text='# partidos'\n",
    "    )\n",
    "titleYfont = dict(\n",
    "    font=dict(\n",
    "        family=\"Courier New\",\n",
    "        size=14,\n",
    "        color=\"#2a3f5f\"),\n",
    "    text='valor cmm'\n",
    ")\n",
    "tickYfont = dict(\n",
    "    family=\"Courier New\",\n",
    "    size=14,\n",
    "    color=\"#2a3f5f\")\n",
    "\n",
    "xaxis=dict(\n",
    "    nticks=40,\n",
    "    tickfont=dict(size=10,family='Courier New'),\n",
    "    ticks='outside',\n",
    "    title=tickXfont,\n",
    "    exponentformat=\"power\",\n",
    "    showticklabels=True,\n",
    "    type=\"linear\",\n",
    "    visible=True,\n",
    "    rangemode=\"normal\",\n",
    "    color=\"#444\",\n",
    "    showexponent=\"all\",\n",
    "    separatethousands=False,\n",
    "    ticklen=5,\n",
    "    tickwidth=1,\n",
    "    dtick=1,\n",
    "    tickcolor=\"#444\",\n",
    "    linewidth=1,\n",
    "    gridcolor=\"#EBF0F8\",\n",
    "    linecolor='#C5CED9',\n",
    "    gridwidth=1,\n",
    "    zerolinecolor=\"#EBF0F8\",\n",
    "    zerolinewidth=2,\n",
    "    zeroline=True,\n",
    "    automargin=True,\n",
    "    layer=\"above traces\",\n",
    "    fixedrange=False,\n",
    "    constrain=\"range\",\n",
    "    constraintoward=\"center\"\n",
    ")\n",
    "yaxis=dict(\n",
    "    tickfont=tickYfont,\n",
    "    ticks='outside',\n",
    "    title=titleYfont\n",
    ")\n",
    "y = [1,2,3,4,5,6]\n",
    "fig = go.Figure(data=[\n",
    "        go.Scatter(y=x0,x=y,orientation='h',name='Equipo1'),\n",
    "        go.Scatter(y=x1,x=y,orientation='h',name='Equipo2'),     \n",
    "        go.Scatter(y=x2,x=y,orientation='h',name='Equipo3'),       \n",
    "        go.Scatter(y=x3,x=y,orientation='h',name='Equipo4'),\n",
    "        go.Scatter(y=x4,x=y,orientation='h',name='Equipo5'),\n",
    "        go.Scatter(y=x5,x=y,orientation='h',name='Equipo6')\n",
    "])\n",
    "fig.update_layout(title='CMM ultimo ganandole al siguiente inmediato en el ranking y un partido afecta la posicion final', yaxis_title=\"Ranking\",plot_bgcolor='#FFF',xaxis=xaxis,yaxis2=yaxis)\n",
    "fig.write_html('victorias.html', auto_open=True)"
   ]
  },
  {
   "cell_type": "code",
   "execution_count": null,
   "metadata": {},
   "outputs": [],
   "source": []
  }
 ],
 "metadata": {
  "kernelspec": {
   "display_name": "Python 3",
   "language": "python",
   "name": "python3"
  },
  "language_info": {
   "codemirror_mode": {
    "name": "ipython",
    "version": 3
   },
   "file_extension": ".py",
   "mimetype": "text/x-python",
   "name": "python",
   "nbconvert_exporter": "python",
   "pygments_lexer": "ipython3",
   "version": "3.7.7"
  }
 },
 "nbformat": 4,
 "nbformat_minor": 4
}
