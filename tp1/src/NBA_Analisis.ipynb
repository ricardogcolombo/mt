{
 "cells": [
  {
   "cell_type": "markdown",
   "metadata": {},
   "source": [
    "# Analisis de resultados NBA (con ELO)\n",
    "\n",
    "Analizamos los resultados de ELO y su diferencia con CMM, para ello usamos datos de la liga nba."
   ]
  },
  {
   "cell_type": "markdown",
   "metadata": {},
   "source": [
    "## Prerequisitos\n",
    "\n",
    "Necesitamos generar los datos usados en este notebook:\n",
    "\n",
    "```bash\n",
    "./tp test_propios/nba_2016_scores.dat test_propios/nba_2016_elo.out 2    \n",
    "./tp test_propios/nba_2016_diferencia.dat test_propios/nba_2016_dif_elo.out 2\n",
    "./tp test_propios/nba_2016_scores.dat test_propios/nba_2016_cmm.out 0\n",
    "```"
   ]
  },
  {
   "cell_type": "code",
   "execution_count": 13,
   "metadata": {},
   "outputs": [
    {
     "data": {
      "text/html": [
       "        <script type=\"text/javascript\">\n",
       "        window.PlotlyConfig = {MathJaxConfig: 'local'};\n",
       "        if (window.MathJax) {MathJax.Hub.Config({SVG: {font: \"STIX-Web\"}});}\n",
       "        if (typeof require !== 'undefined') {\n",
       "        require.undef(\"plotly\");\n",
       "        requirejs.config({\n",
       "            paths: {\n",
       "                'plotly': ['https://cdn.plot.ly/plotly-latest.min']\n",
       "            }\n",
       "        });\n",
       "        require(['plotly'], function(Plotly) {\n",
       "            window._Plotly = Plotly;\n",
       "        });\n",
       "        }\n",
       "        </script>\n",
       "        "
      ]
     },
     "metadata": {},
     "output_type": "display_data"
    }
   ],
   "source": [
    "import pandas as pd\n",
    "import numpy\n",
    "import plotly as py\n",
    "import plotly.graph_objs as go\n",
    "import ipywidgets as widgets\n",
    "from scipy import special\n",
    "from plotly.subplots import make_subplots\n",
    "py.offline.init_notebook_mode(connected=True)\n",
    "\n",
    "nba = pd.read_csv('../data/nba_2016_teams.csv', names=['id', 'team'])"
   ]
  },
  {
   "cell_type": "code",
   "execution_count": 14,
   "metadata": {},
   "outputs": [],
   "source": [
    "def buildChart(x,y,title):\n",
    "    tickXfont = dict(\n",
    "        font=dict(\n",
    "            family=\"Courier New\",\n",
    "            size=14,\n",
    "            color=\"#2a3f5f\"),\n",
    "        text='Ranking'\n",
    "    )\n",
    "    titleYfont = dict(\n",
    "        font=dict(\n",
    "            family=\"Courier New\",\n",
    "            size=14,\n",
    "            color=\"#2a3f5f\"),\n",
    "        text='Equipo'\n",
    "    )\n",
    "    tickYfont = dict(\n",
    "        family=\"Courier New\",\n",
    "        size=14,\n",
    "        color=\"#2a3f5f\")\n",
    "    \n",
    "    xaxis=dict(\n",
    "        nticks=40,\n",
    "        tickfont=dict(size=10,family='Courier New'),\n",
    "        ticks='outside',\n",
    "        title=tickXfont,\n",
    "        exponentformat=\"power\",\n",
    "        showticklabels=True,\n",
    "        type=\"linear\",\n",
    "        visible=True,\n",
    "        rangemode=\"normal\",\n",
    "        color=\"#444\",\n",
    "        showexponent=\"all\",\n",
    "        separatethousands=False,\n",
    "        ticklen=5,\n",
    "        tickwidth=1,\n",
    "        tickcolor=\"#444\",\n",
    "        linewidth=1,\n",
    "        gridcolor=\"#EBF0F8\",\n",
    "        linecolor='#C5CED9',\n",
    "        gridwidth=1,\n",
    "        zerolinecolor=\"#EBF0F8\",\n",
    "        zerolinewidth=2,\n",
    "        zeroline=True,\n",
    "        automargin=True,\n",
    "        layer=\"above traces\",\n",
    "        fixedrange=False,\n",
    "        constrain=\"range\",\n",
    "        constraintoward=\"center\"\n",
    "    )\n",
    "    yaxis=dict(\n",
    "        tickfont=tickYfont,\n",
    "        ticks='outside',\n",
    "        title=titleYfont\n",
    "    )\n",
    "    fig = go.Figure(data=[\n",
    "        go.Bar(y=y,x=x,orientation='h',name='ELO')\n",
    "    ])\n",
    "    fig.update_layout(title=title,plot_bgcolor='#FFF',barmode='group',xaxis=xaxis,yaxis=yaxis)\n",
    "    fig.write_html('{0}.html'.format(title), auto_open=True)"
   ]
  },
  {
   "cell_type": "code",
   "execution_count": 15,
   "metadata": {
    "scrolled": true
   },
   "outputs": [],
   "source": [
    "nba['ELO'] = pd.read_csv('./test_propios/nba_2016_elo.out',sep=' ', header=None)"
   ]
  },
  {
   "cell_type": "code",
   "execution_count": 16,
   "metadata": {},
   "outputs": [
    {
     "data": {
      "text/html": [
       "<div>\n",
       "<style scoped>\n",
       "    .dataframe tbody tr th:only-of-type {\n",
       "        vertical-align: middle;\n",
       "    }\n",
       "\n",
       "    .dataframe tbody tr th {\n",
       "        vertical-align: top;\n",
       "    }\n",
       "\n",
       "    .dataframe thead th {\n",
       "        text-align: right;\n",
       "    }\n",
       "</style>\n",
       "<table border=\"1\" class=\"dataframe\">\n",
       "  <thead>\n",
       "    <tr style=\"text-align: right;\">\n",
       "      <th></th>\n",
       "      <th>id</th>\n",
       "      <th>team</th>\n",
       "      <th>ELO</th>\n",
       "    </tr>\n",
       "  </thead>\n",
       "  <tbody>\n",
       "    <tr>\n",
       "      <th>0</th>\n",
       "      <td>1</td>\n",
       "      <td>Atlanta</td>\n",
       "      <td>102.259129</td>\n",
       "    </tr>\n",
       "    <tr>\n",
       "      <th>1</th>\n",
       "      <td>2</td>\n",
       "      <td>Boston</td>\n",
       "      <td>105.823213</td>\n",
       "    </tr>\n",
       "    <tr>\n",
       "      <th>2</th>\n",
       "      <td>3</td>\n",
       "      <td>Brooklyn</td>\n",
       "      <td>52.306689</td>\n",
       "    </tr>\n",
       "    <tr>\n",
       "      <th>3</th>\n",
       "      <td>4</td>\n",
       "      <td>Charlotte</td>\n",
       "      <td>98.057171</td>\n",
       "    </tr>\n",
       "    <tr>\n",
       "      <th>4</th>\n",
       "      <td>5</td>\n",
       "      <td>Chicago</td>\n",
       "      <td>83.223993</td>\n",
       "    </tr>\n",
       "    <tr>\n",
       "      <th>5</th>\n",
       "      <td>6</td>\n",
       "      <td>Cleveland</td>\n",
       "      <td>121.190781</td>\n",
       "    </tr>\n",
       "  </tbody>\n",
       "</table>\n",
       "</div>"
      ],
      "text/plain": [
       "   id        team         ELO\n",
       "0   1     Atlanta  102.259129\n",
       "1   2      Boston  105.823213\n",
       "2   3    Brooklyn   52.306689\n",
       "3   4   Charlotte   98.057171\n",
       "4   5     Chicago   83.223993\n",
       "5   6   Cleveland  121.190781"
      ]
     },
     "execution_count": 16,
     "metadata": {},
     "output_type": "execute_result"
    }
   ],
   "source": [
    "nba.head(6)"
   ]
  },
  {
   "cell_type": "code",
   "execution_count": 21,
   "metadata": {},
   "outputs": [],
   "source": [
    "buildChart(x=nba['ELO'],y=nba['team'], title='ELO sobre NBA original')"
   ]
  },
  {
   "cell_type": "markdown",
   "metadata": {},
   "source": [
    "## Experimento 1\n",
    "\n",
    "Modifico la entrada, hago que una de las victorias del equipo peor rankeado(Philadelphia) la gana por una diferencia de tantos inmensa (1000-91)"
   ]
  },
  {
   "cell_type": "code",
   "execution_count": 18,
   "metadata": {},
   "outputs": [],
   "source": [
    "nba2 = pd.read_csv('../data/nba_2016_teams.csv', names=['id', 'team'])\n",
    "nba2['ELO'] = pd.read_csv('./test_propios/nba_2016_dif_elo.out',sep=' ', header=None)"
   ]
  },
  {
   "cell_type": "code",
   "execution_count": 19,
   "metadata": {},
   "outputs": [
    {
     "data": {
      "text/html": [
       "<div>\n",
       "<style scoped>\n",
       "    .dataframe tbody tr th:only-of-type {\n",
       "        vertical-align: middle;\n",
       "    }\n",
       "\n",
       "    .dataframe tbody tr th {\n",
       "        vertical-align: top;\n",
       "    }\n",
       "\n",
       "    .dataframe thead th {\n",
       "        text-align: right;\n",
       "    }\n",
       "</style>\n",
       "<table border=\"1\" class=\"dataframe\">\n",
       "  <thead>\n",
       "    <tr style=\"text-align: right;\">\n",
       "      <th></th>\n",
       "      <th>id</th>\n",
       "      <th>team</th>\n",
       "      <th>ELO</th>\n",
       "    </tr>\n",
       "  </thead>\n",
       "  <tbody>\n",
       "    <tr>\n",
       "      <th>0</th>\n",
       "      <td>1</td>\n",
       "      <td>Atlanta</td>\n",
       "      <td>107.415663</td>\n",
       "    </tr>\n",
       "    <tr>\n",
       "      <th>1</th>\n",
       "      <td>2</td>\n",
       "      <td>Boston</td>\n",
       "      <td>106.918569</td>\n",
       "    </tr>\n",
       "    <tr>\n",
       "      <th>2</th>\n",
       "      <td>3</td>\n",
       "      <td>Brooklyn</td>\n",
       "      <td>56.062886</td>\n",
       "    </tr>\n",
       "  </tbody>\n",
       "</table>\n",
       "</div>"
      ],
      "text/plain": [
       "   id       team         ELO\n",
       "0   1    Atlanta  107.415663\n",
       "1   2     Boston  106.918569\n",
       "2   3   Brooklyn   56.062886"
      ]
     },
     "execution_count": 19,
     "metadata": {},
     "output_type": "execute_result"
    }
   ],
   "source": [
    "nba2.head(3)"
   ]
  },
  {
   "cell_type": "code",
   "execution_count": 22,
   "metadata": {},
   "outputs": [],
   "source": [
    "buildChart(x=nba2['ELO'],y=nba2['team'], title='ELO sobre NBA con alta diferencia de puntos')"
   ]
  },
  {
   "cell_type": "markdown",
   "metadata": {},
   "source": [
    "Observamos que el ranking CMM no se modifica, pero el ELO si. Vemos que el ranking de Philadelphia mejora mucho mientras que el ranking de los Lakers resulta negativo (el equipo que perdio contra Philadelphia por muchos tantos)"
   ]
  },
  {
   "cell_type": "markdown",
   "metadata": {},
   "source": [
    "## Experimento 2\n",
    "\n",
    "Saco ranking con CMM."
   ]
  },
  {
   "cell_type": "code",
   "execution_count": 23,
   "metadata": {},
   "outputs": [],
   "source": [
    "nba_cmm = pd.read_csv('../data/nba_2016_teams.csv', names=['id', 'team'])\n",
    "nba_cmm['CMM'] = pd.read_csv('./test_propios/nba_2016_cmm.out',sep=' ', header=None)"
   ]
  },
  {
   "cell_type": "code",
   "execution_count": 24,
   "metadata": {},
   "outputs": [
    {
     "data": {
      "text/html": [
       "<div>\n",
       "<style scoped>\n",
       "    .dataframe tbody tr th:only-of-type {\n",
       "        vertical-align: middle;\n",
       "    }\n",
       "\n",
       "    .dataframe tbody tr th {\n",
       "        vertical-align: top;\n",
       "    }\n",
       "\n",
       "    .dataframe thead th {\n",
       "        text-align: right;\n",
       "    }\n",
       "</style>\n",
       "<table border=\"1\" class=\"dataframe\">\n",
       "  <thead>\n",
       "    <tr style=\"text-align: right;\">\n",
       "      <th></th>\n",
       "      <th>id</th>\n",
       "      <th>team</th>\n",
       "      <th>CMM</th>\n",
       "    </tr>\n",
       "  </thead>\n",
       "  <tbody>\n",
       "    <tr>\n",
       "      <th>0</th>\n",
       "      <td>1</td>\n",
       "      <td>Atlanta</td>\n",
       "      <td>0.558822</td>\n",
       "    </tr>\n",
       "    <tr>\n",
       "      <th>1</th>\n",
       "      <td>2</td>\n",
       "      <td>Boston</td>\n",
       "      <td>0.565690</td>\n",
       "    </tr>\n",
       "    <tr>\n",
       "      <th>2</th>\n",
       "      <td>3</td>\n",
       "      <td>Brooklyn</td>\n",
       "      <td>0.290736</td>\n",
       "    </tr>\n",
       "  </tbody>\n",
       "</table>\n",
       "</div>"
      ],
      "text/plain": [
       "   id       team       CMM\n",
       "0   1    Atlanta  0.558822\n",
       "1   2     Boston  0.565690\n",
       "2   3   Brooklyn  0.290736"
      ]
     },
     "execution_count": 24,
     "metadata": {},
     "output_type": "execute_result"
    }
   ],
   "source": [
    "nba_cmm.head(3)"
   ]
  },
  {
   "cell_type": "code",
   "execution_count": 25,
   "metadata": {},
   "outputs": [],
   "source": [
    "buildChart(x=nba_cmm['CMM'],y=nba_cmm['team'], title='CMM sobre NBA')"
   ]
  },
  {
   "cell_type": "code",
   "execution_count": null,
   "metadata": {},
   "outputs": [],
   "source": []
  }
 ],
 "metadata": {
  "kernelspec": {
   "display_name": "Python 3",
   "language": "python",
   "name": "python3"
  },
  "language_info": {
   "codemirror_mode": {
    "name": "ipython",
    "version": 3
   },
   "file_extension": ".py",
   "mimetype": "text/x-python",
   "name": "python",
   "nbconvert_exporter": "python",
   "pygments_lexer": "ipython3",
   "version": "3.8.2"
  }
 },
 "nbformat": 4,
 "nbformat_minor": 4
}
