{
 "cells": [
  {
   "cell_type": "code",
   "execution_count": 35,
   "metadata": {},
   "outputs": [
    {
     "data": {
      "text/html": [
       "        <script type=\"text/javascript\">\n",
       "        window.PlotlyConfig = {MathJaxConfig: 'local'};\n",
       "        if (window.MathJax) {MathJax.Hub.Config({SVG: {font: \"STIX-Web\"}});}\n",
       "        if (typeof require !== 'undefined') {\n",
       "        require.undef(\"plotly\");\n",
       "        requirejs.config({\n",
       "            paths: {\n",
       "                'plotly': ['https://cdn.plot.ly/plotly-latest.min']\n",
       "            }\n",
       "        });\n",
       "        require(['plotly'], function(Plotly) {\n",
       "            window._Plotly = Plotly;\n",
       "        });\n",
       "        }\n",
       "        </script>\n",
       "        "
      ]
     },
     "metadata": {},
     "output_type": "display_data"
    }
   ],
   "source": [
    "import numpy\n",
    "import pandas as pd\n",
    "import plotly as py\n",
    "import plotly.graph_objs as go\n",
    "import ipywidgets as widgets\n",
    "from scipy import special\n",
    "from plotly.subplots import make_subplots\n",
    "py.offlinbe.init_notebook_mode(connected=True)"
   ]
  },
  {
   "cell_type": "code",
   "execution_count": 119,
   "metadata": {},
   "outputs": [],
   "source": [
    "def getPlot(columnName,df,label,method):\n",
    "    fig = make_subplots(rows=1, cols=1)\n",
    "    fig = fig.add_trace(go.Scatter(y=df[\"Ranking_ATP\"],x=df[columnName],mode='markers',name=label))\n",
    "    fig = fig.add_trace(go.Scatter(y=df[columnName],x=df[columnName],name='f(x)=x'))\n",
    "    tickXfont = dict(\n",
    "        font=dict(\n",
    "            family=\"Courier New\",\n",
    "            size=14,\n",
    "            color=\"#2a3f5f\"),\n",
    "        text='RANKING({0})'.format(method)\n",
    "    )\n",
    "    titleYfont = dict(\n",
    "        font=dict(\n",
    "            family=\"Courier New\",\n",
    "            size=14,\n",
    "            color=\"#2a3f5f\"),\n",
    "        text='RANKING(ATP)'\n",
    "    )\n",
    "    tickYfont = dict(\n",
    "        family=\"Courier New\",\n",
    "        size=14,\n",
    "        color=\"#2a3f5f\")\n",
    "    \n",
    "    xaxis=dict(\n",
    "        nticks=40,\n",
    "        tickfont=dict(size=10,family='Courier New'),\n",
    "        ticks='outside',\n",
    "        title=tickXfont,\n",
    "        exponentformat=\"power\",\n",
    "        showticklabels=True,\n",
    "        type=\"linear\",\n",
    "        visible=True,\n",
    "        rangemode=\"normal\",\n",
    "        color=\"#444\",\n",
    "        showexponent=\"all\",\n",
    "        separatethousands=False,\n",
    "        ticklen=5,\n",
    "        tickwidth=1,\n",
    "        tickcolor=\"#444\",\n",
    "        linewidth=1,\n",
    "        gridcolor=\"#EBF0F8\",\n",
    "        linecolor='#C5CED9',\n",
    "        gridwidth=1,\n",
    "        zerolinecolor=\"#EBF0F8\",\n",
    "        zerolinewidth=2,\n",
    "        zeroline=True,\n",
    "        automargin=True,\n",
    "        layer=\"above traces\",\n",
    "        fixedrange=False,\n",
    "        constrain=\"range\",\n",
    "        constraintoward=\"center\"\n",
    "    )\n",
    "    yaxis=dict(\n",
    "        tickfont=tickYfont,\n",
    "        ticks='outside',\n",
    "        title=titleYfont\n",
    "    )\n",
    "    fig.update_layout(title='Comparacion Ranking ATP vs {0}'.format(method),plot_bgcolor='#FFF',xaxis=xaxis,xaxis2=xaxis,yaxis2=yaxis,yaxis=yaxis)\n",
    "    fig.write_html('{0}.html'.format(method), auto_open=True)"
   ]
  },
  {
   "cell_type": "markdown",
   "metadata": {},
   "source": [
    "# RANKING WP VS ATP"
   ]
  },
  {
   "cell_type": "code",
   "execution_count": 134,
   "metadata": {},
   "outputs": [],
   "source": [
    "filename = \"./testsNuestros/wp_datos_grafico_completo.out\"\n",
    "dfwp = pd.read_csv(filename,sep=' ')"
   ]
  },
  {
   "cell_type": "code",
   "execution_count": 135,
   "metadata": {},
   "outputs": [],
   "source": [
    "getPlot(columnName='Ranking_WP',df=dfwp,label='ATP vs WP',method='WP')"
   ]
  },
  {
   "cell_type": "markdown",
   "metadata": {},
   "source": [
    "# RANKING CMM VS ATP"
   ]
  },
  {
   "cell_type": "code",
   "execution_count": 136,
   "metadata": {},
   "outputs": [
    {
     "data": {
      "text/html": [
       "<div>\n",
       "<style scoped>\n",
       "    .dataframe tbody tr th:only-of-type {\n",
       "        vertical-align: middle;\n",
       "    }\n",
       "\n",
       "    .dataframe tbody tr th {\n",
       "        vertical-align: top;\n",
       "    }\n",
       "\n",
       "    .dataframe thead th {\n",
       "        text-align: right;\n",
       "    }\n",
       "</style>\n",
       "<table border=\"1\" class=\"dataframe\">\n",
       "  <thead>\n",
       "    <tr style=\"text-align: right;\">\n",
       "      <th></th>\n",
       "      <th>Ranking_CMM</th>\n",
       "      <th>Ranking_ATP</th>\n",
       "    </tr>\n",
       "  </thead>\n",
       "  <tbody>\n",
       "    <tr>\n",
       "      <th>1</th>\n",
       "      <td>1</td>\n",
       "      <td>1</td>\n",
       "    </tr>\n",
       "    <tr>\n",
       "      <th>2</th>\n",
       "      <td>2</td>\n",
       "      <td>3</td>\n",
       "    </tr>\n",
       "    <tr>\n",
       "      <th>3</th>\n",
       "      <td>3</td>\n",
       "      <td>2</td>\n",
       "    </tr>\n",
       "  </tbody>\n",
       "</table>\n",
       "</div>"
      ],
      "text/plain": [
       "   Ranking_CMM Ranking_ATP\n",
       "1            1           1\n",
       "2            2           3\n",
       "3            3           2"
      ]
     },
     "execution_count": 136,
     "metadata": {},
     "output_type": "execute_result"
    }
   ],
   "source": [
    "filename = \"./testsNuestros/cmm_datos_grafico_completo.out\"\n",
    "dfcmm = pd.read_csv(filename,sep=' ')\n",
    "dfcmm.columns= ['Ranking_CMM',\n",
    "               'Ranking_ATP']\n",
    "dfcmm.head(3)"
   ]
  },
  {
   "cell_type": "code",
   "execution_count": 137,
   "metadata": {},
   "outputs": [],
   "source": [
    "getPlot(columnName='Ranking_CMM',df=dfcmm,label='ATP vs CMM',method='CMM')"
   ]
  },
  {
   "cell_type": "markdown",
   "metadata": {},
   "source": [
    "# RANKING WPL VS ATP"
   ]
  },
  {
   "cell_type": "code",
   "execution_count": 138,
   "metadata": {},
   "outputs": [
    {
     "data": {
      "text/html": [
       "<div>\n",
       "<style scoped>\n",
       "    .dataframe tbody tr th:only-of-type {\n",
       "        vertical-align: middle;\n",
       "    }\n",
       "\n",
       "    .dataframe tbody tr th {\n",
       "        vertical-align: top;\n",
       "    }\n",
       "\n",
       "    .dataframe thead th {\n",
       "        text-align: right;\n",
       "    }\n",
       "</style>\n",
       "<table border=\"1\" class=\"dataframe\">\n",
       "  <thead>\n",
       "    <tr style=\"text-align: right;\">\n",
       "      <th></th>\n",
       "      <th>Ranking_WPL</th>\n",
       "      <th>Ranking_ATP</th>\n",
       "    </tr>\n",
       "  </thead>\n",
       "  <tbody>\n",
       "    <tr>\n",
       "      <th>1</th>\n",
       "      <td>1</td>\n",
       "      <td>1</td>\n",
       "    </tr>\n",
       "    <tr>\n",
       "      <th>2</th>\n",
       "      <td>2</td>\n",
       "      <td>2</td>\n",
       "    </tr>\n",
       "    <tr>\n",
       "      <th>3</th>\n",
       "      <td>3</td>\n",
       "      <td>3</td>\n",
       "    </tr>\n",
       "  </tbody>\n",
       "</table>\n",
       "</div>"
      ],
      "text/plain": [
       "   Ranking_WPL Ranking_ATP\n",
       "1            1           1\n",
       "2            2           2\n",
       "3            3           3"
      ]
     },
     "execution_count": 138,
     "metadata": {},
     "output_type": "execute_result"
    }
   ],
   "source": [
    "filename = \"./testsNuestros/wpl_datos_grafico_completo.out\"\n",
    "dfcmm = pd.read_csv(filename,sep=' ')\n",
    "dfcmm.columns= ['Ranking_WPL',\n",
    "               'Ranking_ATP']\n",
    "dfcmm.head(3)"
   ]
  },
  {
   "cell_type": "code",
   "execution_count": 139,
   "metadata": {},
   "outputs": [],
   "source": [
    "getPlot(columnName='Ranking_WPL',df=dfcmm,label='ATP vs WPL',method='WPL')"
   ]
  },
  {
   "cell_type": "code",
   "execution_count": null,
   "metadata": {},
   "outputs": [],
   "source": []
  }
 ],
 "metadata": {
  "kernelspec": {
   "display_name": "Python 3",
   "language": "python",
   "name": "python3"
  },
  "language_info": {
   "codemirror_mode": {
    "name": "ipython",
    "version": 3
   },
   "file_extension": ".py",
   "mimetype": "text/x-python",
   "name": "python",
   "nbconvert_exporter": "python",
   "pygments_lexer": "ipython3",
   "version": "3.7.6"
  }
 },
 "nbformat": 4,
 "nbformat_minor": 4
}
