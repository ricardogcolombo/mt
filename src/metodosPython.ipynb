{
 "cells": [
  {
   "cell_type": "markdown",
   "metadata": {},
   "source": [
    "# Codigo del tp Realizado con Python\n",
    "\n",
    "Creamos una clase instancia para poder guardar todo lo relativo con cada una de las instancias (archivos) de entrada, esta genera la matriz CMM , el vector b para la ecuacion Cb=r, para resolver esto es necesario crear una instancia de la clase usar\n",
    "`ins = Instancia(PATH_ARCHIVO,BOOL)` \n",
    "donde el primer parametro del contructor es el path del archivo y el segundo un bool que si es true le presta atencion a los empates, si no los ignora(el default es false y no hace falta enviarlo.\n",
    "por ej:\n",
    "`ins = Instancia(\"tests/tests_nuestros/testEmpate.in\",True)` o `ins = Instancia(\"tests/test1.in\")` . \n"
   ]
  },
  {
   "cell_type": "code",
   "execution_count": 264,
   "metadata": {},
   "outputs": [],
   "source": [
    "import numpy as np\n",
    "import pandas as pd\n",
    "import math\n",
    "import plotly.graph_objs as go\n",
    "from plotly.offline import download_plotlyjs, init_notebook_mode, plot, iplot\n",
    "import plotly.plotly as py\n",
    "class Instancia():\n",
    "    def __init__(self,csvfile,contarEmpates=False,empateSuma=True):\n",
    "        self._equipos=0\n",
    "        self._partidos=0\n",
    "        self._cmm = None\n",
    "        self.mass=None\n",
    "        self.diferencia=None\n",
    "        self.ganados = None\n",
    "        self.enfrentamientos = None\n",
    "        self.ganadosEmpates = None\n",
    "        self.totales = None\n",
    "        self.ratings=None\n",
    "        f = open(csvfile, \"r\")\n",
    "        i=0\n",
    "        for line in list(f):\n",
    "            if i == 0: # header\n",
    "                i+=1\n",
    "                columns = line.split()\n",
    "                self._equipos = int(columns[0])\n",
    "                self._partidos = int(columns[1])\n",
    "                self._cmm = np.empty([self._equipos,self._equipos])\n",
    "                self.ganados= np.empty([self._equipos,self._equipos])\n",
    "                self.enfrentamientos= np.empty([self._equipos,self._equipos])\n",
    "                self.totales = np.zeros(self._equipos)\n",
    "#                 self.diferencias = np.zeros(self._equipos)\n",
    "                self.ratings = np.ones(self._equipos)*100\n",
    "                for i in range(0,self._equipos):\n",
    "                    for j in range(0,self._equipos):\n",
    "                        self.ganados[i,j]=0.0\n",
    "                        self.ganados[j,i]=0.0\n",
    "                        self.enfrentamientos[i,j]=0.\n",
    "                        self.enfrentamientos[j,i]=0.\n",
    "            else:\n",
    "                data = line.split();\n",
    "                print(data)\n",
    "\n",
    "                equipo1=int(data[1])-1\n",
    "                goles1=int(data[2])-1\n",
    "                equipo2=int(data[3])-1\n",
    "                goles2=int(data[4])-1\n",
    "#                 solo aplica para colley\n",
    "                if((contarEmpates and goles1==goles2) or goles1-goles2!=0):\n",
    "                    self.totales[int(data[1])-1]+=1\n",
    "                    self.totales[int(data[3])-1]+=1\n",
    "                    \n",
    "\n",
    "#                 self.diferencias[int(data[1])-1]+=int(data[2])\n",
    "#                 self.diferencias[int(data[1])-1]-=int(data[4])\n",
    "#                 self.diferencias[int(data[3])-1]+=int(data[4])\n",
    "#                 self.diferencias[int(data[3])-1]-=int(data[2])\n",
    "                \n",
    "                r1= self.getEloRating(equipo1,equipo2,goles1,goles2,True)\n",
    "                r2 =self.getEloRating(equipo2,equipo1,goles2,goles1)\n",
    "                \n",
    "                self.ratings[equipo1]=r1\n",
    "                self.ratings[equipo2]=r2\n",
    "                if contarEmpates and goles1==goles2:\n",
    "                    self.enfrentamientos[equipo1,equipo2]+=1\n",
    "                    self.enfrentamientos[equipo2,equipo1]+=1\n",
    "                elif goles1-goles2!=0:\n",
    "                    self.enfrentamientos[equipo1,equipo2]+=1\n",
    "                    self.enfrentamientos[equipo2,equipo1]+=1\n",
    "                    \n",
    "                if goles1>goles2:\n",
    "                    print('gana '+str(data[1]))\n",
    "                    self.ganados[equipo1,equipo2] +=1\n",
    "                elif goles2>goles1:\n",
    "                    print('gana '+str(data[3]))\n",
    "                    self.ganados[equipo2,equipo1] +=1\n",
    "                elif goles1==goles2 and contarEmpates:\n",
    "                    print('empate' + str(data[1])+'-'+str(data[3]))\n",
    "                    if(empateSuma):\n",
    "                        self.ganados[equipo2,equipo1] +=1\n",
    "                        self.ganados[equipo1,equipo2] +=1\n",
    "                        \n",
    "                    \n",
    "#             construyo la matriz de cmm\n",
    "        for i in range(0, ins.equipos()):\n",
    "            for j in range(0, ins.equipos()):\n",
    "                if i==j:\n",
    "                    self._cmm[i][j]=  self.totales[i]+ 2\n",
    "                else:\n",
    "                    self._cmm[i][j]=  self.enfrentamientos[i,j]*-1         \n",
    "#         Construyo el vector b                  \n",
    "        self.b = np.zeros(self.equipos())\n",
    "        for i in range(0,self.equipos()):\n",
    "            ganados =0\n",
    "            for j in range(0,self.equipos()):\n",
    "                ganados += self.ganados[i][j]\n",
    "            self.b[i]= 1+(2*ganados-self.totales[i])/2\n",
    "                          \n",
    "    def getEloRating(self,equipo1,equipo2,goles1,goles2,esLocal=False,K=60):\n",
    "        r0_1 = self.ratings[equipo1]\n",
    "        r0_2 = self.ratings[equipo2]\n",
    "        \n",
    "        df1 = int(goles1-goles2)\n",
    "        G =0\n",
    "        if df1==0 or df1==1:\n",
    "            G=1\n",
    "        elif df1 == 2:\n",
    "            G = 1.5\n",
    "        else:\n",
    "            G=(11+ abs(df1))/8\n",
    "#         // W is the result of the game (1 for a win, 0.5 for a draw, and 0 for a loss).\n",
    "        W=0\n",
    "        if df1==0:\n",
    "            W=0.5;\n",
    "        elif df1>0:\n",
    "            W=1;\n",
    "\n",
    "        dr=.0;\n",
    "        if esLocal :\n",
    "            dr = (r0_1-r0_2+100)*-1;\n",
    "        else:\n",
    "            dr = (r0_1-r0_2)*-1;\n",
    "\n",
    "        W_e = 1 / (pow(10,(dr/400)) + 1);\n",
    "        return r0_1+ G*(W-W_e);\n",
    "\n",
    "    def equipos(self):\n",
    "        return self._equipos\n",
    "    def partidos(self):\n",
    "        return self._partidos\n",
    "    def cmm(self):\n",
    "        \n",
    "        return self._cmm\n",
    "    def wp(self):\n",
    "        wp = np.zeros(self._equipos)\n",
    "        for i in range(0,self._equipos):\n",
    "            wp[i]=sum(self.ganados[i])/self.totales[i]\n",
    "        \n",
    "        return wp\n",
    "\n",
    "\n",
    "\n",
    "def forward_elimination(A, b, n):\n",
    "    \"\"\"\n",
    "    Calculates the forward part of Gaussian elimination.\n",
    "    \"\"\"\n",
    "    for row in range(0, n-1):\n",
    "        for i in range(row+1, n):\n",
    "            factor = A[i,row] / A[row,row]\n",
    "            for j in range(row, n):\n",
    "                A[i,j] = A[i,j] - factor * A[row,j]\n",
    "\n",
    "            b[i] = b[i] - factor * b[row]\n",
    "\n",
    "#         print('A = \\n%s and b = %s' % (A,b))\n",
    "    return A, b\n",
    "\n",
    "def back_substitution(a, b, n):\n",
    "    \"\"\"\"\n",
    "    Does back substitution, returns the Gauss result.\n",
    "    \"\"\"\n",
    "    x = np.zeros((n,1))\n",
    "    x[n-1] = b[n-1] / a[n-1, n-1]\n",
    "    for row in range(n-2, -1, -1):\n",
    "        sums = b[row]\n",
    "        for j in range(row+1, n):\n",
    "            sums = sums - a[row,j] * x[j]\n",
    "        x[row] = sums / a[row,row]\n",
    "    return x\n",
    "\n",
    "def gauss(A, b):\n",
    "    \"\"\"\n",
    "    This function performs Gauss elimination without pivoting.\n",
    "    \"\"\"\n",
    "    n = A.shape[0]\n",
    "\n",
    "    # Check for zero diagonal elements\n",
    "    if any(np.diag(A)==0):\n",
    "        raise ZeroDivisionError(('Division by zero will occur; '\n",
    "                                  'pivoting currently not supported'))\n",
    "    \n",
    "    A, b = forward_elimination(A, b, n)\n",
    "    return back_substitution(A, b, n)"
   ]
  },
  {
   "cell_type": "markdown",
   "metadata": {},
   "source": [
    "# Contemos Empates"
   ]
  },
  {
   "cell_type": "markdown",
   "metadata": {},
   "source": [
    "##### Veamos en esta seccion que pasa si contamos empate sumandole como una victoria a cada uno"
   ]
  },
  {
   "cell_type": "code",
   "execution_count": 265,
   "metadata": {},
   "outputs": [
    {
     "name": "stdout",
     "output_type": "stream",
     "text": [
      "['1', '1', '1', '4', '1']\n",
      "empate1-4\n",
      "['1', '2', '38', '5', '17']\n",
      "gana 2\n",
      "['1', '2', '0', '6', '1']\n",
      "gana 6\n",
      "['1', '3', '34', '1', '21']\n",
      "gana 3\n",
      "['1', '3', '23', '4', '10']\n",
      "gana 3\n",
      "['1', '4', '31', '1', '6']\n",
      "gana 4\n",
      "['1', '5', '0', '6', '1']\n",
      "gana 6\n",
      "['1', '5', '38', '4', '23']\n",
      "gana 5\n",
      "['1', '6', '1', '2', '0']\n",
      "gana 6\n",
      "['1', '6', '1', '5', '0']\n",
      "gana 6\n",
      "['1', '4', '1', '6', '0']\n",
      "gana 4\n",
      "['1', '3', '1', '1', '0']\n",
      "gana 3\n",
      "['1', '3', '1', '2', '0']\n",
      "gana 3\n"
     ]
    }
   ],
   "source": [
    "ins = Instancia(\"tests/tests_nuestros/testEmpate.in\",True)"
   ]
  },
  {
   "cell_type": "markdown",
   "metadata": {},
   "source": [
    "### veamos nuestra matriz CMM"
   ]
  },
  {
   "cell_type": "code",
   "execution_count": 266,
   "metadata": {},
   "outputs": [
    {
     "data": {
      "text/plain": [
       "array([[ 6., -0., -2., -2., -0., -0.],\n",
       "       [-0.,  6., -1., -0., -1., -2.],\n",
       "       [-2., -1.,  6., -1., -0., -0.],\n",
       "       [-2., -0., -1.,  7., -1., -1.],\n",
       "       [-0., -1., -0., -1.,  6., -2.],\n",
       "       [-0., -2., -0., -1., -2.,  7.]])"
      ]
     },
     "execution_count": 266,
     "metadata": {},
     "output_type": "execute_result"
    }
   ],
   "source": [
    "ins._cmm"
   ]
  },
  {
   "cell_type": "markdown",
   "metadata": {},
   "source": [
    "### veamos el total de enfrentamientos y partidos ganados entre equipos"
   ]
  },
  {
   "cell_type": "code",
   "execution_count": 267,
   "metadata": {},
   "outputs": [
    {
     "data": {
      "text/plain": [
       "array([[0., 0., 2., 2., 0., 0.],\n",
       "       [0., 0., 1., 0., 1., 2.],\n",
       "       [2., 1., 0., 1., 0., 0.],\n",
       "       [2., 0., 1., 0., 1., 1.],\n",
       "       [0., 1., 0., 1., 0., 2.],\n",
       "       [0., 2., 0., 1., 2., 0.]])"
      ]
     },
     "execution_count": 267,
     "metadata": {},
     "output_type": "execute_result"
    }
   ],
   "source": [
    "ins.enfrentamientos"
   ]
  },
  {
   "cell_type": "code",
   "execution_count": 268,
   "metadata": {},
   "outputs": [
    {
     "data": {
      "text/plain": [
       "array([[0., 0., 0., 1., 0., 0.],\n",
       "       [0., 0., 0., 0., 1., 0.],\n",
       "       [2., 1., 0., 1., 0., 0.],\n",
       "       [2., 0., 0., 0., 0., 1.],\n",
       "       [0., 0., 0., 1., 0., 0.],\n",
       "       [0., 2., 0., 0., 2., 0.]])"
      ]
     },
     "execution_count": 268,
     "metadata": {},
     "output_type": "execute_result"
    }
   ],
   "source": [
    "ins.ganados"
   ]
  },
  {
   "cell_type": "code",
   "execution_count": 269,
   "metadata": {},
   "outputs": [
    {
     "data": {
      "text/plain": [
       "array([0. , 0. , 3. , 1.5, 0. , 2.5])"
      ]
     },
     "execution_count": 269,
     "metadata": {},
     "output_type": "execute_result"
    }
   ],
   "source": [
    "ins.b"
   ]
  },
  {
   "cell_type": "code",
   "execution_count": 270,
   "metadata": {},
   "outputs": [],
   "source": [
    "# Resuelvo la ecuacion Cb=r para obtener raitings\n",
    "res = gauss(ins._cmm,ins.b)"
   ]
  },
  {
   "cell_type": "code",
   "execution_count": 271,
   "metadata": {},
   "outputs": [
    {
     "data": {
      "text/plain": [
       "array([[0.4912234 ],\n",
       "       [0.43803191],\n",
       "       [0.84202128],\n",
       "       [0.63164894],\n",
       "       [0.40797872],\n",
       "       [0.68909574]])"
      ]
     },
     "execution_count": 271,
     "metadata": {},
     "output_type": "execute_result"
    }
   ],
   "source": [
    "res"
   ]
  },
  {
   "cell_type": "markdown",
   "metadata": {},
   "source": [
    "## Misma instancia ignorando empates"
   ]
  },
  {
   "cell_type": "code",
   "execution_count": 272,
   "metadata": {},
   "outputs": [
    {
     "name": "stdout",
     "output_type": "stream",
     "text": [
      "['1', '1', '1', '4', '1']\n",
      "['1', '2', '38', '5', '17']\n",
      "gana 2\n",
      "['1', '2', '0', '6', '1']\n",
      "gana 6\n",
      "['1', '3', '34', '1', '21']\n",
      "gana 3\n",
      "['1', '3', '23', '4', '10']\n",
      "gana 3\n",
      "['1', '4', '31', '1', '6']\n",
      "gana 4\n",
      "['1', '5', '0', '6', '1']\n",
      "gana 6\n",
      "['1', '5', '38', '4', '23']\n",
      "gana 5\n",
      "['1', '6', '1', '2', '0']\n",
      "gana 6\n",
      "['1', '6', '1', '5', '0']\n",
      "gana 6\n",
      "['1', '4', '1', '6', '0']\n",
      "gana 4\n",
      "['1', '3', '1', '1', '0']\n",
      "gana 3\n",
      "['1', '3', '1', '2', '0']\n",
      "gana 3\n"
     ]
    }
   ],
   "source": [
    "ins2 = Instancia(\"tests/tests_nuestros/testEmpate.in\")"
   ]
  },
  {
   "cell_type": "code",
   "execution_count": 273,
   "metadata": {},
   "outputs": [
    {
     "data": {
      "text/plain": [
       "array([[0., 0., 2., 1., 0., 0.],\n",
       "       [0., 0., 1., 0., 1., 2.],\n",
       "       [2., 1., 0., 1., 0., 0.],\n",
       "       [1., 0., 1., 0., 1., 1.],\n",
       "       [0., 1., 0., 1., 0., 2.],\n",
       "       [0., 2., 0., 1., 2., 0.]])"
      ]
     },
     "execution_count": 273,
     "metadata": {},
     "output_type": "execute_result"
    }
   ],
   "source": [
    "ins2.enfrentamientos"
   ]
  },
  {
   "cell_type": "code",
   "execution_count": 282,
   "metadata": {},
   "outputs": [
    {
     "data": {
      "text/plain": [
       "array([[0., 0., 0., 0., 0., 0.],\n",
       "       [0., 0., 0., 0., 1., 0.],\n",
       "       [2., 1., 0., 1., 0., 0.],\n",
       "       [1., 0., 0., 0., 0., 1.],\n",
       "       [0., 0., 0., 1., 0., 0.],\n",
       "       [0., 2., 0., 0., 2., 0.]])"
      ]
     },
     "execution_count": 282,
     "metadata": {},
     "output_type": "execute_result"
    }
   ],
   "source": [
    "ins2.ganados"
   ]
  },
  {
   "cell_type": "code",
   "execution_count": 274,
   "metadata": {},
   "outputs": [],
   "source": [
    "res2=gauss(ins2._cmm,ins2.b)"
   ]
  },
  {
   "cell_type": "code",
   "execution_count": 275,
   "metadata": {},
   "outputs": [
    {
     "data": {
      "text/plain": [
       "array([[0.30455508],\n",
       "       [0.40483757],\n",
       "       [0.7545904 ],\n",
       "       [0.51359463],\n",
       "       [0.3704096 ],\n",
       "       [0.65201271]])"
      ]
     },
     "execution_count": 275,
     "metadata": {},
     "output_type": "execute_result"
    }
   ],
   "source": [
    "res2"
   ]
  },
  {
   "cell_type": "markdown",
   "metadata": {},
   "source": [
    "## Veamos que pasa si el empate resta"
   ]
  },
  {
   "cell_type": "code",
   "execution_count": 276,
   "metadata": {},
   "outputs": [
    {
     "name": "stdout",
     "output_type": "stream",
     "text": [
      "['1', '1', '1', '4', '1']\n",
      "empate1-4\n",
      "['1', '2', '38', '5', '17']\n",
      "gana 2\n",
      "['1', '2', '0', '6', '1']\n",
      "gana 6\n",
      "['1', '3', '34', '1', '21']\n",
      "gana 3\n",
      "['1', '3', '23', '4', '10']\n",
      "gana 3\n",
      "['1', '4', '31', '1', '6']\n",
      "gana 4\n",
      "['1', '5', '0', '6', '1']\n",
      "gana 6\n",
      "['1', '5', '38', '4', '23']\n",
      "gana 5\n",
      "['1', '6', '1', '2', '0']\n",
      "gana 6\n",
      "['1', '6', '1', '5', '0']\n",
      "gana 6\n",
      "['1', '4', '1', '6', '0']\n",
      "gana 4\n",
      "['1', '3', '1', '1', '0']\n",
      "gana 3\n",
      "['1', '3', '1', '2', '0']\n",
      "gana 3\n"
     ]
    }
   ],
   "source": [
    "ins3 = Instancia(\"tests/tests_nuestros/testEmpate.in\",True,False)"
   ]
  },
  {
   "cell_type": "code",
   "execution_count": 277,
   "metadata": {},
   "outputs": [],
   "source": [
    "res3=gauss(ins3._cmm,ins3.b)"
   ]
  },
  {
   "cell_type": "code",
   "execution_count": 278,
   "metadata": {},
   "outputs": [],
   "source": [
    "flatten = lambda l: [item for sublist in l for item in sublist]"
   ]
  },
  {
   "cell_type": "code",
   "execution_count": 279,
   "metadata": {},
   "outputs": [
    {
     "data": {
      "text/plain": [
       "Layout({\n",
       "    'barmode': 'group'\n",
       "})"
      ]
     },
     "execution_count": 279,
     "metadata": {},
     "output_type": "execute_result"
    }
   ],
   "source": [
    "resf=flatten(res)\n",
    "res2f=flatten(res2)\n",
    "res3f=flatten(res3)\n",
    "equipos=[1,2,3,4,5,6]\n",
    "fig = go.Figure(data=[\n",
    "    go.Bar(name='Sin contar empates', x=equipos, y=res2f),\n",
    "    go.Bar(name='Contando Empates que suman', x=equipos, y=resf),\n",
    "    go.Bar(name='Contando Empates que restan', x=equipos, y=res3f)\n",
    "])\n",
    "fig.layout.update(barmode='group')"
   ]
  },
  {
   "cell_type": "code",
   "execution_count": 280,
   "metadata": {},
   "outputs": [
    {
     "data": {
      "text/html": [
       "<script type=\"text/javascript\">window.PlotlyConfig = {MathJaxConfig: 'local'};</script><script type=\"text/javascript\">if (window.MathJax) {MathJax.Hub.Config({SVG: {font: \"STIX-Web\"}});}</script><script>requirejs.config({paths: { 'plotly': ['https://cdn.plot.ly/plotly-latest.min']},});if(!window._Plotly) {require(['plotly'],function(plotly) {window._Plotly=plotly;});}</script>"
      ],
      "text/vnd.plotly.v1+html": [
       "<script type=\"text/javascript\">window.PlotlyConfig = {MathJaxConfig: 'local'};</script><script type=\"text/javascript\">if (window.MathJax) {MathJax.Hub.Config({SVG: {font: \"STIX-Web\"}});}</script><script>requirejs.config({paths: { 'plotly': ['https://cdn.plot.ly/plotly-latest.min']},});if(!window._Plotly) {require(['plotly'],function(plotly) {window._Plotly=plotly;});}</script>"
      ]
     },
     "metadata": {},
     "output_type": "display_data"
    }
   ],
   "source": [
    "init_notebook_mode(connected=True)"
   ]
  },
  {
   "cell_type": "code",
   "execution_count": 281,
   "metadata": {},
   "outputs": [
    {
     "data": {
      "application/vnd.plotly.v1+json": {
       "config": {
        "linkText": "Export to plot.ly",
        "plotlyServerURL": "https://plot.ly",
        "showLink": false
       },
       "data": [
        {
         "name": "Sin contar empates",
         "type": "bar",
         "uid": "c941366d-c755-4147-abe3-79c14b83daca",
         "x": [
          1,
          2,
          3,
          4,
          5,
          6
         ],
         "y": [
          0.30455508474576265,
          0.4048375706214689,
          0.7545903954802259,
          0.5135946327683616,
          0.370409604519774,
          0.6520127118644068
         ]
        },
        {
         "name": "Contando Empates que suman",
         "type": "bar",
         "uid": "0eb424ea-0993-4446-a7aa-69318147a40b",
         "x": [
          1,
          2,
          3,
          4,
          5,
          6
         ],
         "y": [
          0.4912234042553192,
          0.4380319148936171,
          0.8420212765957447,
          0.6316489361702128,
          0.40797872340425534,
          0.6890957446808511
         ]
        },
        {
         "name": "Contando Empates que restan",
         "type": "bar",
         "uid": "0044c028-a551-4512-a76b-96fd33287eef",
         "x": [
          1,
          2,
          3,
          4,
          5,
          6
         ],
         "y": [
          0.17659574468085112,
          0.3680851063829788,
          0.6787234042553193,
          0.35106382978723405,
          0.32127659574468087,
          0.6042553191489362
         ]
        }
       ],
       "layout": {
        "autosize": true,
        "barmode": "group",
        "xaxis": {
         "autorange": true,
         "range": [
          0.5,
          6.5
         ],
         "type": "linear"
        },
        "yaxis": {
         "autorange": true,
         "range": [
          0,
          0.8863381858902575
         ],
         "type": "linear"
        }
       }
      },
      "image/png": "[encoded data removed]",
      "text/html": [
       "<div id=\"b606456b-1cf9-4657-bb58-a5035d27a4d4\" style=\"height: 525px; width: 100%;\" class=\"plotly-graph-div\"></div><script type=\"text/javascript\">require([\"plotly\"], function(Plotly) { window.PLOTLYENV=window.PLOTLYENV || {};window.PLOTLYENV.BASE_URL=\"https://plot.ly\";Plotly.newPlot(\"b606456b-1cf9-4657-bb58-a5035d27a4d4\", [{\"name\": \"Sin contar empates\", \"x\": [1, 2, 3, 4, 5, 6], \"y\": [0.30455508474576265, 0.4048375706214689, 0.7545903954802259, 0.5135946327683616, 0.370409604519774, 0.6520127118644068], \"type\": \"bar\", \"uid\": \"c941366d-c755-4147-abe3-79c14b83daca\"}, {\"name\": \"Contando Empates que suman\", \"x\": [1, 2, 3, 4, 5, 6], \"y\": [0.4912234042553192, 0.4380319148936171, 0.8420212765957447, 0.6316489361702128, 0.40797872340425534, 0.6890957446808511], \"type\": \"bar\", \"uid\": \"0eb424ea-0993-4446-a7aa-69318147a40b\"}, {\"name\": \"Contando Empates que restan\", \"x\": [1, 2, 3, 4, 5, 6], \"y\": [0.17659574468085112, 0.3680851063829788, 0.6787234042553193, 0.35106382978723405, 0.32127659574468087, 0.6042553191489362], \"type\": \"bar\", \"uid\": \"0044c028-a551-4512-a76b-96fd33287eef\"}], {\"barmode\": \"group\"}, {\"showLink\": false, \"linkText\": \"Export to plot.ly\", \"plotlyServerURL\": \"https://plot.ly\"})});</script><script type=\"text/javascript\">window.addEventListener(\"resize\", function(){window._Plotly.Plots.resize(document.getElementById(\"b606456b-1cf9-4657-bb58-a5035d27a4d4\"));});</script>"
      ],
      "text/vnd.plotly.v1+html": [
       "<div id=\"b606456b-1cf9-4657-bb58-a5035d27a4d4\" style=\"height: 525px; width: 100%;\" class=\"plotly-graph-div\"></div><script type=\"text/javascript\">require([\"plotly\"], function(Plotly) { window.PLOTLYENV=window.PLOTLYENV || {};window.PLOTLYENV.BASE_URL=\"https://plot.ly\";Plotly.newPlot(\"b606456b-1cf9-4657-bb58-a5035d27a4d4\", [{\"name\": \"Sin contar empates\", \"x\": [1, 2, 3, 4, 5, 6], \"y\": [0.30455508474576265, 0.4048375706214689, 0.7545903954802259, 0.5135946327683616, 0.370409604519774, 0.6520127118644068], \"type\": \"bar\", \"uid\": \"c941366d-c755-4147-abe3-79c14b83daca\"}, {\"name\": \"Contando Empates que suman\", \"x\": [1, 2, 3, 4, 5, 6], \"y\": [0.4912234042553192, 0.4380319148936171, 0.8420212765957447, 0.6316489361702128, 0.40797872340425534, 0.6890957446808511], \"type\": \"bar\", \"uid\": \"0eb424ea-0993-4446-a7aa-69318147a40b\"}, {\"name\": \"Contando Empates que restan\", \"x\": [1, 2, 3, 4, 5, 6], \"y\": [0.17659574468085112, 0.3680851063829788, 0.6787234042553193, 0.35106382978723405, 0.32127659574468087, 0.6042553191489362], \"type\": \"bar\", \"uid\": \"0044c028-a551-4512-a76b-96fd33287eef\"}], {\"barmode\": \"group\"}, {\"showLink\": false, \"linkText\": \"Export to plot.ly\", \"plotlyServerURL\": \"https://plot.ly\"})});</script><script type=\"text/javascript\">window.addEventListener(\"resize\", function(){window._Plotly.Plots.resize(document.getElementById(\"b606456b-1cf9-4657-bb58-a5035d27a4d4\"));});</script>"
      ]
     },
     "metadata": {},
     "output_type": "display_data"
    }
   ],
   "source": [
    "iplot(fig)"
   ]
  },
  {
   "cell_type": "markdown",
   "metadata": {},
   "source": [
    "#"
   ]
  }
 ],
 "metadata": {
  "kernelspec": {
   "display_name": "Python 3",
   "language": "python",
   "name": "python3"
  },
  "language_info": {
   "codemirror_mode": {
    "name": "ipython",
    "version": 3
   },
   "file_extension": ".py",
   "mimetype": "text/x-python",
   "name": "python",
   "nbconvert_exporter": "python",
   "pygments_lexer": "ipython3",
   "version": "3.7.4"
  }
 },
 "nbformat": 4,
 "nbformat_minor": 2
}
