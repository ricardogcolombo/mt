{
 "cells": [
  {
   "cell_type": "code",
   "execution_count": 6,
   "metadata": {},
   "outputs": [
    {
     "data": {
      "text/html": [
       "        <script type=\"text/javascript\">\n",
       "        window.PlotlyConfig = {MathJaxConfig: 'local'};\n",
       "        if (window.MathJax) {MathJax.Hub.Config({SVG: {font: \"STIX-Web\"}});}\n",
       "        if (typeof require !== 'undefined') {\n",
       "        require.undef(\"plotly\");\n",
       "        requirejs.config({\n",
       "            paths: {\n",
       "                'plotly': ['https://cdn.plot.ly/plotly-latest.min']\n",
       "            }\n",
       "        });\n",
       "        require(['plotly'], function(Plotly) {\n",
       "            window._Plotly = Plotly;\n",
       "        });\n",
       "        }\n",
       "        </script>\n",
       "        "
      ]
     },
     "metadata": {},
     "output_type": "display_data"
    }
   ],
   "source": [
    "import numpy\n",
    "import pandas as pd\n",
    "import plotly as py\n",
    "import plotly.graph_objs as go\n",
    "import ipywidgets as widgets\n",
    "from scipy import special\n",
    "\n",
    "py.offline.init_notebook_mode(connected=True)"
   ]
  },
  {
   "cell_type": "code",
   "execution_count": 7,
   "metadata": {},
   "outputs": [
    {
     "name": "stdout",
     "output_type": "stream",
     "text": [
      "/home/parallels/mt/src\n"
     ]
    }
   ],
   "source": [
    "!pwd"
   ]
  },
  {
   "cell_type": "code",
   "execution_count": 126,
   "metadata": {},
   "outputs": [],
   "source": [
    "def getRankingFromFile(year,method):\n",
    "    data = []\n",
    "    filename = \"./Tests_ATP/ATP_{0}-{1}.out\".format(year,method)\n",
    "    jugadores = pd.read_csv('./Tests_ATP/jugadores_2010',sep=' ')\n",
    "    jugadores.columns = ['nombre','id']\n",
    "    with open(filename) as file:\n",
    "        print(filename)\n",
    "        for i, line in enumerate(file):\n",
    "            d = [i,year,float(line),jugadores[jugadores.id==i+1].nombre.tolist()[0]]\n",
    "            data.append(d)\n",
    "    df = pd.DataFrame.from_records(data)\n",
    "    df.columns=['id','year','ranking','nombre']\n",
    "    return df"
   ]
  },
  {
   "cell_type": "code",
   "execution_count": 127,
   "metadata": {},
   "outputs": [
    {
     "name": "stdout",
     "output_type": "stream",
     "text": [
      "./Tests_ATP/ATP_2010-cmm.out\n",
      "./Tests_ATP/ATP_2011-cmm.out\n",
      "./Tests_ATP/ATP_2012-cmm.out\n",
      "./Tests_ATP/ATP_2013-cmm.out\n",
      "./Tests_ATP/ATP_2014-cmm.out\n",
      "./Tests_ATP/ATP_2015-cmm.out\n",
      "./Tests_ATP/ATP_2016-cmm.out\n",
      "./Tests_ATP/ATP_2017-cmm.out\n",
      "./Tests_ATP/ATP_2018-cmm.out\n",
      "./Tests_ATP/ATP_2019-cmm.out\n"
     ]
    }
   ],
   "source": [
    "atp0 =getRankingFromFile(2010,\"cmm\")\n",
    "atp1 = getRankingFromFile(2011,\"cmm\")\n",
    "atp2 = getRankingFromFile(2012,\"cmm\")\n",
    "atp3 = getRankingFromFile(2013,\"cmm\")\n",
    "atp4 = getRankingFromFile(2014,\"cmm\")\n",
    "atp5 = getRankingFromFile(2015,\"cmm\")\n",
    "atp6 = getRankingFromFile(2016,\"cmm\")\n",
    "atp7 = getRankingFromFile(2017,\"cmm\")\n",
    "atp8 = getRankingFromFile(2018,\"cmm\")\n",
    "atp9 = getRankingFromFile(2019,\"cmm\")"
   ]
  },
  {
   "cell_type": "code",
   "execution_count": 128,
   "metadata": {},
   "outputs": [],
   "source": [
    "allYears = pd.concat([atp0,atp1,atp2,atp3,atp4,atp5,atp6,atp7,atp8,atp9])"
   ]
  },
  {
   "cell_type": "code",
   "execution_count": 129,
   "metadata": {},
   "outputs": [
    {
     "data": {
      "text/html": [
       "<div>\n",
       "<style scoped>\n",
       "    .dataframe tbody tr th:only-of-type {\n",
       "        vertical-align: middle;\n",
       "    }\n",
       "\n",
       "    .dataframe tbody tr th {\n",
       "        vertical-align: top;\n",
       "    }\n",
       "\n",
       "    .dataframe thead th {\n",
       "        text-align: right;\n",
       "    }\n",
       "</style>\n",
       "<table border=\"1\" class=\"dataframe\">\n",
       "  <thead>\n",
       "    <tr style=\"text-align: right;\">\n",
       "      <th></th>\n",
       "      <th>id</th>\n",
       "      <th>year</th>\n",
       "      <th>ranking</th>\n",
       "      <th>nombre</th>\n",
       "    </tr>\n",
       "  </thead>\n",
       "  <tbody>\n",
       "    <tr>\n",
       "      <th>0</th>\n",
       "      <td>0</td>\n",
       "      <td>2010</td>\n",
       "      <td>0.455190</td>\n",
       "      <td>Abd Hazli Bin Zainuddin</td>\n",
       "    </tr>\n",
       "    <tr>\n",
       "      <th>1</th>\n",
       "      <td>1</td>\n",
       "      <td>2010</td>\n",
       "      <td>0.363420</td>\n",
       "      <td>Abdulla Hajji</td>\n",
       "    </tr>\n",
       "    <tr>\n",
       "      <th>2</th>\n",
       "      <td>2</td>\n",
       "      <td>2010</td>\n",
       "      <td>0.387952</td>\n",
       "      <td>Adam Kellner</td>\n",
       "    </tr>\n",
       "    <tr>\n",
       "      <th>3</th>\n",
       "      <td>3</td>\n",
       "      <td>2010</td>\n",
       "      <td>0.371162</td>\n",
       "      <td>Adrian Forberg Skogeng</td>\n",
       "    </tr>\n",
       "    <tr>\n",
       "      <th>4</th>\n",
       "      <td>4</td>\n",
       "      <td>2010</td>\n",
       "      <td>0.486654</td>\n",
       "      <td>Adrian Mannarino</td>\n",
       "    </tr>\n",
       "    <tr>\n",
       "      <th>...</th>\n",
       "      <td>...</td>\n",
       "      <td>...</td>\n",
       "      <td>...</td>\n",
       "      <td>...</td>\n",
       "    </tr>\n",
       "    <tr>\n",
       "      <th>359</th>\n",
       "      <td>359</td>\n",
       "      <td>2019</td>\n",
       "      <td>0.318854</td>\n",
       "      <td>Rameez Junaid</td>\n",
       "    </tr>\n",
       "    <tr>\n",
       "      <th>360</th>\n",
       "      <td>360</td>\n",
       "      <td>2019</td>\n",
       "      <td>0.285198</td>\n",
       "      <td>Ramon Delgado</td>\n",
       "    </tr>\n",
       "    <tr>\n",
       "      <th>361</th>\n",
       "      <td>361</td>\n",
       "      <td>2019</td>\n",
       "      <td>0.334071</td>\n",
       "      <td>Rares Cuzdriorean</td>\n",
       "    </tr>\n",
       "    <tr>\n",
       "      <th>362</th>\n",
       "      <td>362</td>\n",
       "      <td>2019</td>\n",
       "      <td>0.521459</td>\n",
       "      <td>Raven Klaasen</td>\n",
       "    </tr>\n",
       "    <tr>\n",
       "      <th>363</th>\n",
       "      <td>363</td>\n",
       "      <td>2019</td>\n",
       "      <td>0.384449</td>\n",
       "      <td>Reda El Amrani</td>\n",
       "    </tr>\n",
       "  </tbody>\n",
       "</table>\n",
       "<p>4350 rows × 4 columns</p>\n",
       "</div>"
      ],
      "text/plain": [
       "      id  year   ranking                   nombre\n",
       "0      0  2010  0.455190  Abd Hazli Bin Zainuddin\n",
       "1      1  2010  0.363420            Abdulla Hajji\n",
       "2      2  2010  0.387952             Adam Kellner\n",
       "3      3  2010  0.371162   Adrian Forberg Skogeng\n",
       "4      4  2010  0.486654         Adrian Mannarino\n",
       "..   ...   ...       ...                      ...\n",
       "359  359  2019  0.318854            Rameez Junaid\n",
       "360  360  2019  0.285198            Ramon Delgado\n",
       "361  361  2019  0.334071        Rares Cuzdriorean\n",
       "362  362  2019  0.521459            Raven Klaasen\n",
       "363  363  2019  0.384449           Reda El Amrani\n",
       "\n",
       "[4350 rows x 4 columns]"
      ]
     },
     "execution_count": 129,
     "metadata": {},
     "output_type": "execute_result"
    }
   ],
   "source": [
    "allYears"
   ]
  },
  {
   "cell_type": "code",
   "execution_count": null,
   "metadata": {},
   "outputs": [],
   "source": []
  }
 ],
 "metadata": {
  "kernelspec": {
   "display_name": "Python 3",
   "language": "python",
   "name": "python3"
  },
  "language_info": {
   "codemirror_mode": {
    "name": "ipython",
    "version": 3
   },
   "file_extension": ".py",
   "mimetype": "text/x-python",
   "name": "python",
   "nbconvert_exporter": "python",
   "pygments_lexer": "ipython3",
   "version": "3.7.6"
  }
 },
 "nbformat": 4,
 "nbformat_minor": 4
}
