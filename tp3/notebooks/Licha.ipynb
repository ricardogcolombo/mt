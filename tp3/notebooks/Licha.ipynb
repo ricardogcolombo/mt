{
 "cells": [
  {
   "cell_type": "code",
   "execution_count": 1,
   "metadata": {},
   "outputs": [
    {
     "name": "stdout",
     "output_type": "stream",
     "text": [
      "-- The C compiler identification is GNU 9.3.0\n",
      "-- The CXX compiler identification is GNU 9.3.0\n",
      "-- Check for working C compiler: /usr/bin/cc\n",
      "-- Check for working C compiler: /usr/bin/cc -- works\n",
      "-- Detecting C compiler ABI info\n",
      "-- Detecting C compiler ABI info - done\n",
      "-- Detecting C compile features\n",
      "-- Detecting C compile features - done\n",
      "-- Check for working CXX compiler: /usr/bin/c++\n",
      "-- Check for working CXX compiler: /usr/bin/c++ -- works\n",
      "-- Detecting CXX compiler ABI info\n",
      "-- Detecting CXX compiler ABI info - done\n",
      "-- Detecting CXX compile features\n",
      "-- Detecting CXX compile features - done\n",
      "Release mode\n",
      "-- Found PythonInterp: /usr/bin/python3 (found version \"3.8.2\") \n",
      "-- Found PythonLibs: /usr/lib/x86_64-linux-gnu/libpython3.8.so\n",
      "-- pybind11 v2.5.dev1\n",
      "-- Performing Test HAS_FLTO\n",
      "-- Performing Test HAS_FLTO - Success\n",
      "-- LTO enabled\n",
      "CMAKE_INSTALL_PREFIX=/home/lisandro/Documents/mt/tp3\n",
      "-- Configuring done\n",
      "-- Generating done\n",
      "-- Build files have been written to: /home/lisandro/Documents/mt/tp3/build\n",
      "\u001b[35m\u001b[1mScanning dependencies of target metnum\u001b[0m\n",
      "[ 33%] \u001b[32mBuilding CXX object CMakeFiles/metnum.dir/src/metnum.cpp.o\u001b[0m\n",
      "[ 66%] \u001b[32mBuilding CXX object CMakeFiles/metnum.dir/src/linear_regression.cpp.o\u001b[0m\n",
      "[100%] \u001b[32m\u001b[1mLinking CXX shared module metnum.cpython-38-x86_64-linux-gnu.so\u001b[0m\n",
      "[100%] Built target metnum\n",
      "\u001b[36mInstall the project...\u001b[0m\n",
      "-- Install configuration: \"Release\"\n",
      "-- Installing: /home/lisandro/Documents/mt/tp3/notebooks/metnum.cpython-38-x86_64-linux-gnu.so\n"
     ]
    }
   ],
   "source": [
    "!cd .. && mkdir build\n",
    "!cd ../build/ && rm -rf *\n",
    "!cd ../build && cmake \\\n",
    "  -DPYTHON_EXECUTABLE=\"$(which python3)\" \\\n",
    "  -DCMAKE_BUILD_TYPE=Release ..\n",
    "!cd ../build && make install"
   ]
  },
  {
   "cell_type": "code",
   "execution_count": 32,
   "metadata": {},
   "outputs": [],
   "source": [
    "import metnum as mt\n",
    "\n",
    "import pandas as pd \n",
    "import matplotlib.pyplot as plt\n",
    "import seaborn as sns\n",
    "from sklearn.linear_model import LinearRegression\n",
    "\n",
    "import util"
   ]
  },
  {
   "cell_type": "code",
   "execution_count": 7,
   "metadata": {},
   "outputs": [
    {
     "name": "stdout",
     "output_type": "stream",
     "text": [
      "<class 'pandas.core.frame.DataFrame'>\n",
      "RangeIndex: 240000 entries, 0 to 239999\n",
      "Data columns (total 23 columns):\n",
      " #   Column                      Non-Null Count   Dtype  \n",
      "---  ------                      --------------   -----  \n",
      " 0   id                          240000 non-null  int64  \n",
      " 1   titulo                      234613 non-null  object \n",
      " 2   descripcion                 238381 non-null  object \n",
      " 3   tipodepropiedad             239954 non-null  object \n",
      " 4   direccion                   186928 non-null  object \n",
      " 5   ciudad                      239628 non-null  object \n",
      " 6   provincia                   239845 non-null  object \n",
      " 7   antiguedad                  196445 non-null  float64\n",
      " 8   habitaciones                217529 non-null  float64\n",
      " 9   garages                     202235 non-null  float64\n",
      " 10  banos                       213779 non-null  float64\n",
      " 11  metroscubiertos             222600 non-null  float64\n",
      " 12  metrostotales               188533 non-null  float64\n",
      " 13  idzona                      211379 non-null  float64\n",
      " 14  lat                         116512 non-null  float64\n",
      " 15  lng                         116512 non-null  float64\n",
      " 16  fecha                       240000 non-null  object \n",
      " 17  gimnasio                    240000 non-null  float64\n",
      " 18  usosmultiples               240000 non-null  float64\n",
      " 19  piscina                     240000 non-null  float64\n",
      " 20  escuelascercanas            240000 non-null  float64\n",
      " 21  centroscomercialescercanos  240000 non-null  float64\n",
      " 22  precio                      240000 non-null  float64\n",
      "dtypes: float64(15), int64(1), object(7)\n",
      "memory usage: 42.1+ MB\n"
     ]
    }
   ],
   "source": [
    "df = pd.read_csv('../data/train.csv')\n",
    "df.info()"
   ]
  },
  {
   "cell_type": "markdown",
   "metadata": {},
   "source": [
    "### Creo lista de ciudades únicas que aparecen en el data set"
   ]
  },
  {
   "cell_type": "code",
   "execution_count": 5,
   "metadata": {},
   "outputs": [
    {
     "name": "stdout",
     "output_type": "stream",
     "text": [
      "CPU times: user 2.78 s, sys: 188 ms, total: 2.97 s\n",
      "Wall time: 2.96 s\n"
     ]
    },
    {
     "data": {
      "text/plain": [
       "876"
      ]
     },
     "execution_count": 5,
     "metadata": {},
     "output_type": "execute_result"
    }
   ],
   "source": [
    "%%time \n",
    "#Encontrar las ciudades que mejor explican su precio en base a los features que estan abajo\n",
    "\n",
    "df = pd.read_csv('../data/train.csv')\n",
    "\n",
    "lista_ciudades = df['ciudad'].unique().tolist()"
   ]
  },
  {
   "cell_type": "markdown",
   "metadata": {},
   "source": [
    "### Me quedo con las columnas que me interesan del data set para hacer el análisis: \n",
    "'antiguedad','habitaciones','garages','banos','gimnasio','usosmultiples','centroscomercialescercanos','precio'"
   ]
  },
  {
   "cell_type": "code",
   "execution_count": 41,
   "metadata": {},
   "outputs": [
    {
     "data": {
      "text/plain": [
       "<matplotlib.collections.PathCollection at 0x7f42bea80b50>"
      ]
     },
     "execution_count": 41,
     "metadata": {},
     "output_type": "execute_result"
    },
    {
     "data": {
      "image/png": "[encoded data removed]",
      "text/plain": [
       "<Figure size 432x288 with 1 Axes>"
      ]
     },
     "metadata": {
      "needs_background": "light"
     },
     "output_type": "display_data"
    }
   ],
   "source": [
    "df = pd.read_csv('../data/train.csv')\n",
    "\n",
    "ciudad = str(lista_ciudades[2])\n",
    "\n",
    "df1 = df[df['ciudad'] == ciudad]\n",
    "\n",
    "df1 = df1[['antiguedad','habitaciones','garages','banos','gimnasio','usosmultiples','centroscomercialescercanos','precio']].dropna()\n",
    "\n",
    "x = df1[['antiguedad','habitaciones','garages','banos','gimnasio','usosmultiples','centroscomercialescercanos']].values\n",
    "x.reshape(len(x),7)\n",
    "\n",
    "y = df1[['precio']].values\n",
    "y.reshape(len(y),1)\n",
    "\n",
    "limit = int(0.85 * len(df1))\n",
    "\n",
    "x_train, y_train = x[0:limit], y[0:limit]\n",
    "x_test, y_test = x[limit:], y[limit:]\n",
    "\n",
    "linreg = mt.LinearRegression()\n",
    "linreg.fit(x_train, y_train)\n",
    "\n",
    "a = linreg.predict(x_test)\n",
    "\n",
    "\n",
    "plt.scatter([b for b in range(len(a))], a)\n",
    "plt.scatter([b for b in range(len(a))], y_test)\n",
    "\n",
    "\n",
    "\n"
   ]
  },
  {
   "cell_type": "code",
   "execution_count": 24,
   "metadata": {},
   "outputs": [
    {
     "data": {
      "text/plain": [
       "array([[ 538318.84118133],\n",
       "       [ 982762.79704725],\n",
       "       [ 707096.11617807],\n",
       "       [1038578.22784586],\n",
       "       [ 399563.48925299],\n",
       "       [ 530831.9264659 ],\n",
       "       [ 706832.76374063],\n",
       "       [ 520679.50849422],\n",
       "       [1337790.48556753],\n",
       "       [1062123.80469835],\n",
       "       [ 796346.1893634 ],\n",
       "       [ 982762.79704725],\n",
       "       [ 965220.62263726],\n",
       "       [ 441318.50084313],\n",
       "       [ 399563.48925299],\n",
       "       [ 578590.34049853],\n",
       "       [ 530831.9264659 ],\n",
       "       [1169179.40473111],\n",
       "       [ 717248.53414975],\n",
       "       [ 773063.96494836],\n",
       "       [ 634045.26058257],\n",
       "       [ 772133.35218326],\n",
       "       [ 543961.73290926],\n",
       "       [ 616142.57545802],\n",
       "       [ 885859.61498617],\n",
       "       [ 799372.2033342 ],\n",
       "       [1037647.61508076],\n",
       "       [ 441318.50084313],\n",
       "       [ 946957.42679815],\n",
       "       [ 717248.53414975],\n",
       "       [ 610192.93411699],\n",
       "       [1127161.04070353],\n",
       "       [ 512929.24134134],\n",
       "       [ 627735.10852698],\n",
       "       [1475062.32522292],\n",
       "       [ 964860.1119227 ],\n",
       "       [ 633475.15853203],\n",
       "       [ 940744.43301967],\n",
       "       [1030521.21107988],\n",
       "       [ 399563.48925299],\n",
       "       [ 940744.43301967],\n",
       "       [1127424.39314097],\n",
       "       [ 982762.79704725],\n",
       "       [ 699706.35973976],\n",
       "       [1252916.00104764],\n",
       "       [ 578590.34049853],\n",
       "       [ 940744.43301967],\n",
       "       [1055910.81091987],\n",
       "       [ 893249.37142449],\n",
       "       [ 530831.9264659 ],\n",
       "       [1019842.08823332],\n",
       "       [ 399300.13681555],\n",
       "       [ 489076.91487576],\n",
       "       [ 851494.35983435],\n",
       "       [ 578590.34049853],\n",
       "       [1169179.40473111],\n",
       "       [1037647.61508076],\n",
       "       [ 982762.79704725],\n",
       "       [1120034.63670265],\n",
       "       [ 851494.35983435],\n",
       "       [1141221.459912  ],\n",
       "       [ 885859.61498617],\n",
       "       [ 542784.97024942],\n",
       "       [ 620345.35208866],\n",
       "       [ 578590.34049853],\n",
       "       [1151637.23032111],\n",
       "       [ 707096.11617807],\n",
       "       [ 344415.31878204],\n",
       "       [ 796346.1893634 ],\n",
       "       [ 832512.07032707],\n",
       "       [ 489076.91487576],\n",
       "       [ 722988.5841548 ],\n",
       "       [ 620345.35208866],\n",
       "       [1175489.5567867 ],\n",
       "       [ 620345.35208866],\n",
       "       [ 796609.54180084],\n",
       "       [ 838364.55339098],\n",
       "       [ 851494.35983435],\n",
       "       [ 530831.9264659 ],\n",
       "       [ 399563.48925299],\n",
       "       [ 827948.78298186],\n",
       "       [1127161.04070353],\n",
       "       [ 441318.50084313],\n",
       "       [ 982762.79704725],\n",
       "       [1272753.24956234],\n",
       "       [ 568744.67213995],\n",
       "       [ 651947.94570713],\n",
       "       [ 796609.54180084],\n",
       "       [ 982762.79704725],\n",
       "       [1072276.22267002],\n",
       "       [ 530831.9264659 ],\n",
       "       [ 651947.94570713],\n",
       "       [1037647.61508076],\n",
       "       [ 982762.79704725],\n",
       "       [ 893249.37142449],\n",
       "       [ 778706.85667629]])"
      ]
     },
     "execution_count": 24,
     "metadata": {},
     "output_type": "execute_result"
    }
   ],
   "source": [
    "a"
   ]
  },
  {
   "cell_type": "code",
   "execution_count": 25,
   "metadata": {},
   "outputs": [
    {
     "data": {
      "text/plain": [
       "array([[ 467000.],\n",
       "       [ 645000.],\n",
       "       [ 750000.],\n",
       "       [ 890000.],\n",
       "       [ 600000.],\n",
       "       [ 750000.],\n",
       "       [1400000.],\n",
       "       [ 408000.],\n",
       "       [2250000.],\n",
       "       [ 900000.],\n",
       "       [1150000.],\n",
       "       [1150000.],\n",
       "       [1850000.],\n",
       "       [ 780000.],\n",
       "       [ 595000.],\n",
       "       [ 385000.],\n",
       "       [ 750000.],\n",
       "       [1150000.],\n",
       "       [ 500000.],\n",
       "       [ 550000.],\n",
       "       [ 650000.],\n",
       "       [ 630000.],\n",
       "       [ 568000.],\n",
       "       [ 550000.],\n",
       "       [ 990000.],\n",
       "       [ 320000.],\n",
       "       [ 640000.],\n",
       "       [ 580000.],\n",
       "       [ 935000.],\n",
       "       [ 950000.],\n",
       "       [ 590000.],\n",
       "       [ 660000.],\n",
       "       [ 540000.],\n",
       "       [ 375000.],\n",
       "       [1400000.],\n",
       "       [ 860000.],\n",
       "       [ 565000.],\n",
       "       [1370000.],\n",
       "       [ 650000.],\n",
       "       [ 360000.],\n",
       "       [ 660000.],\n",
       "       [1150000.],\n",
       "       [1156500.],\n",
       "       [ 590000.],\n",
       "       [1900000.],\n",
       "       [ 490000.],\n",
       "       [ 850000.],\n",
       "       [ 875000.],\n",
       "       [ 503500.],\n",
       "       [ 540000.],\n",
       "       [ 750000.],\n",
       "       [ 320000.],\n",
       "       [ 550000.],\n",
       "       [1850000.],\n",
       "       [ 380000.],\n",
       "       [ 850000.],\n",
       "       [ 699000.],\n",
       "       [1200000.],\n",
       "       [1250000.],\n",
       "       [ 870000.],\n",
       "       [ 950000.],\n",
       "       [ 510000.],\n",
       "       [ 550000.],\n",
       "       [ 340000.],\n",
       "       [ 360000.],\n",
       "       [ 750000.],\n",
       "       [ 560000.],\n",
       "       [ 450000.],\n",
       "       [ 705000.],\n",
       "       [1050000.],\n",
       "       [ 450000.],\n",
       "       [ 580000.],\n",
       "       [ 350000.],\n",
       "       [1980000.],\n",
       "       [ 530000.],\n",
       "       [ 800000.],\n",
       "       [ 670000.],\n",
       "       [ 540000.],\n",
       "       [ 370000.],\n",
       "       [ 350000.],\n",
       "       [ 445000.],\n",
       "       [1200000.],\n",
       "       [ 335000.],\n",
       "       [1200000.],\n",
       "       [1390000.],\n",
       "       [ 990000.],\n",
       "       [ 690000.],\n",
       "       [ 750000.],\n",
       "       [1200000.],\n",
       "       [ 900000.],\n",
       "       [ 750000.],\n",
       "       [ 565000.],\n",
       "       [1400000.],\n",
       "       [1150000.],\n",
       "       [ 895000.],\n",
       "       [ 570000.]])"
      ]
     },
     "execution_count": 25,
     "metadata": {},
     "output_type": "execute_result"
    }
   ],
   "source": [
    "y_test"
   ]
  }
 ],
 "metadata": {
  "kernelspec": {
   "display_name": "Python 3",
   "language": "python",
   "name": "python3"
  },
  "language_info": {
   "codemirror_mode": {
    "name": "ipython",
    "version": 3
   },
   "file_extension": ".py",
   "mimetype": "text/x-python",
   "name": "python",
   "nbconvert_exporter": "python",
   "pygments_lexer": "ipython3",
   "version": "3.8.2"
  }
 },
 "nbformat": 4,
 "nbformat_minor": 4
}
