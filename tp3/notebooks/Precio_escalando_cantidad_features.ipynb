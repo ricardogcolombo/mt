{
 "cells": [
  {
   "cell_type": "code",
   "execution_count": null,
   "metadata": {},
   "outputs": [
    {
     "name": "stdout",
     "output_type": "stream",
     "text": [
      "mkdir: cannot create directory ‘build’: File exists\n",
      "-- The C compiler identification is GNU 9.3.0\n",
      "-- The CXX compiler identification is GNU 9.3.0\n",
      "-- Check for working C compiler: /usr/bin/cc\n",
      "-- Check for working C compiler: /usr/bin/cc -- works\n",
      "-- Detecting C compiler ABI info\n",
      "-- Detecting C compiler ABI info - done\n",
      "-- Detecting C compile features\n",
      "-- Detecting C compile features - done\n",
      "-- Check for working CXX compiler: /usr/bin/c++\n",
      "-- Check for working CXX compiler: /usr/bin/c++ -- works\n",
      "-- Detecting CXX compiler ABI info\n",
      "-- Detecting CXX compiler ABI info - done\n",
      "-- Detecting CXX compile features\n",
      "-- Detecting CXX compile features - done\n",
      "Release mode\n",
      "-- Found PythonInterp: /usr/bin/python3 (found version \"3.8.2\") \n",
      "-- Found PythonLibs: /usr/lib/x86_64-linux-gnu/libpython3.8.so\n",
      "-- pybind11 v2.5.dev1\n",
      "-- Performing Test HAS_FLTO\n",
      "-- Performing Test HAS_FLTO - Success\n",
      "-- LTO enabled\n",
      "CMAKE_INSTALL_PREFIX=/home/lisandro/Documents/mt/tp3\n",
      "-- Configuring done\n",
      "-- Generating done\n",
      "-- Build files have been written to: /home/lisandro/Documents/mt/tp3/build\n",
      "\u001b[35m\u001b[1mScanning dependencies of target metnum\u001b[0m\n",
      "[ 33%] \u001b[32mBuilding CXX object CMakeFiles/metnum.dir/src/metnum.cpp.o\u001b[0m\n",
      "[ 66%] \u001b[32mBuilding CXX object CMakeFiles/metnum.dir/src/linear_regression.cpp.o\u001b[0m\n",
      "[100%] \u001b[32m\u001b[1mLinking CXX shared module metnum.cpython-38-x86_64-linux-gnu.so\u001b[0m\n"
     ]
    }
   ],
   "source": [
    "!cd .. && mkdir build\n",
    "!cd ../build/ && rm -rf *\n",
    "!cd ../build && cmake \\\n",
    "  -DPYTHON_EXECUTABLE=\"$(which python3)\" \\\n",
    "  -DCMAKE_BUILD_TYPE=Release ..\n",
    "!cd ../build && make install"
   ]
  },
  {
   "cell_type": "code",
   "execution_count": 3,
   "metadata": {},
   "outputs": [],
   "source": [
    "import metnum\n",
    "import pandas as pd \n",
    "import matplotlib.pyplot as plt\n",
    "import numpy as np\n",
    "import seaborn as sns\n",
    "from sklearn.linear_model import LinearRegression\n",
    "import util\n",
    "import math\n",
    "import os \n",
    "import time"
   ]
  },
  {
   "cell_type": "markdown",
   "metadata": {},
   "source": [
    "#### Leo el dataset"
   ]
  },
  {
   "cell_type": "code",
   "execution_count": 4,
   "metadata": {},
   "outputs": [],
   "source": [
    "df = pd.read_csv('../data/train.csv')"
   ]
  },
  {
   "cell_type": "code",
   "execution_count": 5,
   "metadata": {},
   "outputs": [
    {
     "data": {
      "text/plain": [
       "Index(['id', 'titulo', 'descripcion', 'tipodepropiedad', 'direccion', 'ciudad',\n",
       "       'provincia', 'antiguedad', 'habitaciones', 'garages', 'banos',\n",
       "       'metroscubiertos', 'metrostotales', 'idzona', 'lat', 'lng', 'fecha',\n",
       "       'gimnasio', 'usosmultiples', 'piscina', 'escuelascercanas',\n",
       "       'centroscomercialescercanos', 'precio'],\n",
       "      dtype='object')"
      ]
     },
     "execution_count": 5,
     "metadata": {},
     "output_type": "execute_result"
    }
   ],
   "source": [
    "df.columns"
   ]
  },
  {
   "cell_type": "code",
   "execution_count": 48,
   "metadata": {},
   "outputs": [
    {
     "name": "stdout",
     "output_type": "stream",
     "text": [
      "<class 'pandas.core.frame.DataFrame'>\n",
      "RangeIndex: 240000 entries, 0 to 239999\n",
      "Data columns (total 23 columns):\n",
      "id                            240000 non-null int64\n",
      "titulo                        234613 non-null object\n",
      "descripcion                   238381 non-null object\n",
      "tipodepropiedad               239954 non-null object\n",
      "direccion                     186928 non-null object\n",
      "ciudad                        239628 non-null object\n",
      "provincia                     239845 non-null object\n",
      "antiguedad                    196445 non-null float64\n",
      "habitaciones                  217529 non-null float64\n",
      "garages                       202235 non-null float64\n",
      "banos                         213779 non-null float64\n",
      "metroscubiertos               222600 non-null float64\n",
      "metrostotales                 188533 non-null float64\n",
      "idzona                        211379 non-null float64\n",
      "lat                           116512 non-null float64\n",
      "lng                           116512 non-null float64\n",
      "fecha                         240000 non-null object\n",
      "gimnasio                      240000 non-null float64\n",
      "usosmultiples                 240000 non-null float64\n",
      "piscina                       240000 non-null float64\n",
      "escuelascercanas              240000 non-null float64\n",
      "centroscomercialescercanos    240000 non-null float64\n",
      "precio                        240000 non-null float64\n",
      "dtypes: float64(15), int64(1), object(7)\n",
      "memory usage: 42.1+ MB\n"
     ]
    }
   ],
   "source": [
    "df.info()\n",
    "#variables numéricas:\n",
    "# antiguedad, habitaciones, garages, banos, metroscubiertos, \n",
    "# metrostotales, gimnasio, usosmultiples, piscina, escuelascercanas, centroscomercialesceranos\n",
    "#precio"
   ]
  },
  {
   "cell_type": "markdown",
   "metadata": {},
   "source": [
    "#### Creo un diccionario que contiene a las ciudades con menos de 20 inmuebles\n"
   ]
  },
  {
   "cell_type": "code",
   "execution_count": 6,
   "metadata": {},
   "outputs": [],
   "source": [
    "dicc_ciudades = df['ciudad'].value_counts().to_dict()\n",
    "\n",
    "dicc_pocas = {}\n",
    "\n",
    "for x in dicc_ciudades:\n",
    "    if dicc_ciudades[x] < 20:\n",
    "        dicc_pocas[x] = True"
   ]
  },
  {
   "cell_type": "markdown",
   "metadata": {},
   "source": [
    "#### Para las ciudades con menos de 20 inmuebles, cambiamos su nombre de ciudad a Resto, juntando todos esos inmuebles"
   ]
  },
  {
   "cell_type": "code",
   "execution_count": 7,
   "metadata": {},
   "outputs": [],
   "source": [
    "for index in range(df.shape[0]):\n",
    "    if df.loc[index, 'ciudad'] in dicc_pocas:\n",
    "        df.loc[index, 'ciudad'] = 'Resto'"
   ]
  },
  {
   "cell_type": "code",
   "execution_count": 10,
   "metadata": {},
   "outputs": [
    {
     "data": {
      "text/plain": [
       "Querétaro                  12646\n",
       "Benito Juárez              11014\n",
       "Zapopan                    10360\n",
       "San Luis Potosí             7925\n",
       "Mérida                      7162\n",
       "Monterrey                   6946\n",
       "Alvaro Obregón              6633\n",
       "Cuauhtémoc                  6614\n",
       "Naucalpan de Juárez         6554\n",
       "Miguel Hidalgo              5795\n",
       "Atizapán de Zaragoza        5783\n",
       "Tlalpan                     5721\n",
       "Huixquilucan                5718\n",
       "Coyoacán                    5293\n",
       "Puebla                      4636\n",
       "Guadalajara                 4006\n",
       "San Andrés Cholula          3805\n",
       "Cancún                      3779\n",
       "Cuernavaca                  3775\n",
       "Chihuahua                   3757\n",
       "Tlalnepantla de Baz         3588\n",
       "Cuautitlán Izcalli          3408\n",
       "Tlajomulco de Zúñiga        3254\n",
       "Gustavo A. Madero           3141\n",
       "Iztapalapa                  3093\n",
       "Cuajimalpa de Morelos       3020\n",
       "Tijuana                     2863\n",
       "Hermosillo                  2590\n",
       "Resto                       2497\n",
       "Acapulco de Juárez          2454\n",
       "                           ...  \n",
       "Jilotepec                     29\n",
       "Tehuacán                      28\n",
       "Yauhquemecan                  27\n",
       "Ocotlán                       27\n",
       "San Pablo Etla                27\n",
       "Milpa Alta                    27\n",
       "Hidalgo del Parral            26\n",
       "Nextlalpan                    26\n",
       "Salamanca                     26\n",
       "San Agustín Tlaxiaca          25\n",
       "Comala                        25\n",
       "Mexicaltzingo                 25\n",
       "Ciénega de Flores             24\n",
       "Amealco de Bonfil             24\n",
       "Victoria                      24\n",
       "Tepetlaoxtoc                  23\n",
       "San Luis Río Colorado         23\n",
       "Santa Cruz Tlaxcala           23\n",
       "Tetla de la Solidaridad       22\n",
       "otra                          22\n",
       "Matamoros                     22\n",
       "Temozón                       21\n",
       "San Jacinto Amilpas           21\n",
       "Playas de Rosarito            21\n",
       "Zacatelco                     21\n",
       "Atotonilco de Tula            21\n",
       "Coyame del Sotol              20\n",
       "Tula de Allende               20\n",
       "Santa María Atzompa           20\n",
       "Atlacomulco                   20\n",
       "Name: ciudad, Length: 243, dtype: int64"
      ]
     },
     "execution_count": 10,
     "metadata": {},
     "output_type": "execute_result"
    }
   ],
   "source": [
    "df['ciudad'].value_counts()"
   ]
  },
  {
   "cell_type": "markdown",
   "metadata": {},
   "source": [
    "#### Creo la función que necesito para experimentar"
   ]
  },
  {
   "cell_type": "code",
   "execution_count": 11,
   "metadata": {},
   "outputs": [],
   "source": [
    "#Tanto lista_atributos_predicen como atributo_a_predecir son listas de strings.\n",
    "\n",
    "#No modifica el data frame que le pasamos como parámetro.\n",
    "\n",
    "def métricas_regresión_ciudades(_df, ciudad, lista_atributos_predicen, atributo_a_predecir, porcentaje = 0.8):\n",
    "    \n",
    "    new_df = _df[_df['ciudad'] == ciudad]\n",
    "    \n",
    "    #Tiro las filas con Nan en algunas de las columnas que vamos a utilizar.\n",
    "    lista_completa = lista_atributos_predicen.copy()\n",
    "    lista_completa.append(atributo_a_predecir)\n",
    "    new_df = new_df[lista_completa].dropna()\n",
    "    \n",
    "    n = len(new_df)\n",
    "    limite = int(n*porcentaje)\n",
    "    \n",
    "    df_predicen_train = new_df[lista_atributos_predicen][0:limite]\n",
    "    df_predecido_train = new_df[atributo_a_predecir][0:limite]\n",
    "    \n",
    "    df_predicen_test = new_df[lista_atributos_predicen][limite:]\n",
    "    df_predecido_test = new_df[atributo_a_predecir][limite:]\n",
    "    \n",
    "    x_train = df_predicen_train.to_numpy()\n",
    "    y_train = df_predecido_train.to_numpy()\n",
    "    \n",
    "    #x_train = x_train.reshape(x_train.shape[1], x_train.shape[0])\n",
    "    y_train = y_train.reshape(len(y_train),1)\n",
    "    \n",
    "    x_test = df_predicen_test.to_numpy()\n",
    "    y_test = df_predecido_test.to_numpy()\n",
    "    \n",
    "    #x_test = x_test.reshape(x_test.shape[1], x_test.shape[0])\n",
    "    y_test = y_test.reshape(len(y_test),1)\n",
    "    \n",
    "    linReg = metnum.LinearRegression()\n",
    "    linReg.fit(x_train, y_train)\n",
    "    pred = linReg.predict(x_test)\n",
    "\n",
    "    return util.get_errors(pred, y_test)\n",
    "    \n",
    "    \n"
   ]
  },
  {
   "cell_type": "code",
   "execution_count": 14,
   "metadata": {},
   "outputs": [
    {
     "data": {
      "text/plain": [
       "0.631013864354211"
      ]
     },
     "execution_count": 14,
     "metadata": {},
     "output_type": "execute_result"
    }
   ],
   "source": [
    "métricas_regresión_ciudades(df, 'Cuauhtémoc',  ['metrostotales','banos'], 'precio')"
   ]
  },
  {
   "cell_type": "code",
   "execution_count": 85,
   "metadata": {},
   "outputs": [],
   "source": [
    "lista_ciudades = df['ciudad'].unique().tolist()\n",
    "#total = 244\n",
    "\n",
    "variables_numéricas = ['metroscubiertos','antiguedad', 'habitaciones', 'garages', 'banos', 'metrostotales',\n",
    "                       'gimnasio', 'usosmultiples', 'piscina', 'escuelascercanas', 'centroscomercialescercanos']\n",
    "\n",
    "rsme_Querétaro = []\n",
    "rsmle_Querétaro = []\n",
    "\n",
    "rsme_Xochitepec = []\n",
    "rsmle_Xochitepec = []\n",
    "\n",
    "rsme_Resto = []\n",
    "rsmle_Resto = []\n",
    "\n",
    "#calculo las métricas para la predicción usando las primeras i (variando de 1 a 11) variables con Querétaro\n",
    "\n",
    "lista_variables = []\n",
    "\n",
    "for variable in variables_numéricas:\n",
    "    lista_variables.append(variable)\n",
    "    rsme_Querétaro.append(métricas_regresión_ciudades(df, 'Querétaro',  lista_variables, 'precio')[0])\n",
    "    rsmle_Querétaro.append(métricas_regresión_ciudades(df, 'Querétaro',  lista_variables, 'precio')[1])\n",
    "\n",
    "lista_variables = []\n",
    "\n",
    "#calculo las métricas para la predicción usando las primeras i (variando de 1 a 11) variables con Xochitepec\n",
    "lista_variables = []\n",
    "\n",
    "for variable in variables_numéricas:\n",
    "    lista_variables.append(variable)\n",
    "    rsme_Xochitepec.append(métricas_regresión_ciudades(df, 'Xochitepec',  lista_variables, 'precio')[0])\n",
    "    rsmle_Xochitepec.append(métricas_regresión_ciudades(df, 'Xochitepec',  lista_variables, 'precio')[1])\n",
    "\n",
    "# #calculo las métricas para la predicción usando las primeras i (variando de 1 a 11) variables con Resto\n",
    "lista_variables = []\n",
    "\n",
    "for variable in variables_numéricas:\n",
    "    lista_variables.append(variable)\n",
    "    rsme_Resto.append(métricas_regresión_ciudades(df, 'Resto',  lista_variables, 'precio')[0])\n",
    "    rsmle_Resto.append(métricas_regresión_ciudades(df, 'Resto',  lista_variables, 'precio')[1])\n",
    "\n"
   ]
  },
  {
   "cell_type": "code",
   "execution_count": 116,
   "metadata": {},
   "outputs": [
    {
     "data": {
      "text/plain": [
       "str"
      ]
     },
     "execution_count": 116,
     "metadata": {},
     "output_type": "execute_result"
    },
    {
     "data": {
      "image/png": "[encoded data removed]",
      "text/plain": [
       "<Figure size 432x288 with 1 Axes>"
      ]
     },
     "metadata": {
      "needs_background": "light"
     },
     "output_type": "display_data"
    }
   ],
   "source": [
    "plt.bar([1,2,3,4,5,6,7,8,9,10,11],rsme_Querétaro)\n",
    "plt.xlabel('Cantidad de features')\n",
    "plt.ylabel('RMSE')\n",
    "plt.title('Querétaro')"
   ]
  }
 ],
 "metadata": {
  "kernelspec": {
   "display_name": "Python 3",
   "language": "python",
   "name": "python3"
  },
  "language_info": {
   "codemirror_mode": {
    "name": "ipython",
    "version": 3
   },
   "file_extension": ".py",
   "mimetype": "text/x-python",
   "name": "python",
   "nbconvert_exporter": "python",
   "pygments_lexer": "ipython3",
   "version": "3.8.2"
  }
 },
 "nbformat": 4,
 "nbformat_minor": 4
}
