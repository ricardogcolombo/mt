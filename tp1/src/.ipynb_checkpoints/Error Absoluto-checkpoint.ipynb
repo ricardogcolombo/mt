{
 "cells": [
  {
   "cell_type": "code",
   "execution_count": 4,
   "metadata": {},
   "outputs": [
    {
     "data": {
      "text/html": [
       "        <script type=\"text/javascript\">\n",
       "        window.PlotlyConfig = {MathJaxConfig: 'local'};\n",
       "        if (window.MathJax) {MathJax.Hub.Config({SVG: {font: \"STIX-Web\"}});}\n",
       "        if (typeof require !== 'undefined') {\n",
       "        require.undef(\"plotly\");\n",
       "        requirejs.config({\n",
       "            paths: {\n",
       "                'plotly': ['https://cdn.plot.ly/plotly-latest.min']\n",
       "            }\n",
       "        });\n",
       "        require(['plotly'], function(Plotly) {\n",
       "            window._Plotly = Plotly;\n",
       "        });\n",
       "        }\n",
       "        </script>\n",
       "        "
      ]
     },
     "metadata": {},
     "output_type": "display_data"
    }
   ],
   "source": [
    "import numpy as np\n",
    "import pandas as pd\n",
    "import plotly as py\n",
    "import plotly.graph_objs as go\n",
    "import ipywidgets as widgets\n",
    "from scipy import special\n",
    "import plotly.offline as pyo\n",
    "py.offline.init_notebook_mode(connected=True)"
   ]
  },
  {
   "cell_type": "code",
   "execution_count": 5,
   "metadata": {},
   "outputs": [],
   "source": [
    "from plotly.subplots import make_subplots\n",
    "\n",
    "def getError(path,pathexpected):\n",
    "    data=[]\n",
    "    with open(path) as file:\n",
    "        print(\"read file {0}\".format(path))\n",
    "        for i, line in enumerate(file):\n",
    "            d = float(line)\n",
    "            data.append(d)\n",
    "\n",
    "    with open(pathExpected) as file:\n",
    "        print(\"read file {0}\".format(pathExpected))\n",
    "        for i, line in enumerate(file):\n",
    "            data[i] = abs(data[i]-float(line))\n",
    "    return data\n",
    "def buildChart(x,y,x1,y1,name):\n",
    "    tickXfont = dict(\n",
    "        font=dict(\n",
    "            family=\"Courier New\",\n",
    "            size=14,\n",
    "            color=\"#2a3f5f\"),\n",
    "        text='Valor error abosluto'\n",
    "    )\n",
    "    titleYfont = dict(\n",
    "        font=dict(\n",
    "            family=\"Courier New\",\n",
    "            size=14,\n",
    "            color=\"#2a3f5f\"),\n",
    "        text='Equipo'\n",
    "    )\n",
    "    tickYfont = dict(\n",
    "        family=\"Courier New\",\n",
    "        size=14,\n",
    "        color=\"#2a3f5f\")\n",
    "    \n",
    "    xaxis=dict(\n",
    "        nticks=40,\n",
    "        tickfont=dict(size=10,family='Courier New'),\n",
    "        ticks='outside',\n",
    "        title=tickXfont,\n",
    "        exponentformat=\"power\",\n",
    "        showticklabels=True,\n",
    "        type=\"linear\",\n",
    "        visible=True,\n",
    "        rangemode=\"normal\",\n",
    "        color=\"#444\",\n",
    "        showexponent=\"all\",\n",
    "        separatethousands=False,\n",
    "        ticklen=5,\n",
    "        tickwidth=1,\n",
    "        tickcolor=\"#444\",\n",
    "        linewidth=1,\n",
    "        gridcolor=\"#EBF0F8\",\n",
    "        linecolor='#C5CED9',\n",
    "        gridwidth=1,\n",
    "        zerolinecolor=\"#EBF0F8\",\n",
    "        zerolinewidth=2,\n",
    "        zeroline=True,\n",
    "        automargin=True,\n",
    "        layer=\"above traces\",\n",
    "        fixedrange=False,\n",
    "        constrain=\"range\",\n",
    "        constraintoward=\"center\"\n",
    "    )\n",
    "    yaxis=dict(\n",
    "        tickfont=tickYfont,\n",
    "        ticks='outside',\n",
    "        title=titleYfont\n",
    "    )\n",
    "    fig = make_subplots(rows=1, cols=2)\n",
    "    fig = fig.add_trace(go.Bar(y=y,x=x,orientation='h',name='CMM'), row=1, col=1)\n",
    "    fig = fig.add_trace(go.Bar(y=y1,x=x1,orientation='h',name='WP'), row=1, col=2)\n",
    "    fig.update_layout(title='Error Absoluto Esperado vs Obtenidos {0}'.format(name),plot_bgcolor='#FFF',bargap=0.59,xaxis=xaxis,xaxis2=xaxis,yaxis2=yaxis,yaxis=yaxis)\n",
    "    fig.write_html('{0}.html'.format(name), auto_open=True)\n",
    "\n",
    "def buildChartCompare(x,y,x1,y1,name):\n",
    "    tickXfont = dict(\n",
    "        font=dict(\n",
    "            family=\"Courier New\",\n",
    "            size=14,\n",
    "            color=\"#2a3f5f\"),\n",
    "        text='Valor error abosluto'\n",
    "    )\n",
    "    titleYfont = dict(\n",
    "        font=dict(\n",
    "            family=\"Courier New\",\n",
    "            size=14,\n",
    "            color=\"#2a3f5f\"),\n",
    "        text='Equipo'\n",
    "    )\n",
    "    tickYfont = dict(\n",
    "        family=\"Courier New\",\n",
    "        size=14,\n",
    "        color=\"#2a3f5f\")\n",
    "    \n",
    "    xaxis=dict(\n",
    "        nticks=40,\n",
    "        tickfont=dict(size=10,family='Courier New'),\n",
    "        ticks='outside',\n",
    "        title=tickXfont,\n",
    "        exponentformat=\"power\",\n",
    "        showticklabels=True,\n",
    "        type=\"linear\",\n",
    "        visible=True,\n",
    "        rangemode=\"normal\",\n",
    "        color=\"#444\",\n",
    "        showexponent=\"all\",\n",
    "        separatethousands=False,\n",
    "        ticklen=5,\n",
    "        tickwidth=1,\n",
    "        tickcolor=\"#444\",\n",
    "        linewidth=1,\n",
    "        gridcolor=\"#EBF0F8\",\n",
    "        linecolor='#C5CED9',\n",
    "        gridwidth=1,\n",
    "        zerolinecolor=\"#EBF0F8\",\n",
    "        zerolinewidth=2,\n",
    "        zeroline=True,\n",
    "        automargin=True,\n",
    "        layer=\"above traces\",\n",
    "        fixedrange=False,\n",
    "        constrain=\"range\",\n",
    "        constraintoward=\"center\"\n",
    "    )\n",
    "    yaxis=dict(\n",
    "        tickfont=tickYfont,\n",
    "        ticks='outside',\n",
    "        title=titleYfont\n",
    "    )\n",
    "    fig = go.Figure(data=[\n",
    "        go.Bar(y=y,x=x,orientation='h',name='WP'),\n",
    "        go.Bar(y=y1,x=x1,orientation='h',name='WPL')\n",
    "    ])\n",
    "    fig.update_layout(title='Error Absoluto Esperado vs Obtenidos {0}'.format(name),plot_bgcolor='#FFF',barmode='group',xaxis=xaxis,xaxis2=xaxis,yaxis2=yaxis,yaxis=yaxis)\n",
    "    fig.write_html('{0}.html'.format(name), auto_open=True)"
   ]
  },
  {
   "cell_type": "code",
   "execution_count": 6,
   "metadata": {},
   "outputs": [],
   "source": [
    "ticksY = [1,2,3,4,5,6]"
   ]
  },
  {
   "cell_type": "code",
   "execution_count": 8,
   "metadata": {},
   "outputs": [
    {
     "name": "stdout",
     "output_type": "stream",
     "text": [
      "Corriendo test CMM para test prob 1\n",
      "Corriendo Metodo Gauss en CMM...\n",
      " Corriendo test wp para test prob 1\n",
      "Corriendo Metodo WP...\n",
      " Corriendo test wpl para test prob 1\n",
      "Corriendo Metodo WPL...\n",
      "Corriendo test CMM para test prob 2\n",
      "Corriendo Metodo Gauss en CMM...\n",
      " Corriendo test wp para test prob 2\n",
      "Corriendo Metodo WP...\n",
      " Corriendo test wpl para test prob 2\n",
      "Corriendo Metodo WPL...\n",
      "Corriendo test CMM para test 1\n",
      "Corriendo Metodo Gauss en CMM...\n",
      " Corriendo test wp para test 1\n",
      "Corriendo Metodo WP...\n",
      "Corriendo test CMM para test 2\n",
      "Corriendo Metodo Gauss en CMM...\n",
      " Corriendo test wp para test 2\n",
      "Corriendo Metodo WP...\n"
     ]
    }
   ],
   "source": [
    "!./executeTestsForCharts.sh"
   ]
  },
  {
   "cell_type": "markdown",
   "metadata": {},
   "source": [
    "# TEST PROB 1 "
   ]
  },
  {
   "cell_type": "code",
   "execution_count": 9,
   "metadata": {},
   "outputs": [
    {
     "name": "stdout",
     "output_type": "stream",
     "text": [
      "read file ./tests/testprob1chartcmm.out\n",
      "read file ./tests/test-prob-1.expected\n",
      "read file ./tests/testprob1chartwp.out\n",
      "read file ./tests/test-prob-1.expected\n"
     ]
    }
   ],
   "source": [
    "path = './tests/testprob1chartcmm.out'\n",
    "pathExpected = './tests/test-prob-1.expected'\n",
    "testProb1cmm = getError(path,pathExpected)\n",
    "path = './tests/testprob1chartwp.out'\n",
    "pathExpected = './tests/test-prob-1.expected'\n",
    "testProb1wp = getError(path,pathExpected)\n",
    "buildChart(y=ticksY,x=testProb1cmm,name='test-prob-1',x1=testProb1wp,y1=ticksY)"
   ]
  },
  {
   "cell_type": "code",
   "execution_count": 287,
   "metadata": {},
   "outputs": [
    {
     "name": "stdout",
     "output_type": "stream",
     "text": [
      "read file ./tests/testprob1chartwpl.out\n",
      "read file ./tests/test-prob-1.expected\n"
     ]
    }
   ],
   "source": [
    "path2 = './tests/testprob1chartwpl.out'\n",
    "pathExpected = './tests/test-prob-1.expected'\n",
    "testProb2wpl = getError(path2,pathExpected)\n",
    "buildChartCompare(y=ticksY,x=testProb2wp,name='test-prob-1',x1=testProb2wpl,y1=ticksY)"
   ]
  },
  {
   "cell_type": "markdown",
   "metadata": {},
   "source": [
    "# TEST PROB 2"
   ]
  },
  {
   "cell_type": "code",
   "execution_count": 282,
   "metadata": {},
   "outputs": [
    {
     "name": "stdout",
     "output_type": "stream",
     "text": [
      "read file ./tests/testprob2chartcmm.out\n",
      "read file ./tests/test-prob-2.expected\n",
      "read file ./tests/testprob2chartwp.out\n",
      "read file ./tests/test-prob-2.expected\n"
     ]
    }
   ],
   "source": [
    "path = './tests/testprob2chartcmm.out'\n",
    "pathExpected = './tests/test-prob-2.expected'\n",
    "testProb2cmm = getError(path,pathExpected)\n",
    "path2 = './tests/testprob2chartwp.out'\n",
    "pathExpected = './tests/test-prob-2.expected'\n",
    "testProb2wp = getError(path2,pathExpected)\n",
    "buildChart(y=ticksY,x=testProb2cmm,name='test-prob-2',x1=testProb2wp,y1=ticksY)"
   ]
  },
  {
   "cell_type": "code",
   "execution_count": 284,
   "metadata": {},
   "outputs": [
    {
     "name": "stdout",
     "output_type": "stream",
     "text": [
      "read file ./tests/testprob2chartwpl.out\n",
      "read file ./tests/test-prob-2.expected\n"
     ]
    }
   ],
   "source": [
    "path2 = './tests/testprob2chartwpl.out'\n",
    "pathExpected = './tests/test-prob-2.expected'\n",
    "testProb2wpl = getError(path2,pathExpected)\n",
    "buildChartCompare(y=ticksY,x=testProb2wp,name='test-prob-2',x1=testProb2wpl,y1=ticksY)"
   ]
  },
  {
   "cell_type": "markdown",
   "metadata": {},
   "source": [
    "# TEST1"
   ]
  },
  {
   "cell_type": "code",
   "execution_count": 252,
   "metadata": {},
   "outputs": [
    {
     "name": "stdout",
     "output_type": "stream",
     "text": [
      "read file ./tests/test1chartcmm.out\n",
      "read file ./tests/test1.expected\n",
      "read file ./tests/test1chartwp.out\n",
      "read file ./tests/test1.expected\n"
     ]
    }
   ],
   "source": [
    "path = './tests/test1chartcmm.out'\n",
    "pathExpected = './tests/test1.expected'\n",
    "testProb2cmm = getError(path,pathExpected)\n",
    "path = './tests/test1chartwp.out'\n",
    "pathExpected = './tests/test1.expected'\n",
    "testProb2wp = getError(path,pathExpected)\n",
    "buildChart(y=ticksY,x=testProb2cmm,name='test1',x1=testProb2wp,y1=ticksY)"
   ]
  },
  {
   "cell_type": "code",
   "execution_count": null,
   "metadata": {},
   "outputs": [],
   "source": []
  }
 ],
 "metadata": {
  "kernelspec": {
   "display_name": "Python 3",
   "language": "python",
   "name": "python3"
  },
  "language_info": {
   "codemirror_mode": {
    "name": "ipython",
    "version": 3
   },
   "file_extension": ".py",
   "mimetype": "text/x-python",
   "name": "python",
   "nbconvert_exporter": "python",
   "pygments_lexer": "ipython3",
   "version": "3.7.6"
  }
 },
 "nbformat": 4,
 "nbformat_minor": 4
}
