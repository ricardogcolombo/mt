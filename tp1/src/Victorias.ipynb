{
 "cells": [
  {
   "cell_type": "code",
   "execution_count": 1,
   "metadata": {},
   "outputs": [
    {
     "data": {
      "text/html": [
       "        <script type=\"text/javascript\">\n",
       "        window.PlotlyConfig = {MathJaxConfig: 'local'};\n",
       "        if (window.MathJax) {MathJax.Hub.Config({SVG: {font: \"STIX-Web\"}});}\n",
       "        if (typeof require !== 'undefined') {\n",
       "        require.undef(\"plotly\");\n",
       "        requirejs.config({\n",
       "            paths: {\n",
       "                'plotly': ['https://cdn.plot.ly/plotly-latest.min']\n",
       "            }\n",
       "        });\n",
       "        require(['plotly'], function(Plotly) {\n",
       "            window._Plotly = Plotly;\n",
       "        });\n",
       "        }\n",
       "        </script>\n",
       "        "
      ]
     },
     "metadata": {},
     "output_type": "display_data"
    }
   ],
   "source": [
    "import numpy as np\n",
    "import pandas as pd\n",
    "import plotly as py\n",
    "import plotly.graph_objs as go\n",
    "import ipywidgets as widgets\n",
    "from scipy import special\n",
    "import plotly.offline as pyo\n",
    "py.offline.init_notebook_mode(connected=True)"
   ]
  },
  {
   "cell_type": "code",
   "execution_count": 5,
   "metadata": {},
   "outputs": [
    {
     "name": "stdout",
     "output_type": "stream",
     "text": [
      "/home/parallels/mt/src\n"
     ]
    }
   ],
   "source": [
    "!pwd"
   ]
  },
  {
   "cell_type": "code",
   "execution_count": 2,
   "metadata": {},
   "outputs": [],
   "source": [
    "def getRankings(path):\n",
    "    data=[]\n",
    "    with open(path) as file:\n",
    "        print(\"read file {0}\".format(path))\n",
    "        for i, line in enumerate(file):\n",
    "            d = float(line)\n",
    "            data.append(d)\n",
    "    return data"
   ]
  },
  {
   "cell_type": "code",
   "execution_count": 31,
   "metadata": {},
   "outputs": [
    {
     "name": "stdout",
     "output_type": "stream",
     "text": [
      "read file ./tests/victoriascmm.out\n",
      "read file ./tests/victoriascmm1.out\n",
      "read file ./tests/victoriascmm2.out\n",
      "read file ./tests/victoriascmm3.out\n"
     ]
    }
   ],
   "source": [
    "p0=getRankings('./tests_propios/victoriascmm.out')\n",
    "p1=getRankings('./tests_propios/victoriascmm1.out')\n",
    "p2=getRankings('./tests_propios/victoriascmm2.out')\n",
    "p3=getRankings('./tests_propios/victoriascmm3.out')"
   ]
  },
  {
   "cell_type": "code",
   "execution_count": 32,
   "metadata": {},
   "outputs": [],
   "source": [
    "x0= [p0[0]] +[p1[0]] +[p2[0]] +[p3[0]]\n",
    "x1= [p0[1]] +[p1[1]] +[p2[1]] +[p3[1]]\n",
    "x2= [p0[2]] +[p1[2]] +[p2[2]] +[p3[2]]\n",
    "x3= [p0[3]] +[p1[3]] +[p2[3]] +[p3[3]]\n",
    "x4= [p0[4]] +[p1[4]] +[p2[4]] +[p3[4]]\n",
    "x5= [p0[5]] +[p1[5]] +[p2[5]] +[p3[5]]"
   ]
  },
  {
   "cell_type": "code",
   "execution_count": 58,
   "metadata": {},
   "outputs": [],
   "source": [
    "tickXfont = dict(\n",
    "        font=dict(\n",
    "            family=\"Courier New\",\n",
    "            size=14,\n",
    "            color=\"#2a3f5f\")\n",
    "    )\n",
    "\n",
    "tickYfont = dict(\n",
    "    family=\"Courier New\",\n",
    "    size=14,\n",
    "    color=\"#2a3f5f\")\n",
    "\n",
    "xaxis=dict(\n",
    "    nticks=40,\n",
    "    tickfont=dict(size=10,family='Courier New'),\n",
    "    ticks='outside',\n",
    "    title=tickXfont,\n",
    "    showticklabels=True,\n",
    "    type=\"linear\",\n",
    "    visible=True,\n",
    "    rangemode=\"normal\",\n",
    "    color=\"#444\",\n",
    "    showexponent=\"all\",\n",
    "    separatethousands=False,\n",
    "    ticklen=5,\n",
    "    tickwidth=1,\n",
    "    tickcolor=\"#444\",\n",
    "    linewidth=1,\n",
    "    gridcolor=\"#EBF0F8\",\n",
    "    linecolor='#C5CED9',\n",
    "    gridwidth=1,\n",
    "    zerolinecolor=\"#EBF0F8\",\n",
    "    zerolinewidth=2,\n",
    "    zeroline=True,\n",
    "    automargin=True,\n",
    "    layer=\"above traces\",\n",
    "    fixedrange=False,\n",
    "    constrain=\"range\",\n",
    "    constraintoward=\"center\"\n",
    ")\n",
    "yaxis=dict(\n",
    "    tickfont=tickYfont,\n",
    "    ticks='outside')\n",
    "y = [1,2,3,4,5,6]\n",
    "fig = go.Figure(data=[\n",
    "        go.Scatter(y=x0,x=y,orientation='h',name='Equipo1'),\n",
    "        go.Scatter(y=x1,x=y,orientation='h',name='Equipo2'),     \n",
    "        go.Scatter(y=x2,x=y,orientation='h',name='Equipo3'),       \n",
    "        go.Scatter(y=x3,x=y,orientation='h',name='Equipo4'),\n",
    "        go.Scatter(y=x4,x=y,orientation='h',name='Equipo5'),\n",
    "        go.Scatter(y=x5,x=y,orientation='h',name='Equipo6')\n",
    "])\n",
    "fig.update_layout(title='CMM Ganandole siempre al primero',yaxis_title=\"Ranking\",xaxis_title='# partidos', plot_bgcolor='#FFF',xaxis=xaxis,yaxis2=yaxis)\n",
    "fig.write_html('victorias.html', auto_open=True)"
   ]
  },
  {
   "cell_type": "markdown",
   "metadata": {},
   "source": [
    "# ANALISIS WP"
   ]
  },
  {
   "cell_type": "code",
   "execution_count": 61,
   "metadata": {},
   "outputs": [
    {
     "ename": "FileNotFoundError",
     "evalue": "[Errno 2] No such file or directory: './test_propios/victoriaswp0.out'",
     "output_type": "error",
     "traceback": [
      "\u001b[0;31m---------------------------------------------------------------------------\u001b[0m",
      "\u001b[0;31mFileNotFoundError\u001b[0m                         Traceback (most recent call last)",
      "\u001b[0;32m<ipython-input-61-988c69eab304>\u001b[0m in \u001b[0;36m<module>\u001b[0;34m\u001b[0m\n\u001b[0;32m----> 1\u001b[0;31m \u001b[0mp0\u001b[0m\u001b[0;34m=\u001b[0m\u001b[0mgetRankings\u001b[0m\u001b[0;34m(\u001b[0m\u001b[0;34m'./test_propios/victoriaswp0.out'\u001b[0m\u001b[0;34m)\u001b[0m\u001b[0;34m\u001b[0m\u001b[0;34m\u001b[0m\u001b[0m\n\u001b[0m\u001b[1;32m      2\u001b[0m \u001b[0mp1\u001b[0m\u001b[0;34m=\u001b[0m\u001b[0mgetRankings\u001b[0m\u001b[0;34m(\u001b[0m\u001b[0;34m'./test_propios/victoriaswp1.out'\u001b[0m\u001b[0;34m)\u001b[0m\u001b[0;34m\u001b[0m\u001b[0;34m\u001b[0m\u001b[0m\n\u001b[1;32m      3\u001b[0m \u001b[0mp2\u001b[0m\u001b[0;34m=\u001b[0m\u001b[0mgetRankings\u001b[0m\u001b[0;34m(\u001b[0m\u001b[0;34m'./test_propios/victoriaswp2.out'\u001b[0m\u001b[0;34m)\u001b[0m\u001b[0;34m\u001b[0m\u001b[0;34m\u001b[0m\u001b[0m\n\u001b[1;32m      4\u001b[0m \u001b[0mp3\u001b[0m\u001b[0;34m=\u001b[0m\u001b[0mgetRankings\u001b[0m\u001b[0;34m(\u001b[0m\u001b[0;34m'./test_propios/victoriaswp3.out'\u001b[0m\u001b[0;34m)\u001b[0m\u001b[0;34m\u001b[0m\u001b[0;34m\u001b[0m\u001b[0m\n\u001b[1;32m      5\u001b[0m \u001b[0mp4\u001b[0m\u001b[0;34m=\u001b[0m\u001b[0mgetRankings\u001b[0m\u001b[0;34m(\u001b[0m\u001b[0;34m'./test_propios/victoriaswp4.out'\u001b[0m\u001b[0;34m)\u001b[0m\u001b[0;34m\u001b[0m\u001b[0;34m\u001b[0m\u001b[0m\n",
      "\u001b[0;32m<ipython-input-2-7f79e69344a9>\u001b[0m in \u001b[0;36mgetRankings\u001b[0;34m(path)\u001b[0m\n\u001b[1;32m      1\u001b[0m \u001b[0;32mdef\u001b[0m \u001b[0mgetRankings\u001b[0m\u001b[0;34m(\u001b[0m\u001b[0mpath\u001b[0m\u001b[0;34m)\u001b[0m\u001b[0;34m:\u001b[0m\u001b[0;34m\u001b[0m\u001b[0;34m\u001b[0m\u001b[0m\n\u001b[1;32m      2\u001b[0m     \u001b[0mdata\u001b[0m\u001b[0;34m=\u001b[0m\u001b[0;34m[\u001b[0m\u001b[0;34m]\u001b[0m\u001b[0;34m\u001b[0m\u001b[0;34m\u001b[0m\u001b[0m\n\u001b[0;32m----> 3\u001b[0;31m     \u001b[0;32mwith\u001b[0m \u001b[0mopen\u001b[0m\u001b[0;34m(\u001b[0m\u001b[0mpath\u001b[0m\u001b[0;34m)\u001b[0m \u001b[0;32mas\u001b[0m \u001b[0mfile\u001b[0m\u001b[0;34m:\u001b[0m\u001b[0;34m\u001b[0m\u001b[0;34m\u001b[0m\u001b[0m\n\u001b[0m\u001b[1;32m      4\u001b[0m         \u001b[0mprint\u001b[0m\u001b[0;34m(\u001b[0m\u001b[0;34m\"read file {0}\"\u001b[0m\u001b[0;34m.\u001b[0m\u001b[0mformat\u001b[0m\u001b[0;34m(\u001b[0m\u001b[0mpath\u001b[0m\u001b[0;34m)\u001b[0m\u001b[0;34m)\u001b[0m\u001b[0;34m\u001b[0m\u001b[0;34m\u001b[0m\u001b[0m\n\u001b[1;32m      5\u001b[0m         \u001b[0;32mfor\u001b[0m \u001b[0mi\u001b[0m\u001b[0;34m,\u001b[0m \u001b[0mline\u001b[0m \u001b[0;32min\u001b[0m \u001b[0menumerate\u001b[0m\u001b[0;34m(\u001b[0m\u001b[0mfile\u001b[0m\u001b[0;34m)\u001b[0m\u001b[0;34m:\u001b[0m\u001b[0;34m\u001b[0m\u001b[0;34m\u001b[0m\u001b[0m\n",
      "\u001b[0;31mFileNotFoundError\u001b[0m: [Errno 2] No such file or directory: './test_propios/victoriaswp0.out'"
     ]
    }
   ],
   "source": [
    "p0=getRankings('./test_propios/victoriaswp0.out')\n",
    "p1=getRankings('./test_propios/victoriaswp1.out')\n",
    "p2=getRankings('./test_propios/victoriaswp2.out')\n",
    "p3=getRankings('./test_propios/victoriaswp3.out')\n",
    "p4=getRankings('./test_propios/victoriaswp4.out')\n",
    "p5=getRankings('./test_propios/victoriaswp5.out')"
   ]
  },
  {
   "cell_type": "code",
   "execution_count": 49,
   "metadata": {},
   "outputs": [],
   "source": [
    "x0= [p0[0]] +[p1[0]] +[p2[0]] +[p3[0]]+[p4[0]]+[p5[0]]\n",
    "x1= [p0[1]] +[p1[1]] +[p2[1]] +[p3[1]]+[p4[1]]+[p5[1]]\n",
    "x2= [p0[2]] +[p1[2]] +[p2[2]] +[p3[2]]+[p4[2]]+[p5[2]]\n",
    "x3= [p0[3]] +[p1[3]] +[p2[3]] +[p3[3]]+[p4[3]]+[p5[3]]\n",
    "x4= [p0[4]] +[p1[4]] +[p2[4]] +[p3[4]]+[p4[4]]+[p5[4]]\n",
    "x5= [p0[5]] +[p1[5]] +[p2[5]] +[p3[5]]+[p4[5]]+[p5[5]]"
   ]
  },
  {
   "cell_type": "code",
   "execution_count": 59,
   "metadata": {},
   "outputs": [],
   "source": [
    "tickXfont = dict(\n",
    "        font=dict(\n",
    "            family=\"Courier New\",\n",
    "            size=14,\n",
    "            color=\"#2a3f5f\"),\n",
    "        text='# partido'\n",
    "    )\n",
    "titleYfont = dict(\n",
    "    font=dict(\n",
    "        family=\"Courier New\",\n",
    "        size=14,\n",
    "        color=\"#2a3f5f\"),\n",
    "    text='valor cmm'\n",
    ")\n",
    "tickYfont = dict(\n",
    "    family=\"Courier New\",\n",
    "    size=14,\n",
    "    color=\"#2a3f5f\")\n",
    "\n",
    "xaxis=dict(\n",
    "    nticks=40,\n",
    "    tickfont=dict(size=10,family='Courier New'),\n",
    "    ticks='outside',\n",
    "    title=tickXfont,\n",
    "    exponentformat=\"power\",\n",
    "    showticklabels=True,\n",
    "    type=\"linear\",\n",
    "    visible=True,\n",
    "    rangemode=\"normal\",\n",
    "    color=\"#444\",\n",
    "    showexponent=\"all\",\n",
    "    separatethousands=False,\n",
    "    ticklen=5,\n",
    "    tickwidth=1,\n",
    "    tickcolor=\"#444\",\n",
    "    linewidth=1,\n",
    "    gridcolor=\"#EBF0F8\",\n",
    "    linecolor='#C5CED9',\n",
    "    gridwidth=1,\n",
    "    zerolinecolor=\"#EBF0F8\",\n",
    "    zerolinewidth=2,\n",
    "    zeroline=True,\n",
    "    automargin=True,\n",
    "    layer=\"above traces\",\n",
    "    fixedrange=False,\n",
    "    constrain=\"range\",\n",
    "    constraintoward=\"center\"\n",
    ")\n",
    "yaxis=dict(\n",
    "    tickfont=tickYfont,\n",
    "    ticks='outside',\n",
    "    title=titleYfont\n",
    ")\n",
    "y = [1,2,3,4,5,6]\n",
    "fig = go.Figure(data=[\n",
    "        go.Scatter(y=x0,x=y,orientation='h',name='Equipo1'),\n",
    "        go.Scatter(y=x1,x=y,orientation='h',name='Equipo2'),     \n",
    "        go.Scatter(y=x2,x=y,orientation='h',name='Equipo3'),       \n",
    "        go.Scatter(y=x3,x=y,orientation='h',name='Equipo4'),\n",
    "        go.Scatter(y=x4,x=y,orientation='h',name='Equipo5'),\n",
    "        go.Scatter(y=x5,x=y,orientation='h',name='Equipo6')\n",
    "])\n",
    "fig.update_layout(title='WP Ganandole siempre al primero', yaxis_title=\"Ranking\",plot_bgcolor='#FFF',xaxis=xaxis,yaxis2=yaxis)\n",
    "fig.write_html('victorias.html', auto_open=True)"
   ]
  },
  {
   "cell_type": "code",
   "execution_count": null,
   "metadata": {},
   "outputs": [],
   "source": []
  }
 ],
 "metadata": {
  "kernelspec": {
   "display_name": "Python 3",
   "language": "python",
   "name": "python3"
  },
  "language_info": {
   "codemirror_mode": {
    "name": "ipython",
    "version": 3
   },
   "file_extension": ".py",
   "mimetype": "text/x-python",
   "name": "python",
   "nbconvert_exporter": "python",
   "pygments_lexer": "ipython3",
   "version": "3.7.7"
  }
 },
 "nbformat": 4,
 "nbformat_minor": 4
}
