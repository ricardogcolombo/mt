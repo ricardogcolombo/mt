{
 "cells": [
  {
   "cell_type": "code",
   "execution_count": 1,
   "metadata": {},
   "outputs": [
    {
     "name": "stdout",
     "output_type": "stream",
     "text": [
      "mkdir: cannot create directory ‘build’: File exists\n",
      "-- The C compiler identification is GNU 9.3.0\n",
      "-- The CXX compiler identification is GNU 9.3.0\n",
      "-- Detecting C compiler ABI info\n",
      "-- Detecting C compiler ABI info - done\n",
      "-- Check for working C compiler: /usr/bin/cc - skipped\n",
      "-- Detecting C compile features\n",
      "-- Detecting C compile features - done\n",
      "-- Detecting CXX compiler ABI info\n",
      "-- Detecting CXX compiler ABI info - done\n",
      "-- Check for working CXX compiler: /usr/bin/c++ - skipped\n",
      "-- Detecting CXX compile features\n",
      "-- Detecting CXX compile features - done\n",
      "Release mode\n",
      "-- Found PythonInterp: /home/jazzer/.pyenv/versions/3.6.10/bin/python (found version \"3.6.10\") \n",
      "-- Found PythonLibs: /home/jazzer/.pyenv/versions/3.6.10/lib/libpython3.6m.a\n",
      "-- pybind11 v2.2.4\n",
      "-- Performing Test HAS_FLTO\n",
      "-- Performing Test HAS_FLTO - Success\n",
      "-- LTO enabled\n",
      "CMAKE_INSTALL_PREFIX=/home/jazzer/Facultad/metodos_numericos_3/mt/tp3\n",
      "-- Configuring done\n",
      "-- Generating done\n",
      "-- Build files have been written to: /home/jazzer/Facultad/metodos_numericos_3/mt/tp3/build\n",
      "\u001b[35m\u001b[1mScanning dependencies of target metnum\u001b[0m\n",
      "[ 33%] \u001b[32mBuilding CXX object CMakeFiles/metnum.dir/src/metnum.cpp.o\u001b[0m\n",
      "[ 66%] \u001b[32mBuilding CXX object CMakeFiles/metnum.dir/src/linear_regression.cpp.o\u001b[0m\n",
      "[100%] \u001b[32m\u001b[1mLinking CXX shared module metnum.cpython-36m-x86_64-linux-gnu.so\u001b[0m\n",
      "[100%] Built target metnum\n",
      "\u001b[36mInstall the project...\u001b[0m\n",
      "-- Install configuration: \"Release\"\n",
      "-- Installing: /home/jazzer/Facultad/metodos_numericos_3/mt/tp3/notebooks/metnum.cpython-36m-x86_64-linux-gnu.so\n"
     ]
    }
   ],
   "source": [
    "!cd .. && mkdir build\n",
    "!cd ../build/ && rm -rf *\n",
    "!cd ../build && cmake \\\n",
    "  -DPYTHON_EXECUTABLE=\"$(which python)\" \\\n",
    "  -DCMAKE_BUILD_TYPE=Release ..\n",
    "!cd ../build && make install"
   ]
  },
  {
   "cell_type": "code",
   "execution_count": 2,
   "metadata": {},
   "outputs": [],
   "source": [
    "import pandas as pd\n",
    "import numpy as np\n",
    "\n",
    "import seaborn as sns\n",
    "import matplotlib.pyplot as plt"
   ]
  },
  {
   "cell_type": "code",
   "execution_count": 3,
   "metadata": {},
   "outputs": [
    {
     "name": "stdout",
     "output_type": "stream",
     "text": [
      "/home/jazzer/Facultad/metodos_numericos_3/mt/tp3/notebooks\n",
      "Python 3.6.10\n"
     ]
    }
   ],
   "source": [
    "# Verifico la correcta instalación. Si no falla el import está OK\n",
    "!pwd\n",
    "!python --version\n",
    "import metnum\n"
   ]
  },
  {
   "cell_type": "code",
   "execution_count": 4,
   "metadata": {},
   "outputs": [],
   "source": [
    "df = pd.read_csv('../data/train.csv')"
   ]
  },
  {
   "cell_type": "code",
   "execution_count": 5,
   "metadata": {},
   "outputs": [],
   "source": [
    "df = df[df['ciudad']=='Mérida'].dropna()"
   ]
  },
  {
   "cell_type": "code",
   "execution_count": 30,
   "metadata": {},
   "outputs": [],
   "source": [
    "x = df[['metroscubiertos']].values"
   ]
  },
  {
   "cell_type": "code",
   "execution_count": 31,
   "metadata": {},
   "outputs": [],
   "source": [
    "y = df['precio'].values"
   ]
  },
  {
   "cell_type": "code",
   "execution_count": 32,
   "metadata": {},
   "outputs": [],
   "source": [
    "x = x.reshape(len(x),1)\n",
    "y = y.reshape(len(y),1)"
   ]
  },
  {
   "cell_type": "code",
   "execution_count": 33,
   "metadata": {},
   "outputs": [
    {
     "data": {
      "text/plain": [
       "(518, 1)"
      ]
     },
     "execution_count": 33,
     "metadata": {},
     "output_type": "execute_result"
    }
   ],
   "source": [
    "x.shape"
   ]
  },
  {
   "cell_type": "code",
   "execution_count": 34,
   "metadata": {},
   "outputs": [],
   "source": [
    "from sklearn.linear_model import LinearRegression\n",
    "\n",
    "\"\"\"\n",
    "Reemplazar por nuestra implementación \n",
    "\"\"\"\n",
    "\n",
    "#linear_regressor = LinearRegression()\n",
    "linear_regressor = metnum.LinearRegression()\n",
    "\n",
    "linear_regressor.fit(x,y)"
   ]
  },
  {
   "cell_type": "code",
   "execution_count": 35,
   "metadata": {},
   "outputs": [],
   "source": [
    "df['prediction'] = linear_regressor.predict(x)"
   ]
  },
  {
   "cell_type": "code",
   "execution_count": 36,
   "metadata": {},
   "outputs": [
    {
     "data": {
      "text/plain": [
       "<matplotlib.axes._subplots.AxesSubplot at 0x7f2707a50780>"
      ]
     },
     "execution_count": 36,
     "metadata": {},
     "output_type": "execute_result"
    },
    {
     "data": {
      "image/png": "[encoded data removed]",
      "text/plain": [
       "<Figure size 432x288 with 1 Axes>"
      ]
     },
     "metadata": {
      "needs_background": "light"
     },
     "output_type": "display_data"
    }
   ],
   "source": [
    "sns.scatterplot(data=df, x='metroscubiertos', y='precio')\n",
    "sns.lineplot(data=df, x='metroscubiertos', y='prediction', color='red')\n"
   ]
  },
  {
   "cell_type": "code",
   "execution_count": 71,
   "metadata": {},
   "outputs": [
    {
     "name": "stdout",
     "output_type": "stream",
     "text": [
      "/home/jazzer/Facultad/metodos_numericos_3/mt/tp3/notebooks\n",
      "Python 3.6.10\n",
      "0.7\n",
      "\n",
      "--------------\n",
      "\n",
      "0.7999999999999999\n",
      "\n",
      "--------------\n",
      "\n",
      "0.8999999999999999\n",
      "\n",
      "--------------\n",
      "\n",
      "0.9999999999999999\n",
      "\n",
      "--------------\n",
      "\n",
      "{'rmse': [0.2870927295996959, 0.2870278414920376, 0.28668753201300146, 0.9210125674450729], 'rmsle': [0.11661798652200035, 0.11660243323392647, 0.11646828499414043, 0.3667313247576295], 'percentage_of_train_cases': [0.7, 0.7999999999999999, 0.8999999999999999, 0.9999999999999999]}\n"
     ]
    },
    {
     "data": {
      "image/png": "[encoded data removed]",
      "text/plain": [
       "<Figure size 432x288 with 1 Axes>"
      ]
     },
     "metadata": {
      "needs_background": "light"
     },
     "output_type": "display_data"
    }
   ],
   "source": [
    "\n",
    "import pandas as pd\n",
    "import numpy as np\n",
    "import time\n",
    "import math\n",
    "import seaborn as sns\n",
    "import matplotlib.pyplot as plt\n",
    "import os\n",
    "from sklearn.metrics import *\n",
    "\n",
    "!pwd\n",
    "!python --version\n",
    "import metnum\n",
    "\n",
    "def calculate_metrics(variable_to_predict, df):\n",
    "    df = df[df['prediction'].notna()]\n",
    "    return (math.sqrt(mean_squared_error(df[variable_to_predict], df['prediction'])),\n",
    "            math.sqrt(mean_squared_log_error(df[variable_to_predict]+1, df['prediction']+1)))\n",
    "\n",
    "\n",
    "def experiment(percentage_of_training_cases,\n",
    "         variable_to_predict,\n",
    "         variables_to_study,\n",
    "         seed, \n",
    "         df,\n",
    "         data):\n",
    "    \n",
    "    TOTAL_TRAIN_CASES = int(percentage_of_training_cases*len(df))\n",
    "\n",
    "    df = df[0:].sample(frac=1, random_state=seed)\n",
    "    \n",
    "    #cleanup\n",
    "    df = df[df[variable_to_predict].notna()]\n",
    "    for var in variables_to_study:\n",
    "        df = df[df[var].notna()]\n",
    "    \n",
    "    df_prediction = df[TOTAL_TRAIN_CASES:].copy()\n",
    "    df = df[:TOTAL_TRAIN_CASES]\n",
    "    \n",
    "#     print('length df: '+ str(len(df)))\n",
    "#     print('length df_prediction: '+ str(len(df_prediction)))\n",
    "#     print(df['lat'].sort_values().unique())\n",
    "#     print(df['piscina'].unique()) \n",
    "#     print(df[df['lat'].isnull()])\n",
    "#     print(df[df['piscina'].isnull()])\n",
    "\n",
    "    x_train, y_train = df[variables_to_study].values, df[variable_to_predict].values\n",
    "    x_predict, y_predict = df_prediction[variables_to_study].values, df_prediction[variable_to_predict].values\n",
    "    \n",
    "    x_train = x_train.reshape(len(x_train),len(variables_to_study))\n",
    "    y_train = y_train.reshape(len(y_train),1)\n",
    "    x_predict = x_predict.reshape(len(x_predict),len(variables_to_study))\n",
    "    y_predict = y_predict.reshape(len(y_predict),1)\n",
    "\n",
    "    linear_regressor = metnum.LinearRegression()\n",
    "    linear_regressor.fit(x_train, y_train)\n",
    "    df_prediction['prediction'] = linear_regressor.predict(x_predict)\n",
    "    \n",
    "    rmse, rmsle = calculate_metrics(variable_to_predict, df_prediction)\n",
    "    data['rmse'].append(rmse)\n",
    "    data['rmsle'].append(rmsle)\n",
    "    data['percentage_of_train_cases'].append(percentage_of_training_cases)\n",
    "    \n",
    "    if(len(variables_to_study)==1):\n",
    "        sns.scatterplot(data=df, x=variables_to_study[0], y=variable_to_predict)\n",
    "        sns.lineplot(data=df_prediction, x=variables_to_study[0], y='prediction', color='red')\n",
    "    elif(len(variables_to_study)==2):\n",
    "        fig = plt.figure(figsize=(20,10))\n",
    "        ax = fig.gca(projection='3d')\n",
    "        ax.set_xlabel('X', fontsize=15, rotation=150)\n",
    "        ax.set_ylabel('Y')\n",
    "        ax.set_zlabel(r'Z', fontsize=15)\n",
    "        ax.scatter(df_prediction[variables_to_study[0]],\n",
    "                   df_prediction[variables_to_study[1]],\n",
    "                   df_prediction['prediction'], c='skyblue', s=60)\n",
    "        ax.plot_trisurf(df_prediction[variables_to_study[0]], \n",
    "                        df_prediction[variables_to_study[1]], \n",
    "                        df_prediction['prediction'], cmap=plt.cm.viridis, linewidth=0.2)\n",
    "        plt.show()\n",
    "    return df_prediction\n",
    "    \n",
    "df = pd.read_csv('../data/train.csv')\n",
    "\n",
    "# print(df.info()) \n",
    "df = df[df['lat'].notna()]\n",
    "df = df[df['lat']<33]\n",
    "df = df[df['lat']>14]\n",
    "\n",
    "# df = df[df['ciudad']=='Mérida'].dropna()\n",
    "\n",
    "d = {'rmse' : [], 'rmsle' : [], 'percentage_of_train_cases' : []}\n",
    "\n",
    "folder='./test_{}'.format(int(time.time()))\n",
    "\n",
    "os.mkdir(folder)\n",
    "\n",
    "for i in np.arange(0.7, 1.0, 0.1):\n",
    "    print(i)\n",
    "    df_prediction = experiment(i, 'piscina', ['lat'], 666, df, d)\n",
    "    df_prediction.to_csv(folder+'/prediction'+'_'+str(i)+'.csv', encoding='utf-8', index=False)\n",
    "    print('\\n--------------\\n')\n",
    "    \n",
    "print(d)\n",
    "\n",
    "(pd.DataFrame(data=d)\n",
    "   .to_csv(folder+'/error.csv', encoding='utf-', index=False))\n"
   ]
  },
  {
   "cell_type": "code",
   "execution_count": null,
   "metadata": {},
   "outputs": [],
   "source": []
  }
 ],
 "metadata": {
  "kernelspec": {
   "display_name": "Python 3",
   "language": "python",
   "name": "python3"
  },
  "language_info": {
   "codemirror_mode": {
    "name": "ipython",
    "version": 3
   },
   "file_extension": ".py",
   "mimetype": "text/x-python",
   "name": "python",
   "nbconvert_exporter": "python",
   "pygments_lexer": "ipython3",
   "version": "3.6.10"
  }
 },
 "nbformat": 4,
 "nbformat_minor": 4
}
