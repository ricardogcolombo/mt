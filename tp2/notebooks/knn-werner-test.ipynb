{
 "cells": [
  {
   "cell_type": "markdown",
   "metadata": {},
   "source": [
    "# Reconocimiento de dígitos con KNN\n",
    "\n"
   ]
  },
  {
   "cell_type": "markdown",
   "metadata": {},
   "source": [
    "Definir los path al ejecutable de python 3.6 y sus librerías,\n",
    "de acuerdo al virtual env que estén corriendo."
   ]
  },
  {
   "cell_type": "code",
   "execution_count": 1,
   "metadata": {},
   "outputs": [
    {
     "name": "stdout",
     "output_type": "stream",
     "text": [
      "mkdir: cannot create directory ‘build’: File exists\n",
      "-- The C compiler identification is GNU 9.3.0\n",
      "-- The CXX compiler identification is GNU 9.3.0\n",
      "-- Check for working C compiler: /usr/bin/cc\n",
      "-- Check for working C compiler: /usr/bin/cc - works\n",
      "-- Detecting C compiler ABI info\n",
      "-- Detecting C compiler ABI info - done\n",
      "-- Detecting C compile features\n",
      "-- Detecting C compile features - done\n",
      "-- Check for working CXX compiler: /usr/bin/c++\n",
      "-- Check for working CXX compiler: /usr/bin/c++ - works\n",
      "-- Detecting CXX compiler ABI info\n",
      "-- Detecting CXX compiler ABI info - done\n",
      "-- Detecting CXX compile features\n",
      "-- Detecting CXX compile features - done\n",
      "Release mode\n",
      "-- Found PythonInterp: /home/jazzer/.pyenv/versions/3.6.5/bin/python (found version \"3.6.5\") \n",
      "-- Found PythonLibs: /home/jazzer/.pyenv/versions/3.6.5/lib/libpython3.6m.a\n",
      "-- pybind11 v2.2.4\n",
      "-- Performing Test HAS_FLTO\n",
      "-- Performing Test HAS_FLTO - Success\n",
      "-- LTO enabled\n",
      "CMAKE_INSTALL_PREFIX=/home/jazzer/Facultad/metodos_numericos/mt/tp2\n",
      "-- Configuring done\n",
      "-- Generating done\n",
      "-- Build files have been written to: /home/jazzer/Facultad/metodos_numericos/mt/tp2/build\n",
      "\u001b[35m\u001b[1mScanning dependencies of target tp2\u001b[0m\n",
      "[ 10%] \u001b[32mBuilding CXX object CMakeFiles/tp2.dir/src/main.cpp.o\u001b[0m\n",
      "[ 20%] \u001b[32mBuilding CXX object CMakeFiles/tp2.dir/src/knn.cpp.o\u001b[0m\n",
      "[ 30%] \u001b[32mBuilding CXX object CMakeFiles/tp2.dir/src/pca.cpp.o\u001b[0m\n",
      "[ 40%] \u001b[32mBuilding CXX object CMakeFiles/tp2.dir/src/eigen.cpp.o\u001b[0m\n",
      "[ 50%] \u001b[32m\u001b[1mLinking CXX executable tp2\u001b[0m\n",
      "[ 50%] Built target tp2\n",
      "\u001b[35m\u001b[1mScanning dependencies of target metnum\u001b[0m\n",
      "[ 60%] \u001b[32mBuilding CXX object CMakeFiles/metnum.dir/src/metnum.cpp.o\u001b[0m\n",
      "[ 70%] \u001b[32mBuilding CXX object CMakeFiles/metnum.dir/src/knn.cpp.o\u001b[0m\n",
      "[ 80%] \u001b[32mBuilding CXX object CMakeFiles/metnum.dir/src/pca.cpp.o\u001b[0m\n",
      "[ 90%] \u001b[32mBuilding CXX object CMakeFiles/metnum.dir/src/eigen.cpp.o\u001b[0m\n",
      "[100%] \u001b[32m\u001b[1mLinking CXX shared module metnum.cpython-36m-x86_64-linux-gnu.so\u001b[0m\n",
      "[100%] Built target metnum\n",
      "\u001b[36mInstall the project...\u001b[0m\n",
      "-- Install configuration: \"Release\"\n",
      "-- Installing: /home/jazzer/Facultad/metodos_numericos/mt/tp2/notebooks/metnum.cpython-36m-x86_64-linux-gnu.so\n",
      "/home/jazzer/Facultad/metodos_numericos/mt/tp2/notebooks\n",
      "Python 3.6.5\n"
     ]
    }
   ],
   "source": [
    "!cd .. && mkdir build\n",
    "!cd ../build/ && rm -rf *\n",
    "!cd ../build && cmake \\\n",
    "  -DPYTHON_EXECUTABLE=\"$(which python)\" \\\n",
    "  -DCMAKE_BUILD_TYPE=Release ..\n",
    "!cd ../build && make install\n",
    "\n",
    "# Verifico la correcta instalación. Si no falla el import está OK\n",
    "!pwd\n",
    "!python --version\n"
   ]
  },
  {
   "cell_type": "code",
   "execution_count": 9,
   "metadata": {},
   "outputs": [
    {
     "name": "stdout",
     "output_type": "stream",
     "text": [
      "The autoreload extension is already loaded. To reload it, use:\n",
      "  %reload_ext autoreload\n",
      "Ahora tengo 26880 instancias de entrenamiento y 6720 de validación\n"
     ]
    }
   ],
   "source": [
    "import matplotlib.pyplot as plt\n",
    "import pandas as pd\n",
    "import numpy as np\n",
    "import metnum as mt\n",
    "import datetime\n",
    "import os\n",
    "from datetime import datetime\n",
    "from sklearn.neighbors import KNeighborsClassifier\n",
    "from numpy import savetxt\n",
    "from sklearn.metrics import accuracy_score\n",
    "\n",
    "#percentage over total of train cases\n",
    "NUMBER_OF_TRAIN_CASES = 0.8\n",
    "#neighbors for finding the mode in KNN\n",
    "N_NEIGHBORS = 100\n",
    "#components for PCA\n",
    "N_COMPONENTS=40\n",
    "#number of iterations to find eigenvalues and eigenvectors in power iteration\n",
    "N_ITERATIONS=5000\n",
    "#epsilon for power iteration\n",
    "EPSILON=1e-10\n",
    "#directory for saving matrix files\n",
    "timestamp = datetime.now().strftime(\"%m_%d_%H_%M_%S\")\n",
    "DIRECTORY_NAME=\"{}\".format(timestamp)\n",
    "os.makedirs(DIRECTORY_NAME+\"/\", exist_ok=True)\n",
    "\n",
    "%load_ext autoreload\n",
    "%autoreload 2\n",
    "\n",
    "df_train = pd.read_csv(\"../data/train.csv\")\n",
    "\n",
    "TOTAL_TRAIN_CASES = int(NUMBER_OF_TRAIN_CASES*len(df_train))\n",
    "\n",
    "#shuffle the train cases.\n",
    "df_train = df_train[0: TOTAL_TRAIN_CASES].sample(frac=1)\n",
    "\n",
    "# Uso values para mandar todo a arrays de numpy\n",
    "X = df_train[df_train.columns[1:]].values\n",
    "y = df_train[\"label\"].values.reshape(-1, 1)\n",
    "\n",
    "limit = int(0.8 * X.shape[0]) \n",
    "\n",
    "X_train, y_train = X[:limit], y[:limit]\n",
    "X_val, y_val = X[limit:], y[limit:]\n",
    "\n",
    "assert len(X_train) == len(y_train)\n",
    "assert len(X_val) == len(y_val)\n",
    "\n",
    "print(f\"Ahora tengo {len(X_train)} instancias de entrenamiento y {len(X_val)} de validación\")"
   ]
  },
  {
   "cell_type": "markdown",
   "metadata": {},
   "source": [
    "### Opcional: guardamos las matrices de entrenamiento en un archivo si queremos reproducir el experimento"
   ]
  },
  {
   "cell_type": "code",
   "execution_count": 3,
   "metadata": {},
   "outputs": [],
   "source": [
    "savetxt('{}/X_train.csv'.format(DIRECTORY_NAME), X_train, delimiter=',')\n",
    "savetxt('{}/y_train.csv'.format(DIRECTORY_NAME), y_train, delimiter=',')\n",
    "savetxt('{}/X_val.csv'.format(DIRECTORY_NAME), X_val, delimiter=',')\n",
    "savetxt('{}/y_val.csv'.format(DIRECTORY_NAME), y_val, delimiter=',')"
   ]
  },
  {
   "cell_type": "markdown",
   "metadata": {},
   "source": [
    "## Testing sin PCA (raw data)"
   ]
  },
  {
   "cell_type": "markdown",
   "metadata": {},
   "source": [
    "### Entrenamos el dato con los test cases sin modificar y probamos su accuracy"
   ]
  },
  {
   "cell_type": "code",
   "execution_count": 4,
   "metadata": {},
   "outputs": [
    {
     "name": "stdout",
     "output_type": "stream",
     "text": [
      "Accuracy: 0.9083333333333333\n",
      "CPU times: user 4min 4s, sys: 1.71 s, total: 4min 6s\n",
      "Wall time: 4min 8s\n"
     ]
    }
   ],
   "source": [
    "%%time\n",
    "\n",
    "clf = mt.KNNClassifier(N_NEIGHBORS)\n",
    "\n",
    "clf.fit(X_train, y_train)\n",
    "y_pred = clf.predict(X_val[0:])\n",
    "acc = accuracy_score(y_val, y_pred)\n",
    "print(\"Accuracy: {}\".format(acc))\n"
   ]
  },
  {
   "cell_type": "markdown",
   "metadata": {},
   "source": [
    "### Ejemplo para probar la capacidad del modelo a mano."
   ]
  },
  {
   "cell_type": "code",
   "execution_count": 8,
   "metadata": {},
   "outputs": [
    {
     "name": "stdout",
     "output_type": "stream",
     "text": [
      "Prediction: 6 - Digit: 6\n"
     ]
    },
    {
     "data": {
      "image/png": "[encoded data removed]",
      "text/plain": [
       "<Figure size 432x288 with 1 Axes>"
      ]
     },
     "metadata": {
      "needs_background": "light"
     },
     "output_type": "display_data"
    }
   ],
   "source": [
    "random_example= 598\n",
    "\n",
    "img = X_val[random_example].reshape(28, 28)\n",
    "plt.imshow(img, cmap=\"Greys\")\n",
    "\n",
    "print(\"Prediction: {} - Digit: {}\".format( int(y_pred[random_example]), int(y_val[random_example])))"
   ]
  },
  {
   "cell_type": "markdown",
   "metadata": {},
   "source": [
    "## Testing con PCA"
   ]
  },
  {
   "cell_type": "markdown",
   "metadata": {},
   "source": [
    "### Usamos PCA para transformar la data"
   ]
  },
  {
   "cell_type": "code",
   "execution_count": 12,
   "metadata": {},
   "outputs": [
    {
     "name": "stdout",
     "output_type": "stream",
     "text": [
      "CPU times: user 6.26 s, sys: 424 ms, total: 6.68 s\n",
      "Wall time: 6.67 s\n"
     ]
    }
   ],
   "source": [
    "%%time\n",
    "pca = mt.PCA(N_COMPONENTS, N_ITERATIONS, EPSILON)\n",
    "pca.fit(X_train)\n",
    "\n",
    "X_train_pca, X_val_pca = pca.transform(X_train), pca.transform(X_val)\n"
   ]
  },
  {
   "cell_type": "markdown",
   "metadata": {},
   "source": [
    "### Opcional: guardamos las matrices de entrenamiento en un archivo si queremos reproducir el experimento"
   ]
  },
  {
   "cell_type": "code",
   "execution_count": 6,
   "metadata": {},
   "outputs": [],
   "source": [
    "savetxt('{}/X_train_pca.csv'.format(DIRECTORY_NAME), X_train_pca, delimiter=',')\n",
    "savetxt('{}/X_val_pca.csv'.format(DIRECTORY_NAME), X_val_pca, delimiter=',')"
   ]
  },
  {
   "cell_type": "markdown",
   "metadata": {},
   "source": [
    "### Entrenamos el modelo con la data de PCA y testeamos accuracy"
   ]
  },
  {
   "cell_type": "code",
   "execution_count": 13,
   "metadata": {},
   "outputs": [
    {
     "name": "stdout",
     "output_type": "stream",
     "text": [
      "Accuracy: 0.9367559523809523\n",
      "CPU times: user 32.3 s, sys: 227 ms, total: 32.5 s\n",
      "Wall time: 32.7 s\n"
     ]
    }
   ],
   "source": [
    "%%time\n",
    "clf = mt.KNNClassifier(N_NEIGHBORS)\n",
    "\n",
    "clf.fit(X_train_pca, y_train)\n",
    "\n",
    "y_pred = clf.predict(X_val_pca[0:])\n",
    "acc = accuracy_score(y_val, y_pred)\n",
    "print(\"Accuracy: {}\".format(acc))"
   ]
  },
  {
   "cell_type": "markdown",
   "metadata": {},
   "source": [
    "# Testeo automático moviendo parámetros"
   ]
  },
  {
   "cell_type": "code",
   "execution_count": 18,
   "metadata": {},
   "outputs": [
    {
     "name": "stdout",
     "output_type": "stream",
     "text": [
      "Train with 0.1 percent of test cases\n",
      "\n",
      "Accuracy: 0.8571428571428571\n",
      "Precision: [0.92682927 0.72413793 0.96052632 0.83561644 0.94594595 0.91666667\n",
      " 0.89361702 0.88421053 0.90140845 0.66666667]\n",
      "Recall: [0.95       0.98823529 0.74489796 0.83561644 0.79545455 0.88\n",
      " 0.89361702 0.85714286 0.79012346 0.85294118] s\n",
      "F1: [0.9382716  0.8358209  0.83908046 0.83561644 0.86419753 0.89795918\n",
      " 0.89361702 0.87046632 0.84210526 0.7483871 ]\n",
      "Kappa: -1\n",
      "Time: 5.797940731048584\n",
      "\n",
      "\n",
      "\n",
      "\n",
      "-----------\n",
      "\n",
      "Train with 0.2 percent of test cases\n",
      "\n",
      "Accuracy: 0.8888888888888888\n",
      "Precision: [0.94482759 0.81770833 0.95774648 0.86092715 0.93846154 0.87068966\n",
      " 0.95808383 0.93333333 0.92       0.75257732]\n",
      "Recall: [0.94482759 0.99367089 0.86075949 0.87248322 0.81879195 0.82113821\n",
      " 0.94117647 0.89171975 0.82142857 0.89570552] s\n",
      "F1: [0.94482759 0.89714286 0.90666667 0.86666667 0.87455197 0.84518828\n",
      " 0.9495549  0.91205212 0.86792453 0.81792717]\n",
      "Kappa: -1\n",
      "Time: 7.360612869262695\n",
      "\n",
      "\n",
      "\n",
      "\n",
      "-----------\n",
      "\n",
      "Train with 0.3 percent of test cases\n",
      "\n",
      "Accuracy: 0.9148351648351648\n",
      "Precision: [0.95673077 0.8488746  0.99038462 0.87817259 0.94285714 0.90163934\n",
      " 0.93488372 0.92511013 0.94764398 0.85897436]\n",
      "Recall: [0.97073171 0.9924812  0.89177489 0.87373737 0.88789238 0.91160221\n",
      " 0.96172249 0.90909091 0.83027523 0.90540541] s\n",
      "F1: [0.96368039 0.91507799 0.93849658 0.87594937 0.91454965 0.90659341\n",
      " 0.94811321 0.91703057 0.88508557 0.88157895]\n",
      "Kappa: -1\n",
      "Time: 9.316510677337646\n",
      "\n",
      "\n",
      "\n",
      "\n",
      "-----------\n",
      "\n",
      "Train with 0.3 percent of test cases\n",
      "\n",
      "Accuracy: 0.9268207282913166\n",
      "Precision: [0.96212121 0.85483871 0.98501873 0.92413793 0.94117647 0.93430657\n",
      " 0.94736842 0.94366197 0.94422311 0.86531987]\n",
      "Recall: [0.97318008 0.98452012 0.90689655 0.93379791 0.92086331 0.90780142\n",
      " 0.97122302 0.89036545 0.85251799 0.92446043] s\n",
      "F1: [0.96761905 0.91510791 0.9443447  0.92894281 0.93090909 0.92086331\n",
      " 0.95914742 0.91623932 0.89603025 0.89391304]\n",
      "Kappa: -1\n",
      "Time: 11.498815774917603\n",
      "\n",
      "\n",
      "\n",
      "\n",
      "-----------\n",
      "\n",
      "Train with 0.4 percent of test cases\n",
      "\n",
      "Accuracy: 0.9268707482993197\n",
      "Precision: [0.976      0.88314607 0.97394137 0.92702703 0.95       0.92808219\n",
      " 0.94946809 0.92937853 0.95065789 0.82857143]\n",
      "Recall: [0.97082228 0.99493671 0.91717791 0.90501319 0.9047619  0.89144737\n",
      " 0.97275204 0.93201133 0.83768116 0.92196532] s\n",
      "F1: [0.97340426 0.93571429 0.94470774 0.91588785 0.92682927 0.90939597\n",
      " 0.96096904 0.93069307 0.89060092 0.87277702]\n",
      "Kappa: -1\n",
      "Time: 14.61222767829895\n",
      "\n",
      "\n",
      "\n",
      "\n",
      "-----------\n",
      "\n",
      "Train with 0.5 percent of test cases\n",
      "\n",
      "Accuracy: 0.9285714285714286\n",
      "Precision: [0.9684466  0.86381323 0.97074468 0.93363844 0.95238095 0.91008174\n",
      " 0.93301435 0.94508009 0.94736842 0.88478261]\n",
      "Recall: [0.97317073 0.99328859 0.9057072  0.91071429 0.90909091 0.91758242\n",
      " 0.96296296 0.91982183 0.88235294 0.90848214] s\n",
      "F1: [0.97080292 0.92403746 0.93709884 0.9220339  0.93023256 0.91381669\n",
      " 0.94775213 0.93227991 0.91370558 0.89647577]\n",
      "Kappa: -1\n",
      "Time: 19.041990756988525\n",
      "\n",
      "\n",
      "\n",
      "\n",
      "-----------\n",
      "\n"
     ]
    }
   ],
   "source": [
    "import time\n",
    "import matplotlib.pyplot as plt\n",
    "import pandas as pd\n",
    "import numpy as np\n",
    "import metnum as mt\n",
    "import datetime\n",
    "import os\n",
    "from datetime import datetime\n",
    "from sklearn.neighbors import KNeighborsClassifier\n",
    "from numpy import savetxt\n",
    "from sklearn.metrics import *\n",
    "\n",
    "\n",
    "\n",
    "def pca_experiment(NUMBER_OF_TRAIN_CASES, N_NEIGHBORS, N_COMPONENTS, N_ITERATIONS, EPSILON):\n",
    "    \n",
    "    start = time.time()\n",
    "    df_train = pd.read_csv(\"../data/train.csv\")\n",
    "\n",
    "    TOTAL_TRAIN_CASES = int(NUMBER_OF_TRAIN_CASES*len(df_train))\n",
    "    #shuffle the train cases.\n",
    "    df_train = df_train[0: TOTAL_TRAIN_CASES].sample(frac=1)\n",
    "\n",
    "    # Uso values para mandar todo a arrays de numpy\n",
    "    X = df_train[df_train.columns[1:]].values\n",
    "    y = df_train[\"label\"].values.reshape(-1, 1)\n",
    "\n",
    "    limit = int(0.8 * X.shape[0]) \n",
    "\n",
    "    X_train, y_train = X[:limit], y[:limit]\n",
    "    X_val, y_val = X[limit:], y[limit:]\n",
    "    \n",
    "    pca = mt.PCA(N_COMPONENTS, N_ITERATIONS, EPSILON)\n",
    "    pca.fit(X_train)\n",
    "\n",
    "    X_train_pca, X_val_pca = pca.transform(X_train), pca.transform(X_val)\n",
    "    \n",
    "    clf = mt.KNNClassifier(N_NEIGHBORS)\n",
    "\n",
    "    clf.fit(X_train_pca, y_train)\n",
    "\n",
    "    y_pred = clf.predict(X_val_pca[0:])\n",
    "    acc = accuracy_score(y_val, y_pred)\n",
    "    precision = precision_score(y_val, y_pred, average=None)\n",
    "    recall = recall_score(y_val, y_pred, average=None)\n",
    "    f1 = f1_score(y_val, y_pred, average=None)\n",
    "    kappa = -1#kappa_score(y_val, y_pred, average=None)\n",
    "    return (acc, precision, recall, \n",
    "            f1, kappa, time.time() - start)\n",
    "\n",
    "\n",
    "\n",
    "def experiment_number_of_train_cases(NUMBER_OF_TRAIN_CASES_RANGE, \n",
    "                                     N_NEIGHBORS, N_COMPONENTS, \n",
    "                                     N_ITERATIONS, EPSILON):\n",
    "    \n",
    "    for NUMBER_OF_TRAIN_CASES in NUMBER_OF_TRAIN_CASES_RANGE:\n",
    "        print(\"Train with \"+str(round(NUMBER_OF_TRAIN_CASES,1))+\" percent of test cases\\n\")\n",
    "        (acc, precision, recall, \n",
    "        f1, kappa, time) =  pca_experiment(NUMBER_OF_TRAIN_CASES, N_NEIGHBORS, \n",
    "                                           N_COMPONENTS, N_ITERATIONS, EPSILON)\n",
    "        \n",
    "        print(\"Accuracy: {}\".format(acc))\n",
    "        print(\"Precision: {}\".format(precision))    \n",
    "        print(\"Recall: {} s\".format(recall))\n",
    "        print(\"F1: {}\".format(f1))    \n",
    "        print(\"Kappa: {}\".format(kappa))\n",
    "        print(\"Time: {}\".format(time)) \n",
    "        print(\"\\n-----------\\n\")\n",
    "\n",
    "        \n",
    "def main():\n",
    "    #percentage over total of train cases\n",
    "    NUMBER_OF_TRAIN_CASES = 0.5\n",
    "    #neighbors for finding the mode in KNN\n",
    "    N_NEIGHBORS = 100\n",
    "    #components for PCA\n",
    "    N_COMPONENTS=40\n",
    "    #number of iterations to find eigenvalues and eigenvectors in power iteration\n",
    "    N_ITERATIONS=5000\n",
    "    #epsilon for power iteration\n",
    "    EPSILON=1e-10\n",
    "    \n",
    "    experiment_number_of_train_cases(np.linspace(0.1,0.5,6), N_NEIGHBORS, \n",
    "                                     N_COMPONENTS, N_ITERATIONS, EPSILON)\n",
    "\n",
    "        \n",
    "    ##(acc, precision, recall, \n",
    "    ## f1, kappa, time) =  pca_experiment(NUMBER_OF_TRAIN_CASES, N_NEIGHBORS, N_COMPONENTS, N_ITERATIONS, EPSILON)\n",
    "    \n",
    "    #print(\"Accuracy: {}\".format(acc))\n",
    "    #print(\"Precision: {}\".format(precision))    \n",
    "    #print(\"Recall: {} s\".format(recall))\n",
    "    #print(\"F1: {}\".format(f1))    \n",
    "    #print(\"Kappa: {}\".format(kappa))\n",
    "    #print(\"Time: {}\".format(time))    \n",
    "\n",
    "main()\n"
   ]
  },
  {
   "cell_type": "code",
   "execution_count": null,
   "metadata": {},
   "outputs": [],
   "source": []
  }
 ],
 "metadata": {
  "kernelspec": {
   "display_name": "Python 3",
   "language": "python",
   "name": "python3"
  },
  "language_info": {
   "codemirror_mode": {
    "name": "ipython",
    "version": 3
   },
   "file_extension": ".py",
   "mimetype": "text/x-python",
   "name": "python",
   "nbconvert_exporter": "python",
   "pygments_lexer": "ipython3",
   "version": "3.6.5"
  }
 },
 "nbformat": 4,
 "nbformat_minor": 2
}
