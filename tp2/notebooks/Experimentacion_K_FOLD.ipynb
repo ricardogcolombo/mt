{
 "cells": [
  {
   "cell_type": "code",
   "execution_count": 1,
   "metadata": {},
   "outputs": [
    {
     "name": "stdout",
     "output_type": "stream",
     "text": [
      "Submodule 'tp2/eigen-git-mirror' (https://github.com/eigenteam/eigen-git-mirror) registered for path 'eigen'\n",
      "Submodule 'tp2/pybind11' (https://github.com/pybind/pybind11) registered for path 'pybind11'\n",
      "Submodule 'tp3/eigen' (https://gitlab.com/libeigen/eigen.git) registered for path '../tp3/eigen'\n",
      "Submodule 'tp3/pybind11' (https://github.com/pybind/pybind11.git) registered for path '../tp3/pybind11'\n",
      "Cloning into '/home/lisandro/Documents/mt/tp2/eigen'...\n",
      "Cloning into '/home/lisandro/Documents/mt/tp2/pybind11'...\n",
      "Cloning into '/home/lisandro/Documents/mt/tp3/eigen'...\n",
      "Cloning into '/home/lisandro/Documents/mt/tp3/pybind11'...\n",
      "Submodule path 'eigen': checked out 'cf794d3b741a6278df169e58461f8529f43bce5d'\n",
      "Submodule path 'pybind11': checked out '9a19306fbf30642ca331d0ec88e7da54a96860f9'\n",
      "Submodule path '../tp3/eigen': checked out '21ae2afd4edaa1b69782c67a54182d34efe43f9c'\n",
      "Submodule path '../tp3/pybind11': checked out '9a19306fbf30642ca331d0ec88e7da54a96860f9'\n",
      "-- The C compiler identification is GNU 9.3.0\n",
      "-- The CXX compiler identification is GNU 9.3.0\n",
      "-- Check for working C compiler: /usr/bin/cc\n",
      "-- Check for working C compiler: /usr/bin/cc -- works\n",
      "-- Detecting C compiler ABI info\n",
      "-- Detecting C compiler ABI info - done\n",
      "-- Detecting C compile features\n",
      "-- Detecting C compile features - done\n",
      "-- Check for working CXX compiler: /usr/bin/c++\n",
      "-- Check for working CXX compiler: /usr/bin/c++ -- works\n",
      "-- Detecting CXX compiler ABI info\n",
      "-- Detecting CXX compiler ABI info - done\n",
      "-- Detecting CXX compile features\n",
      "-- Detecting CXX compile features - done\n",
      "Release mode\n",
      "-- Found PythonInterp: /usr/bin/python3 (found version \"3.8.2\") \n",
      "-- Found PythonLibs: /usr/lib/x86_64-linux-gnu/libpython3.8.so\n",
      "-- pybind11 v2.2.4\n",
      "-- Performing Test HAS_FLTO\n",
      "-- Performing Test HAS_FLTO - Success\n",
      "-- LTO enabled\n",
      "CMAKE_INSTALL_PREFIX=/home/lisandro/Documents/mt/tp2\n",
      "-- Configuring done\n",
      "-- Generating done\n",
      "-- Build files have been written to: /home/lisandro/Documents/mt/tp2/build\n",
      "\u001b[35m\u001b[1mScanning dependencies of target tp2\u001b[0m\n",
      "[ 10%] \u001b[32mBuilding CXX object CMakeFiles/tp2.dir/src/main.cpp.o\u001b[0m\n",
      "[ 20%] \u001b[32mBuilding CXX object CMakeFiles/tp2.dir/src/knn.cpp.o\u001b[0m\n",
      "[ 30%] \u001b[32mBuilding CXX object CMakeFiles/tp2.dir/src/pca.cpp.o\u001b[0m\n",
      "[ 40%] \u001b[32mBuilding CXX object CMakeFiles/tp2.dir/src/eigen.cpp.o\u001b[0m\n",
      "[ 50%] \u001b[32m\u001b[1mLinking CXX executable tp2\u001b[0m\n",
      "[ 50%] Built target tp2\n",
      "\u001b[35m\u001b[1mScanning dependencies of target metnum\u001b[0m\n",
      "[ 60%] \u001b[32mBuilding CXX object CMakeFiles/metnum.dir/src/metnum.cpp.o\u001b[0m\n",
      "[ 70%] \u001b[32mBuilding CXX object CMakeFiles/metnum.dir/src/knn.cpp.o\u001b[0m\n",
      "[ 80%] \u001b[32mBuilding CXX object CMakeFiles/metnum.dir/src/pca.cpp.o\u001b[0m\n",
      "[ 90%] \u001b[32mBuilding CXX object CMakeFiles/metnum.dir/src/eigen.cpp.o\u001b[0m\n",
      "[100%] \u001b[32m\u001b[1mLinking CXX shared module metnum.cpython-38-x86_64-linux-gnu.so\u001b[0m\n",
      "[100%] Built target metnum\n",
      "\u001b[36mInstall the project...\u001b[0m\n",
      "-- Install configuration: \"Release\"\n",
      "-- Installing: /home/lisandro/Documents/mt/tp2/notebooks/metnum.cpython-38-x86_64-linux-gnu.so\n",
      "/home/lisandro/Documents/mt/tp2/notebooks\n",
      "Python 3.8.2\n"
     ]
    }
   ],
   "source": [
    "!cd .. && git submodule init\n",
    "!cd .. && git submodule update\n",
    "!cd .. && mkdir build\n",
    "!cd ../build/ && rm -rf *\n",
    "!cd ../build && cmake \\\n",
    "  -DPYTHON_EXECUTABLE=\"$(which python3)\" \\\n",
    "  -DCMAKE_BUILD_TYPE=Release ..\n",
    "!cd ../build && make install\n",
    "\n",
    "# Verifico la correcta instalación. Si no falla el import está OK\n",
    "!pwd\n",
    "!python3 --version"
   ]
  },
  {
   "cell_type": "code",
   "execution_count": 1,
   "metadata": {},
   "outputs": [],
   "source": [
    "import matplotlib.pyplot as plt\n",
    "import pandas as pd\n",
    "import numpy as np\n",
    "import metnum as mt\n",
    "import os\n",
    "import seaborn as sns\n",
    "from datetime import datetime\n",
    "from sklearn.neighbors import KNeighborsClassifier\n",
    "from sklearn.metrics import accuracy_score\n",
    "from sklearn.metrics import cohen_kappa_score"
   ]
  },
  {
   "cell_type": "code",
   "execution_count": 2,
   "metadata": {},
   "outputs": [
    {
     "name": "stdout",
     "output_type": "stream",
     "text": [
      "Ahora tengo 672 instancias de entrenamiento y 168 de validación\n"
     ]
    }
   ],
   "source": [
    "#percentage over total of train cases\n",
    "PERCENTAGE_OF_TRAIN_CASES = 0.02\n",
    "#neighbors for finding the mode in KNN\n",
    "N_NEIGHBORS = 1\n",
    "#components for PCA\n",
    "N_COMPONENTS=40\n",
    "#number of iterations to find eigenvalues and eigenvectors in power iteration\n",
    "N_ITERATIONS=5000\n",
    "#epsilon for power iteration\n",
    "EPSILON=1e-10\n",
    "#directory for saving matrix files\n",
    "timestamp = datetime.now().strftime(\"%m_%d_%H_%M_%S\")\n",
    "DIRECTORY_NAME=\"{}\".format(timestamp)\n",
    "os.makedirs(DIRECTORY_NAME+\"/\", exist_ok=True)\n",
    "\n",
    "%load_ext autoreload\n",
    "%autoreload 2\n",
    "\n",
    "df_train = pd.read_csv(\"../data/train.csv\")\n",
    "\n",
    "TOTAL_TRAIN_CASES = int(PERCENTAGE_OF_TRAIN_CASES*len(df_train))\n",
    "\n",
    "#shuffle the train cases.\n",
    "df_train = df_train[0: TOTAL_TRAIN_CASES].sample(frac=1)\n",
    "\n",
    "# Uso values para mandar todo a arrays de numpy\n",
    "X = df_train[df_train.columns[1:]].values\n",
    "y = df_train[\"label\"].values.reshape(-1, 1)\n",
    "\n",
    "limit = int(0.8 * X.shape[0]) \n",
    "\n",
    "X_train, y_train = X[:limit], y[:limit]\n",
    "X_val, y_val = X[limit:], y[limit:]\n",
    "\n",
    "assert len(X_train) == len(y_train)\n",
    "assert len(X_val) == len(y_val)\n",
    "\n",
    "print(f\"Ahora tengo {len(X_train)} instancias de entrenamiento y {len(X_val)} de validación\")"
   ]
  },
  {
   "cell_type": "code",
   "execution_count": 4,
   "metadata": {},
   "outputs": [
    {
     "name": "stdout",
     "output_type": "stream",
     "text": [
      "0.8928571428571429\n",
      "0.8800142840138079\n"
     ]
    }
   ],
   "source": [
    "#Individual Tests\n",
    "\n",
    "clf = mt.KNNClassifier(N_NEIGHBORS)\n",
    "clf.fit(X_train, y_train)\n",
    "y_pred = clf.predict(X_val)\n",
    "acc = accuracy_score(y_val, y_pred)\n",
    "cohen = cohen_kappa_score(y_val, y_pred)\n",
    "\n",
    "print(acc)\n",
    "print(cohen)\n",
    "\n"
   ]
  },
  {
   "cell_type": "markdown",
   "metadata": {},
   "source": [
    "## Experimentación 3-Fold cross-validation "
   ]
  },
  {
   "cell_type": "code",
   "execution_count": 97,
   "metadata": {},
   "outputs": [
    {
     "name": "stdout",
     "output_type": "stream",
     "text": [
      "CPU times: user 6h 53min 23s, sys: 36.3 s, total: 6h 53min 59s\n",
      "Wall time: 6h 52min 54s\n"
     ]
    },
    {
     "data": {
      "text/plain": [
       "<matplotlib.axes._subplots.AxesSubplot at 0x7fe6318e79d0>"
      ]
     },
     "execution_count": 97,
     "metadata": {},
     "output_type": "execute_result"
    },
    {
     "data": {
      "image/png": "[encoded data removed]",
      "text/plain": [
       "<Figure size 432x288 with 1 Axes>"
      ]
     },
     "metadata": {
      "needs_background": "light"
     },
     "output_type": "display_data"
    }
   ],
   "source": [
    "%%time\n",
    "#3-Fold Cross validation\n",
    "\n",
    "amount = X.shape[0] // k\n",
    "\n",
    "list_acc = []\n",
    "\n",
    "three_fold_df = {\n",
    "    'Number of neighbours':[1,3,5,7,9,11,13,15,25,35,45,55,65,75,85,95]\n",
    "}\n",
    "\n",
    "N_NEIGHBORS = 1\n",
    "\n",
    "accuracie_1 = []\n",
    "accuracie_2 = []\n",
    "accuracie_3 = []\n",
    "\n",
    "while N_NEIGHBORS < 100:\n",
    "    \n",
    "    for i in range (3):\n",
    "    \n",
    "        X_train, y_train = np.concatenate((X[0:amount*i],X[amount * (i+1):])), np.concatenate((y[0:amount*i],y[amount * (i+1):]))\n",
    "        X_val, y_val = X[amount*i:amount*(i+1)], y[amount*i:amount*(i+1)]\n",
    "    \n",
    "        clf = mt.KNNClassifier(N_NEIGHBORS)\n",
    "        clf.fit(X_train, y_train)\n",
    "        y_pred = clf.predict(X_val)\n",
    "        \n",
    "        acc = accuracy_score(y_val, y_pred)\n",
    "        \n",
    "        if(i == 0):\n",
    "            accuracie_1.append(acc)\n",
    "        elif(i == 1):\n",
    "            accuracie_2.append(acc)\n",
    "        else:\n",
    "            accuracie_3.append(acc)\n",
    "            \n",
    "    if(N_NEIGHBORS < 15):\n",
    "        N_NEIGHBORS = N_NEIGHBORS + 2\n",
    "    else:\n",
    "        N_NEIGHBORS = N_NEIGHBORS + 10\n",
    "            \n",
    "three_fold_df.setdefault('Iteration 1',accuracie_1)\n",
    "three_fold_df.setdefault('Iteration 2',accuracie_2)\n",
    "three_fold_df.setdefault('Iteration 3',accuracie_3)\n",
    "\n",
    "dfff = pd.DataFrame(three_fold_df)\n",
    "dfff.to_csv(\"3_fold\")\n",
    "\n",
    "sns.lineplot(data = dfff, x = 'Number of neighbours', y = \"Iteration 1\")\n",
    "sns.lineplot(data = dfff, x = 'Number of neighbours', y = \"Iteration 2\")\n",
    "sns.lineplot(data = dfff, x = 'Number of neighbours', y = \"Iteration 3\")"
   ]
  },
  {
   "cell_type": "code",
   "execution_count": 138,
   "metadata": {},
   "outputs": [
    {
     "data": {
      "text/plain": [
       "Text(0, 0.5, 'Accuracy')"
      ]
     },
     "execution_count": 138,
     "metadata": {},
     "output_type": "execute_result"
    },
    {
     "data": {
      "image/png": "[encoded data removed]",
      "text/plain": [
       "<Figure size 432x288 with 1 Axes>"
      ]
     },
     "metadata": {
      "needs_background": "light"
     },
     "output_type": "display_data"
    }
   ],
   "source": [
    "dfff.columns = ['Numero de vecinos','Iteración 1', 'Iteración 2', 'Iteración 3']\n",
    "\n",
    "pl = dfff.plot(x = \"Numero de vecinos\", y = ['Iteración 1', 'Iteración 2', 'Iteración 3'])\n",
    "pl.set_ylabel('Accuracy')\n"
   ]
  }
 ],
 "metadata": {
  "kernelspec": {
   "display_name": "Python 3",
   "language": "python",
   "name": "python3"
  },
  "language_info": {
   "codemirror_mode": {
    "name": "ipython",
    "version": 3
   },
   "file_extension": ".py",
   "mimetype": "text/x-python",
   "name": "python",
   "nbconvert_exporter": "python",
   "pygments_lexer": "ipython3",
   "version": "3.8.2"
  }
 },
 "nbformat": 4,
 "nbformat_minor": 4
}
