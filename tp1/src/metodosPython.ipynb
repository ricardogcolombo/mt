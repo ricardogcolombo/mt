{
 "cells": [
  {
   "cell_type": "markdown",
   "metadata": {},
   "source": [
    "# Codigo del tp Realizado con Python\n",
    "\n",
    "Creamos una clase instancia para poder guardar todo lo relativo con cada una de las instancias (archivos) de entrada, esta genera la matriz CMM , el vector b para la ecuacion Cb=r, para resolver esto es necesario crear una instancia de la clase usar\n",
    "`ins = Instancia(PATH_ARCHIVO,BOOL)` \n",
    "donde el primer parametro del contructor es el path del archivo y el segundo un bool que si es true le presta atencion a los empates, si no los ignora(el default es false y no hace falta enviarlo.\n",
    "por ej:\n",
    "`ins = Instancia(\"tests/tests_nuestros/testEmpate.in\",True)` o `ins = Instancia(\"tests/test1.in\")` . \n"
   ]
  },
  {
   "cell_type": "code",
   "execution_count": 10,
   "metadata": {},
   "outputs": [],
   "source": [
    "from base import Instancia, gauss"
   ]
  },
  {
   "cell_type": "markdown",
   "metadata": {},
   "source": [
    "# Contemos Empates"
   ]
  },
  {
   "cell_type": "markdown",
   "metadata": {},
   "source": [
    "##### Veamos en esta seccion que pasa si contamos empate sumandole como una victoria a cada uno"
   ]
  },
  {
   "cell_type": "code",
   "execution_count": 11,
   "metadata": {},
   "outputs": [
    {
     "ename": "FileNotFoundError",
     "evalue": "[Errno 2] No such file or directory: 'tests/tests_nuestros/testEmpate.in'",
     "output_type": "error",
     "traceback": [
      "\u001b[0;31m---------------------------------------------------------------------------\u001b[0m",
      "\u001b[0;31mFileNotFoundError\u001b[0m                         Traceback (most recent call last)",
      "\u001b[0;32m<ipython-input-11-4762d086005f>\u001b[0m in \u001b[0;36m<module>\u001b[0;34m\u001b[0m\n\u001b[0;32m----> 1\u001b[0;31m \u001b[0mins\u001b[0m \u001b[0;34m=\u001b[0m \u001b[0mInstancia\u001b[0m\u001b[0;34m(\u001b[0m\u001b[0;34m\"tests/tests_nuestros/testEmpate.in\"\u001b[0m\u001b[0;34m,\u001b[0m\u001b[0;32mTrue\u001b[0m\u001b[0;34m)\u001b[0m\u001b[0;34m\u001b[0m\u001b[0;34m\u001b[0m\u001b[0m\n\u001b[0m",
      "\u001b[0;32m~/mt/src/base.py\u001b[0m in \u001b[0;36m__init__\u001b[0;34m(self, csvfile, contarEmpates, empateSuma)\u001b[0m\n\u001b[1;32m     17\u001b[0m         \u001b[0mself\u001b[0m\u001b[0;34m.\u001b[0m\u001b[0mtotales\u001b[0m \u001b[0;34m=\u001b[0m \u001b[0;32mNone\u001b[0m\u001b[0;34m\u001b[0m\u001b[0;34m\u001b[0m\u001b[0m\n\u001b[1;32m     18\u001b[0m         \u001b[0mself\u001b[0m\u001b[0;34m.\u001b[0m\u001b[0mratings\u001b[0m\u001b[0;34m=\u001b[0m\u001b[0;32mNone\u001b[0m\u001b[0;34m\u001b[0m\u001b[0;34m\u001b[0m\u001b[0m\n\u001b[0;32m---> 19\u001b[0;31m         \u001b[0mf\u001b[0m \u001b[0;34m=\u001b[0m \u001b[0mopen\u001b[0m\u001b[0;34m(\u001b[0m\u001b[0mcsvfile\u001b[0m\u001b[0;34m,\u001b[0m \u001b[0;34m\"r\"\u001b[0m\u001b[0;34m)\u001b[0m\u001b[0;34m\u001b[0m\u001b[0;34m\u001b[0m\u001b[0m\n\u001b[0m\u001b[1;32m     20\u001b[0m         \u001b[0mi\u001b[0m\u001b[0;34m=\u001b[0m\u001b[0;36m0\u001b[0m\u001b[0;34m\u001b[0m\u001b[0;34m\u001b[0m\u001b[0m\n\u001b[1;32m     21\u001b[0m         \u001b[0;32mfor\u001b[0m \u001b[0mline\u001b[0m \u001b[0;32min\u001b[0m \u001b[0mlist\u001b[0m\u001b[0;34m(\u001b[0m\u001b[0mf\u001b[0m\u001b[0;34m)\u001b[0m\u001b[0;34m:\u001b[0m\u001b[0;34m\u001b[0m\u001b[0;34m\u001b[0m\u001b[0m\n",
      "\u001b[0;31mFileNotFoundError\u001b[0m: [Errno 2] No such file or directory: 'tests/tests_nuestros/testEmpate.in'"
     ]
    }
   ],
   "source": [
    "ins = Instancia(\"tests/tests_nuestros/testEmpate.in\",True)"
   ]
  },
  {
   "cell_type": "markdown",
   "metadata": {},
   "source": [
    "### veamos nuestra matriz CMM"
   ]
  },
  {
   "cell_type": "code",
   "execution_count": 266,
   "metadata": {},
   "outputs": [
    {
     "data": {
      "text/plain": [
       "array([[ 6., -0., -2., -2., -0., -0.],\n",
       "       [-0.,  6., -1., -0., -1., -2.],\n",
       "       [-2., -1.,  6., -1., -0., -0.],\n",
       "       [-2., -0., -1.,  7., -1., -1.],\n",
       "       [-0., -1., -0., -1.,  6., -2.],\n",
       "       [-0., -2., -0., -1., -2.,  7.]])"
      ]
     },
     "execution_count": 266,
     "metadata": {},
     "output_type": "execute_result"
    }
   ],
   "source": [
    "ins._cmm"
   ]
  },
  {
   "cell_type": "markdown",
   "metadata": {},
   "source": [
    "### veamos el total de enfrentamientos y partidos ganados entre equipos"
   ]
  },
  {
   "cell_type": "code",
   "execution_count": 267,
   "metadata": {},
   "outputs": [
    {
     "data": {
      "text/plain": [
       "array([[0., 0., 2., 2., 0., 0.],\n",
       "       [0., 0., 1., 0., 1., 2.],\n",
       "       [2., 1., 0., 1., 0., 0.],\n",
       "       [2., 0., 1., 0., 1., 1.],\n",
       "       [0., 1., 0., 1., 0., 2.],\n",
       "       [0., 2., 0., 1., 2., 0.]])"
      ]
     },
     "execution_count": 267,
     "metadata": {},
     "output_type": "execute_result"
    }
   ],
   "source": [
    "ins.enfrentamientos"
   ]
  },
  {
   "cell_type": "code",
   "execution_count": 268,
   "metadata": {},
   "outputs": [
    {
     "data": {
      "text/plain": [
       "array([[0., 0., 0., 1., 0., 0.],\n",
       "       [0., 0., 0., 0., 1., 0.],\n",
       "       [2., 1., 0., 1., 0., 0.],\n",
       "       [2., 0., 0., 0., 0., 1.],\n",
       "       [0., 0., 0., 1., 0., 0.],\n",
       "       [0., 2., 0., 0., 2., 0.]])"
      ]
     },
     "execution_count": 268,
     "metadata": {},
     "output_type": "execute_result"
    }
   ],
   "source": [
    "ins.ganados"
   ]
  },
  {
   "cell_type": "code",
   "execution_count": 269,
   "metadata": {},
   "outputs": [
    {
     "data": {
      "text/plain": [
       "array([0. , 0. , 3. , 1.5, 0. , 2.5])"
      ]
     },
     "execution_count": 269,
     "metadata": {},
     "output_type": "execute_result"
    }
   ],
   "source": [
    "ins.b"
   ]
  },
  {
   "cell_type": "code",
   "execution_count": 270,
   "metadata": {},
   "outputs": [],
   "source": [
    "# Resuelvo la ecuacion Cb=r para obtener raitings\n",
    "res = gauss(ins._cmm,ins.b)"
   ]
  },
  {
   "cell_type": "code",
   "execution_count": 271,
   "metadata": {},
   "outputs": [
    {
     "data": {
      "text/plain": [
       "array([[0.4912234 ],\n",
       "       [0.43803191],\n",
       "       [0.84202128],\n",
       "       [0.63164894],\n",
       "       [0.40797872],\n",
       "       [0.68909574]])"
      ]
     },
     "execution_count": 271,
     "metadata": {},
     "output_type": "execute_result"
    }
   ],
   "source": [
    "res"
   ]
  },
  {
   "cell_type": "markdown",
   "metadata": {},
   "source": [
    "## Misma instancia ignorando empates"
   ]
  },
  {
   "cell_type": "code",
   "execution_count": 272,
   "metadata": {},
   "outputs": [
    {
     "name": "stdout",
     "output_type": "stream",
     "text": [
      "['1', '1', '1', '4', '1']\n",
      "['1', '2', '38', '5', '17']\n",
      "gana 2\n",
      "['1', '2', '0', '6', '1']\n",
      "gana 6\n",
      "['1', '3', '34', '1', '21']\n",
      "gana 3\n",
      "['1', '3', '23', '4', '10']\n",
      "gana 3\n",
      "['1', '4', '31', '1', '6']\n",
      "gana 4\n",
      "['1', '5', '0', '6', '1']\n",
      "gana 6\n",
      "['1', '5', '38', '4', '23']\n",
      "gana 5\n",
      "['1', '6', '1', '2', '0']\n",
      "gana 6\n",
      "['1', '6', '1', '5', '0']\n",
      "gana 6\n",
      "['1', '4', '1', '6', '0']\n",
      "gana 4\n",
      "['1', '3', '1', '1', '0']\n",
      "gana 3\n",
      "['1', '3', '1', '2', '0']\n",
      "gana 3\n"
     ]
    }
   ],
   "source": [
    "ins2 = Instancia(\"tests/tests_nuestros/testEmpate.in\")"
   ]
  },
  {
   "cell_type": "code",
   "execution_count": 273,
   "metadata": {},
   "outputs": [
    {
     "data": {
      "text/plain": [
       "array([[0., 0., 2., 1., 0., 0.],\n",
       "       [0., 0., 1., 0., 1., 2.],\n",
       "       [2., 1., 0., 1., 0., 0.],\n",
       "       [1., 0., 1., 0., 1., 1.],\n",
       "       [0., 1., 0., 1., 0., 2.],\n",
       "       [0., 2., 0., 1., 2., 0.]])"
      ]
     },
     "execution_count": 273,
     "metadata": {},
     "output_type": "execute_result"
    }
   ],
   "source": [
    "ins2.enfrentamientos"
   ]
  },
  {
   "cell_type": "code",
   "execution_count": 282,
   "metadata": {},
   "outputs": [
    {
     "data": {
      "text/plain": [
       "array([[0., 0., 0., 0., 0., 0.],\n",
       "       [0., 0., 0., 0., 1., 0.],\n",
       "       [2., 1., 0., 1., 0., 0.],\n",
       "       [1., 0., 0., 0., 0., 1.],\n",
       "       [0., 0., 0., 1., 0., 0.],\n",
       "       [0., 2., 0., 0., 2., 0.]])"
      ]
     },
     "execution_count": 282,
     "metadata": {},
     "output_type": "execute_result"
    }
   ],
   "source": [
    "ins2.ganados"
   ]
  },
  {
   "cell_type": "code",
   "execution_count": 274,
   "metadata": {},
   "outputs": [],
   "source": [
    "res2=gauss(ins2._cmm,ins2.b)"
   ]
  },
  {
   "cell_type": "code",
   "execution_count": 275,
   "metadata": {},
   "outputs": [
    {
     "data": {
      "text/plain": [
       "array([[0.30455508],\n",
       "       [0.40483757],\n",
       "       [0.7545904 ],\n",
       "       [0.51359463],\n",
       "       [0.3704096 ],\n",
       "       [0.65201271]])"
      ]
     },
     "execution_count": 275,
     "metadata": {},
     "output_type": "execute_result"
    }
   ],
   "source": [
    "res2"
   ]
  },
  {
   "cell_type": "markdown",
   "metadata": {},
   "source": [
    "## Veamos que pasa si el empate resta"
   ]
  },
  {
   "cell_type": "code",
   "execution_count": 276,
   "metadata": {},
   "outputs": [
    {
     "name": "stdout",
     "output_type": "stream",
     "text": [
      "['1', '1', '1', '4', '1']\n",
      "empate1-4\n",
      "['1', '2', '38', '5', '17']\n",
      "gana 2\n",
      "['1', '2', '0', '6', '1']\n",
      "gana 6\n",
      "['1', '3', '34', '1', '21']\n",
      "gana 3\n",
      "['1', '3', '23', '4', '10']\n",
      "gana 3\n",
      "['1', '4', '31', '1', '6']\n",
      "gana 4\n",
      "['1', '5', '0', '6', '1']\n",
      "gana 6\n",
      "['1', '5', '38', '4', '23']\n",
      "gana 5\n",
      "['1', '6', '1', '2', '0']\n",
      "gana 6\n",
      "['1', '6', '1', '5', '0']\n",
      "gana 6\n",
      "['1', '4', '1', '6', '0']\n",
      "gana 4\n",
      "['1', '3', '1', '1', '0']\n",
      "gana 3\n",
      "['1', '3', '1', '2', '0']\n",
      "gana 3\n"
     ]
    }
   ],
   "source": [
    "ins3 = Instancia(\"tests/tests_nuestros/testEmpate.in\",True,False)"
   ]
  },
  {
   "cell_type": "code",
   "execution_count": 277,
   "metadata": {},
   "outputs": [],
   "source": [
    "res3=gauss(ins3._cmm,ins3.b)"
   ]
  },
  {
   "cell_type": "code",
   "execution_count": 278,
   "metadata": {},
   "outputs": [],
   "source": [
    "flatten = lambda l: [item for sublist in l for item in sublist]"
   ]
  },
  {
   "cell_type": "code",
   "execution_count": 279,
   "metadata": {},
   "outputs": [
    {
     "data": {
      "text/plain": [
       "Layout({\n",
       "    'barmode': 'group'\n",
       "})"
      ]
     },
     "execution_count": 279,
     "metadata": {},
     "output_type": "execute_result"
    }
   ],
   "source": [
    "resf=flatten(res)\n",
    "res2f=flatten(res2)\n",
    "res3f=flatten(res3)\n",
    "equipos=[1,2,3,4,5,6]\n",
    "fig = go.Figure(data=[\n",
    "    go.Bar(name='Sin contar empates', x=equipos, y=res2f),\n",
    "    go.Bar(name='Contando Empates que suman', x=equipos, y=resf),\n",
    "    go.Bar(name='Contando Empates que restan', x=equipos, y=res3f)\n",
    "])\n",
    "fig.layout.update(barmode='group')"
   ]
  },
  {
   "cell_type": "code",
   "execution_count": 280,
   "metadata": {},
   "outputs": [
    {
     "data": {
      "text/html": [
       "<script type=\"text/javascript\">window.PlotlyConfig = {MathJaxConfig: 'local'};</script><script type=\"text/javascript\">if (window.MathJax) {MathJax.Hub.Config({SVG: {font: \"STIX-Web\"}});}</script><script>requirejs.config({paths: { 'plotly': ['https://cdn.plot.ly/plotly-latest.min']},});if(!window._Plotly) {require(['plotly'],function(plotly) {window._Plotly=plotly;});}</script>"
      ],
      "text/vnd.plotly.v1+html": [
       "<script type=\"text/javascript\">window.PlotlyConfig = {MathJaxConfig: 'local'};</script><script type=\"text/javascript\">if (window.MathJax) {MathJax.Hub.Config({SVG: {font: \"STIX-Web\"}});}</script><script>requirejs.config({paths: { 'plotly': ['https://cdn.plot.ly/plotly-latest.min']},});if(!window._Plotly) {require(['plotly'],function(plotly) {window._Plotly=plotly;});}</script>"
      ]
     },
     "metadata": {},
     "output_type": "display_data"
    }
   ],
   "source": [
    "init_notebook_mode(connected=True)"
   ]
  },
  {
   "cell_type": "code",
   "execution_count": 281,
   "metadata": {},
   "outputs": [
    {
     "data": {
      "application/vnd.plotly.v1+json": {
       "config": {
        "linkText": "Export to plot.ly",
        "plotlyServerURL": "https://plot.ly",
        "showLink": false
       },
       "data": [
        {
         "name": "Sin contar empates",
         "type": "bar",
         "uid": "c941366d-c755-4147-abe3-79c14b83daca",
         "x": [
          1,
          2,
          3,
          4,
          5,
          6
         ],
         "y": [
          0.30455508474576265,
          0.4048375706214689,
          0.7545903954802259,
          0.5135946327683616,
          0.370409604519774,
          0.6520127118644068
         ]
        },
        {
         "name": "Contando Empates que suman",
         "type": "bar",
         "uid": "0eb424ea-0993-4446-a7aa-69318147a40b",
         "x": [
          1,
          2,
          3,
          4,
          5,
          6
         ],
         "y": [
          0.4912234042553192,
          0.4380319148936171,
          0.8420212765957447,
          0.6316489361702128,
          0.40797872340425534,
          0.6890957446808511
         ]
        },
        {
         "name": "Contando Empates que restan",
         "type": "bar",
         "uid": "0044c028-a551-4512-a76b-96fd33287eef",
         "x": [
          1,
          2,
          3,
          4,
          5,
          6
         ],
         "y": [
          0.17659574468085112,
          0.3680851063829788,
          0.6787234042553193,
          0.35106382978723405,
          0.32127659574468087,
          0.6042553191489362
         ]
        }
       ],
       "layout": {
        "autosize": true,
        "barmode": "group",
        "xaxis": {
         "autorange": true,
         "range": [
          0.5,
          6.5
         ],
         "type": "linear"
        },
        "yaxis": {
         "autorange": true,
         "range": [
          0,
          0.8863381858902575
         ],
         "type": "linear"
        }
       }
      },
      "image/png": "[encoded data removed]",
      "text/html": [
       "<div id=\"b606456b-1cf9-4657-bb58-a5035d27a4d4\" style=\"height: 525px; width: 100%;\" class=\"plotly-graph-div\"></div><script type=\"text/javascript\">require([\"plotly\"], function(Plotly) { window.PLOTLYENV=window.PLOTLYENV || {};window.PLOTLYENV.BASE_URL=\"https://plot.ly\";Plotly.newPlot(\"b606456b-1cf9-4657-bb58-a5035d27a4d4\", [{\"name\": \"Sin contar empates\", \"x\": [1, 2, 3, 4, 5, 6], \"y\": [0.30455508474576265, 0.4048375706214689, 0.7545903954802259, 0.5135946327683616, 0.370409604519774, 0.6520127118644068], \"type\": \"bar\", \"uid\": \"c941366d-c755-4147-abe3-79c14b83daca\"}, {\"name\": \"Contando Empates que suman\", \"x\": [1, 2, 3, 4, 5, 6], \"y\": [0.4912234042553192, 0.4380319148936171, 0.8420212765957447, 0.6316489361702128, 0.40797872340425534, 0.6890957446808511], \"type\": \"bar\", \"uid\": \"0eb424ea-0993-4446-a7aa-69318147a40b\"}, {\"name\": \"Contando Empates que restan\", \"x\": [1, 2, 3, 4, 5, 6], \"y\": [0.17659574468085112, 0.3680851063829788, 0.6787234042553193, 0.35106382978723405, 0.32127659574468087, 0.6042553191489362], \"type\": \"bar\", \"uid\": \"0044c028-a551-4512-a76b-96fd33287eef\"}], {\"barmode\": \"group\"}, {\"showLink\": false, \"linkText\": \"Export to plot.ly\", \"plotlyServerURL\": \"https://plot.ly\"})});</script><script type=\"text/javascript\">window.addEventListener(\"resize\", function(){window._Plotly.Plots.resize(document.getElementById(\"b606456b-1cf9-4657-bb58-a5035d27a4d4\"));});</script>"
      ],
      "text/vnd.plotly.v1+html": [
       "<div id=\"b606456b-1cf9-4657-bb58-a5035d27a4d4\" style=\"height: 525px; width: 100%;\" class=\"plotly-graph-div\"></div><script type=\"text/javascript\">require([\"plotly\"], function(Plotly) { window.PLOTLYENV=window.PLOTLYENV || {};window.PLOTLYENV.BASE_URL=\"https://plot.ly\";Plotly.newPlot(\"b606456b-1cf9-4657-bb58-a5035d27a4d4\", [{\"name\": \"Sin contar empates\", \"x\": [1, 2, 3, 4, 5, 6], \"y\": [0.30455508474576265, 0.4048375706214689, 0.7545903954802259, 0.5135946327683616, 0.370409604519774, 0.6520127118644068], \"type\": \"bar\", \"uid\": \"c941366d-c755-4147-abe3-79c14b83daca\"}, {\"name\": \"Contando Empates que suman\", \"x\": [1, 2, 3, 4, 5, 6], \"y\": [0.4912234042553192, 0.4380319148936171, 0.8420212765957447, 0.6316489361702128, 0.40797872340425534, 0.6890957446808511], \"type\": \"bar\", \"uid\": \"0eb424ea-0993-4446-a7aa-69318147a40b\"}, {\"name\": \"Contando Empates que restan\", \"x\": [1, 2, 3, 4, 5, 6], \"y\": [0.17659574468085112, 0.3680851063829788, 0.6787234042553193, 0.35106382978723405, 0.32127659574468087, 0.6042553191489362], \"type\": \"bar\", \"uid\": \"0044c028-a551-4512-a76b-96fd33287eef\"}], {\"barmode\": \"group\"}, {\"showLink\": false, \"linkText\": \"Export to plot.ly\", \"plotlyServerURL\": \"https://plot.ly\"})});</script><script type=\"text/javascript\">window.addEventListener(\"resize\", function(){window._Plotly.Plots.resize(document.getElementById(\"b606456b-1cf9-4657-bb58-a5035d27a4d4\"));});</script>"
      ]
     },
     "metadata": {},
     "output_type": "display_data"
    }
   ],
   "source": [
    "iplot(fig)"
   ]
  },
  {
   "cell_type": "markdown",
   "metadata": {},
   "source": [
    "#"
   ]
  }
 ],
 "metadata": {
  "kernelspec": {
   "display_name": "Python 3",
   "language": "python",
   "name": "python3"
  },
  "language_info": {
   "codemirror_mode": {
    "name": "ipython",
    "version": 3
   },
   "file_extension": ".py",
   "mimetype": "text/x-python",
   "name": "python",
   "nbconvert_exporter": "python",
   "pygments_lexer": "ipython3",
   "version": "3.7.7"
  }
 },
 "nbformat": 4,
 "nbformat_minor": 4
}
